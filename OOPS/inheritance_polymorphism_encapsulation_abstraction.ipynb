{
 "cells": [
  {
   "cell_type": "code",
   "execution_count": 14,
   "id": "8e2d2049",
   "metadata": {},
   "outputs": [
    {
     "name": "stdout",
     "output_type": "stream",
     "text": [
      "Child\n",
      "__main__\n",
      "Calling Child constructor\n",
      "Calling Parent constructor\n",
      "Calling Parent method\n",
      "Parent attribute: 200\n",
      "Calling Child method\n",
      "None\n"
     ]
    }
   ],
   "source": [
    "# single inheritance\n",
    "class Parent:\n",
    "    parent_attr=200\n",
    "    def __init__(self):\n",
    "        print(\"Calling Parent constructor\")\n",
    "    def parent_method(self):\n",
    "        print(\"Calling Parent method\")\n",
    "    def set_attr(self, attr):\n",
    "        Parent.parent_attr = attr\n",
    "    def get_attr(self):\n",
    "        print(\"Parent attribute:\", Parent.parent_attr)\n",
    "    def del_attr(self):\n",
    "        print(\"Calling Parent destructor\")\n",
    "\n",
    "class Child(Parent):\n",
    "    def __init__(self):\n",
    "        print(\"Calling Child constructor\")\n",
    "        Parent.__init__(self)\n",
    "       \n",
    "    def child_method(self):\n",
    "        print(\"Calling Child method\")\n",
    "\n",
    "print(Child.__name__)\n",
    "print(__name__)\n",
    "\n",
    "if __name__ == \"__main__\":\n",
    "    c=Child()\n",
    "    c.parent_method()\n",
    "    c.get_attr()\n",
    "    print(c.child_method())\n",
    "    \n",
    "    "
   ]
  },
  {
   "cell_type": "code",
   "execution_count": null,
   "id": "d7a61ad9",
   "metadata": {},
   "outputs": [
    {
     "data": {
      "text/plain": [
       "'fun'"
      ]
     },
     "execution_count": 5,
     "metadata": {},
     "output_type": "execute_result"
    }
   ],
   "source": [
    "def fun():\n",
    "    pass\n",
    "fun.__name__\n",
    "\n",
    "if __name__ == \"__main__\":\n",
    "    pass\n"
   ]
  },
  {
   "cell_type": "code",
   "execution_count": null,
   "id": "9fac1a70",
   "metadata": {},
   "outputs": [
    {
     "name": "stdout",
     "output_type": "stream",
     "text": [
      "Connecting to data source...\n",
      "Extracting HR data...\n"
     ]
    }
   ],
   "source": [
    "# Data Extraction for HR reports\n",
    "class MySqlDataExtractor:\n",
    "    def connect(self):\n",
    "        print(\"Connecting to data source...\")\n",
    "\n",
    "class PostgreSqlDataExtractor:\n",
    "    def connect(self):\n",
    "        print(\"Connecting to PostgreSQL data source...\")\n",
    "\n",
    "class MariaDBDataExtractor:\n",
    "    def connect(self):\n",
    "        print(\"Connecting to MariaDB data source...\")\n",
    "\n",
    "class HRDataExtractor(MySqlDataExtractor, PostgreSqlDataExtractor, MariaDBDataExtractor):\n",
    "    def extract(self):\n",
    "        MySqlDataExtractor.connect(self)\n",
    "        print(\"Extracting HR data...\")\n",
    "\n",
    "hr_extractor = HRDataExtractor()\n",
    "hr_extractor.extract()"
   ]
  },
  {
   "cell_type": "code",
   "execution_count": 19,
   "id": "6f11d481",
   "metadata": {},
   "outputs": [
    {
     "name": "stdout",
     "output_type": "stream",
     "text": [
      "Employee Name: John Doe, Salary: 50000\n",
      "Bonus: 5000\n"
     ]
    }
   ],
   "source": [
    "# Employee payroll system\n",
    "class Employee:\n",
    "    def __init__(self, name, salary):\n",
    "        self.emp_name = name\n",
    "        self.emp_salary = salary\n",
    "\n",
    "    def display(self):\n",
    "        print(f\"Employee Name: {self.emp_name}, Salary: {self.emp_salary}\")\n",
    "\n",
    "class Payroll(Employee):\n",
    "    def __init__(self, name, salary, bonus):\n",
    "        super().__init__(name, salary)\n",
    "        self.emp_bonus = bonus\n",
    "\n",
    "    def display(self):\n",
    "        super().display()\n",
    "        print(f\"Bonus: {self.emp_bonus}\")\n",
    "\n",
    "\n",
    "payroll = Payroll(\"John Doe\", 50000, 5000)\n",
    "payroll.display()"
   ]
  },
  {
   "cell_type": "code",
   "execution_count": 24,
   "id": "4a8343e9",
   "metadata": {},
   "outputs": [
    {
     "name": "stdout",
     "output_type": "stream",
     "text": [
      "Making call with Phone\n",
      "Taking photo with Camera\n",
      "Browsing internet with SmartPhone\n"
     ]
    }
   ],
   "source": [
    "# multiple inheritance - doesn't supports in Java, C# etc. but supports in Python. MRO - Method Resolution Order\n",
    "\n",
    "#A, B -> C\n",
    "\n",
    "class Camera:\n",
    "    def take_photo(self):\n",
    "        print(\"Taking photo with Camera\")\n",
    "\n",
    "class Phone:\n",
    "    def make_call(self):\n",
    "        print(\"Making call with Phone\")\n",
    "\n",
    "class SmartPhone(Camera, Phone):\n",
    "    def browse_internet(self):\n",
    "        print(\"Browsing internet with SmartPhone\")\n",
    "\n",
    "\n",
    "smartphone = SmartPhone()\n",
    "smartphone.make_call() \n",
    "smartphone.take_photo()\n",
    " \n",
    "smartphone.browse_internet()"
   ]
  },
  {
   "cell_type": "code",
   "execution_count": 25,
   "id": "9eadb46a",
   "metadata": {},
   "outputs": [
    {
     "data": {
      "text/plain": [
       "(__main__.SmartPhone, __main__.Camera, __main__.Phone, object)"
      ]
     },
     "execution_count": 25,
     "metadata": {},
     "output_type": "execute_result"
    }
   ],
   "source": [
    "SmartPhone.__mro__  # Method Resolution Order"
   ]
  },
  {
   "cell_type": "code",
   "execution_count": null,
   "id": "916da6b9",
   "metadata": {},
   "outputs": [
    {
     "data": {
      "text/plain": [
       "(__main__.TechHR,\n",
       " __main__.ITDepartment,\n",
       " __main__.HRDepartment,\n",
       " __main__.Employee,\n",
       " object)"
      ]
     },
     "execution_count": 27,
     "metadata": {},
     "output_type": "execute_result"
    }
   ],
   "source": [
    "# Method resolution order (MRO) example # hybrid inheritance \n",
    "# A -> B,C -> D ( Combination of two or more types of inheritance)\n",
    "# Employee access control system using inheritance\n",
    "class Employee:\n",
    "    def get_access(self):\n",
    "        print(\"General Employee Access\")\n",
    "\n",
    "class ITDepartment(Employee):\n",
    "    def get_access(self):\n",
    "        print(\"IT Department Access\")\n",
    "\n",
    "class HRDepartment(Employee):   \n",
    "    def get_access(self):\n",
    "        print(\"HR Department Access\")\n",
    "\n",
    "class TechHR(ITDepartment, HRDepartment):\n",
    "    def get_access(self):\n",
    "        pass\n",
    "\n",
    "user = TechHR()\n",
    "user.get_access()  # This will call the get_access method from ITDepartment due to MRO\n",
    "\n",
    "TechHR.__mro__  # Method Resolution Order for TechHR\n",
    "\n"
   ]
  },
  {
   "cell_type": "code",
   "execution_count": 31,
   "id": "1efc06d5",
   "metadata": {},
   "outputs": [
    {
     "name": "stdout",
     "output_type": "stream",
     "text": [
      "Extracting data from CSV file\n",
      "Fetching metadata from API\n",
      "Running Order ETL Job\n"
     ]
    }
   ],
   "source": [
    "# Multiple Inheritance - ETL\n",
    "#DataSource -> CSV , Api\n",
    "#OrderETLJOB -> DataSource\n",
    "\n",
    "class CSVDataSource:\n",
    "   def extract_csv(self):\n",
    "       print(\"Extracting data from CSV file\")\n",
    "\n",
    "class APIDataSource:\n",
    "    def fetch_metadata(self):\n",
    "        print(\"Fetching metadata from API\")\n",
    "\n",
    "class OrderETLJob(CSVDataSource, APIDataSource):\n",
    "    def run(self):\n",
    "        self.extract_csv()\n",
    "        self.fetch_metadata()\n",
    "        print(\"Running Order ETL Job\")\n",
    "\n",
    "order_etl_job = OrderETLJob()\n",
    "order_etl_job.run()\n"
   ]
  },
  {
   "cell_type": "code",
   "execution_count": 34,
   "id": "76321a7f",
   "metadata": {},
   "outputs": [
    {
     "name": "stdout",
     "output_type": "stream",
     "text": [
      "Extracting training data\n",
      "Extracting employee info\n",
      "Identifying person\n",
      "Generating training report\n"
     ]
    }
   ],
   "source": [
    "# Hybrid  Inheritance - Corporate Training System\n",
    "\n",
    "class Person:\n",
    "    def identify(self):\n",
    "        print(\"Identifying person\")\n",
    "\n",
    "class TrainingExtractor(Person):\n",
    "    def extract_training_data(self):\n",
    "        print(\"Extracting training data\")\n",
    "\n",
    "class EmployeeInfoExtractor(Person):\n",
    "    def extract_employee_info(self):\n",
    "        print(\"Extracting employee info\")\n",
    "\n",
    "class TrainingReportETL(TrainingExtractor, EmployeeInfoExtractor):\n",
    "    def generate_report(self):\n",
    "        self.extract_training_data()\n",
    "        self.extract_employee_info()\n",
    "        self.identify()\n",
    "        print(\"Generating training report\")\n",
    "\n",
    "training_report_etl = TrainingReportETL()\n",
    "training_report_etl.generate_report()"
   ]
  },
  {
   "cell_type": "code",
   "execution_count": 35,
   "id": "cb25fed4",
   "metadata": {},
   "outputs": [
    {
     "name": "stdout",
     "output_type": "stream",
     "text": [
      "Device information\n",
      "Laptop information\n",
      "VS Code, PyCharm, etc.\n"
     ]
    }
   ],
   "source": [
    "# mUltilevel inheritance - A -> B -> C\n",
    "\n",
    "class Device:\n",
    "    def device_info(self):\n",
    "        print(\"Device information\")\n",
    "\n",
    "class Laptop(Device):\n",
    "    def specs(self):\n",
    "        print(\"Laptop information\")\n",
    "class DevLaptop(Laptop):\n",
    "    def installed_software(self):\n",
    "        print(\"VS Code, PyCharm, etc.\")\n",
    "\n",
    "dev_laptop = DevLaptop()\n",
    "dev_laptop.device_info()\n",
    "dev_laptop.specs()\n",
    "dev_laptop.installed_software()"
   ]
  },
  {
   "cell_type": "code",
   "execution_count": 36,
   "id": "26e707e6",
   "metadata": {},
   "outputs": [
    {
     "name": "stdout",
     "output_type": "stream",
     "text": [
      "Running data pipeline\n",
      "patient data transformation\n",
      "filtered chronic patients only\n"
     ]
    }
   ],
   "source": [
    "# Healthcare System - Multilevel Inheritance\n",
    "\n",
    "class DataPipeline:\n",
    "    def run_pipeline(self):\n",
    "        print(\"Running data pipeline\")\n",
    "\n",
    "class PatentDataPipeline(DataPipeline):\n",
    "    def transform(self):\n",
    "        print(\"patient data transformation\")\n",
    "\n",
    "class ChronicPatientDataPipeline(PatentDataPipeline):\n",
    "    def filter_chronic(self):\n",
    "        print(\"filtered chronic patients only\")\n",
    "\n",
    "chronic_patient_pipeline = ChronicPatientDataPipeline()\n",
    "chronic_patient_pipeline.run_pipeline()\n",
    "chronic_patient_pipeline.transform()\n",
    "chronic_patient_pipeline.filter_chronic()"
   ]
  },
  {
   "cell_type": "code",
   "execution_count": 38,
   "id": "a956d98b",
   "metadata": {},
   "outputs": [
    {
     "name": "stdout",
     "output_type": "stream",
     "text": [
      "Dog barks\n",
      "Cat meows\n"
     ]
    }
   ],
   "source": [
    "# Hierarchical Inheritance - A -> B,C,D\n",
    "class Animal:\n",
    "    def sound(self):\n",
    "        print(\"Animal makes sound\") \n",
    "\n",
    "class Dog(Animal):\n",
    "    def sound(self):\n",
    "        print(\"Dog barks\")\n",
    "class Cat(Animal):\n",
    "    def sound(self):\n",
    "        print(\"Cat meows\")\n",
    "\n",
    "dog = Dog()\n",
    "dog.sound()\n",
    "\n",
    "cat = Cat()\n",
    "cat.sound()"
   ]
  },
  {
   "cell_type": "code",
   "execution_count": 40,
   "id": "97ef1411",
   "metadata": {},
   "outputs": [
    {
     "name": "stdout",
     "output_type": "stream",
     "text": [
      "Customer logged in\n",
      "Checking savings account balance\n",
      "Customer logged in\n",
      "Checking current account balance\n"
     ]
    }
   ],
   "source": [
    "# CUstomer service - Banking system - Hierarchical Inheritance\n",
    "\n",
    "class Customer:\n",
    "    def login(self):\n",
    "        print(\"Customer logged in\") \n",
    "\n",
    "class SavingsAccount(Customer):\n",
    "    def check_balance(self):\n",
    "        print(\"Checking savings account balance\")\n",
    "\n",
    "class CurrentAccount(Customer):\n",
    "    def check_balance(self):\n",
    "        print(\"Checking current account balance\")\n",
    "\n",
    "savings_account = SavingsAccount()\n",
    "savings_account.login()\n",
    "savings_account.check_balance()\n",
    "\n",
    "current_account = CurrentAccount()\n",
    "current_account.login()\n",
    "current_account.check_balance()"
   ]
  },
  {
   "cell_type": "code",
   "execution_count": 41,
   "id": "d4843959",
   "metadata": {},
   "outputs": [
    {
     "data": {
      "text/plain": [
       "5"
      ]
     },
     "execution_count": 41,
     "metadata": {},
     "output_type": "execute_result"
    }
   ],
   "source": [
    "2+3"
   ]
  },
  {
   "cell_type": "code",
   "execution_count": 42,
   "id": "90a1a97e",
   "metadata": {},
   "outputs": [
    {
     "data": {
      "text/plain": [
       "'johnpaul'"
      ]
     },
     "execution_count": 42,
     "metadata": {},
     "output_type": "execute_result"
    }
   ],
   "source": [
    "\"john\" + \"paul\""
   ]
  },
  {
   "cell_type": "code",
   "execution_count": null,
   "id": "e555721a",
   "metadata": {},
   "outputs": [],
   "source": [
    "# polymorphism - it can be many forms\n",
    "\n",
    "1. Run time polymorphism - method overriding - different class , method name same\n",
    "2. Compile time polymorphism - method overloading (not supported in Python) - same class, method name same, different parameters"
   ]
  },
  {
   "cell_type": "code",
   "execution_count": 45,
   "id": "8e6c15ea",
   "metadata": {},
   "outputs": [
    {
     "ename": "TypeError",
     "evalue": "Add.addition() takes 3 positional arguments but 4 were given",
     "output_type": "error",
     "traceback": [
      "\u001b[1;31m---------------------------------------------------------------------------\u001b[0m",
      "\u001b[1;31mTypeError\u001b[0m                                 Traceback (most recent call last)",
      "Cell \u001b[1;32mIn[45], line 13\u001b[0m\n\u001b[0;32m      8\u001b[0m         \u001b[38;5;28;01mreturn\u001b[39;00m a \u001b[38;5;241m+\u001b[39m b\n\u001b[0;32m     12\u001b[0m a\u001b[38;5;241m=\u001b[39m Add()\n\u001b[1;32m---> 13\u001b[0m \u001b[43ma\u001b[49m\u001b[38;5;241;43m.\u001b[39;49m\u001b[43maddition\u001b[49m\u001b[43m(\u001b[49m\u001b[38;5;241;43m1\u001b[39;49m\u001b[43m,\u001b[49m\u001b[38;5;241;43m2\u001b[39;49m\u001b[43m,\u001b[49m\u001b[38;5;241;43m3\u001b[39;49m\u001b[43m)\u001b[49m\n",
      "\u001b[1;31mTypeError\u001b[0m: Add.addition() takes 3 positional arguments but 4 were given"
     ]
    }
   ],
   "source": [
    "# method overloading example\n",
    "class Add:\n",
    "\n",
    "    def addition(self, a, b, c):\n",
    "        return a+ b + c\n",
    "\n",
    "    def addition(self, a, b):\n",
    "        return a + b\n",
    "\n",
    "    \n",
    "\n",
    "a= Add()\n",
    "a.addition(1,2,3)"
   ]
  },
  {
   "cell_type": "code",
   "execution_count": null,
   "id": "d412888b",
   "metadata": {},
   "outputs": [
    {
     "name": "stdout",
     "output_type": "stream",
     "text": [
      "6\n",
      "3\n"
     ]
    }
   ],
   "source": [
    "#default arguments in method overloading\n",
    "class Add:\n",
    "    def addition(self, a=None,b=None, c=None):\n",
    "        if a!= None and b!= None and c != None:\n",
    "            return a + b + c\n",
    "        elif a!= None and b!= None:\n",
    "            return a + b\n",
    "        else:\n",
    "            return \"Insufficient parameters\"\n",
    "\n",
    "a = Add()\n",
    "print(a.addition(1, 2, 3))  # Output: 6\n",
    "print(a.addition(1, 2))      # Output: 3"
   ]
  },
  {
   "cell_type": "code",
   "execution_count": 1,
   "id": "4046f842",
   "metadata": {},
   "outputs": [
    {
     "name": "stdout",
     "output_type": "stream",
     "text": [
      "6\n"
     ]
    }
   ],
   "source": [
    "# unknown number of arguments - variable length arguments\n",
    "class Add:\n",
    "    def addition(self, *args):\n",
    "        return sum(args)\n",
    "    \n",
    "addition_instance = Add()\n",
    "print(addition_instance.addition(1, 2, 3))  # Output: 6"
   ]
  },
  {
   "cell_type": "code",
   "execution_count": 3,
   "id": "54e5c632",
   "metadata": {},
   "outputs": [
    {
     "name": "stdout",
     "output_type": "stream",
     "text": [
      "John is racing a bike\n",
      "Paul is racing a bike\n",
      "Paul is racing a bike\n"
     ]
    }
   ],
   "source": [
    "# method overriding - different class, same method name\n",
    "\n",
    "class John:\n",
    "    def bike_race(self):\n",
    "        print(\"John is racing a bike\")\n",
    "class Paul(John):\n",
    "    def bike_race(self):\n",
    "        print(\"Paul is racing a bike\")\n",
    "    def simple(self):\n",
    "        super().bike_race()\n",
    "        self.bike_race()\n",
    "\n",
    "paul= Paul()\n",
    "paul.simple()  \n",
    "paul.bike_race() "
   ]
  },
  {
   "cell_type": "code",
   "execution_count": 5,
   "id": "5197242b",
   "metadata": {},
   "outputs": [
    {
     "data": {
      "text/plain": [
       "800.0"
      ]
     },
     "execution_count": 5,
     "metadata": {},
     "output_type": "execute_result"
    }
   ],
   "source": [
    "class PricingStrategy:\n",
    "    def apply_discount(self, price):\n",
    "        return price\n",
    "    \n",
    "class SeasonalDiscount(PricingStrategy):\n",
    "    def apply_discount(self, price):\n",
    "        return price * 0.9  # 10% discount\n",
    "    \n",
    "class ClearanceDiscount(PricingStrategy):\n",
    "    def apply_discount(self, price):\n",
    "        return price * 0.7  # 30% discount\n",
    "    \n",
    "class LoyaltyDiscount(PricingStrategy):\n",
    "    def apply_discount(self, price):\n",
    "        return price * 0.8  # 20% discount\n",
    "    \n",
    "def final_price(strategy, price):\n",
    "    return strategy.apply_discount(price)\n",
    "\n",
    "\n",
    "final_price(SeasonalDiscount(), 1000)  # Output: 90.0\n",
    "final_price(LoyaltyDiscount(), 1000)  # Output: 80.0"
   ]
  },
  {
   "cell_type": "code",
   "execution_count": null,
   "id": "5b7f0c2c",
   "metadata": {},
   "outputs": [],
   "source": [
    "# operator overloading - dunder methods or magic methods or special methods in Python\n",
    "\n",
    "'''emp_records ={'name:'john'} , \n",
    "  emp_second_records={'name':'paul'}\n",
    "\n",
    "  emp_records + emp_second_records = {'name': 'john', 'name': 'paul'}\n",
    "\n",
    "\n",
    "  + - __add__()\n",
    "  - __sub__()\n",
    "  * __mul__()\n",
    "  / __truediv__()\n",
    "  > __gt__()\n",
    "  < __lt__()\n",
    "  <= __le__()\n",
    "  >= __ge__()\n",
    "  \n",
    "  '''"
   ]
  },
  {
   "cell_type": "code",
   "execution_count": null,
   "id": "5f536bf7",
   "metadata": {},
   "outputs": [
    {
     "name": "stdout",
     "output_type": "stream",
     "text": [
      "Welcome to Python 3.12's help utility! If this is your first time using\n",
      "Python, you should definitely check out the tutorial at\n",
      "https://docs.python.org/3.12/tutorial/.\n",
      "\n",
      "Enter the name of any module, keyword, or topic to get help on writing\n",
      "Python programs and using Python modules.  To get a list of available\n",
      "modules, keywords, symbols, or topics, enter \"modules\", \"keywords\",\n",
      "\"symbols\", or \"topics\".\n",
      "\n",
      "Each module also comes with a one-line summary of what it does; to list\n",
      "the modules whose name or summary contain a given string such as \"spam\",\n",
      "enter \"modules spam\".\n",
      "\n",
      "To quit this help utility and return to the interpreter,\n",
      "enter \"q\" or \"quit\".\n",
      "\n"
     ]
    }
   ],
   "source": [
    "help()"
   ]
  },
  {
   "cell_type": "code",
   "execution_count": 1,
   "id": "fcb5dbf4",
   "metadata": {},
   "outputs": [
    {
     "data": {
      "text/plain": [
       "['__add__',\n",
       " '__class__',\n",
       " '__contains__',\n",
       " '__delattr__',\n",
       " '__dir__',\n",
       " '__doc__',\n",
       " '__eq__',\n",
       " '__format__',\n",
       " '__ge__',\n",
       " '__getattribute__',\n",
       " '__getitem__',\n",
       " '__getnewargs__',\n",
       " '__getstate__',\n",
       " '__gt__',\n",
       " '__hash__',\n",
       " '__init__',\n",
       " '__init_subclass__',\n",
       " '__iter__',\n",
       " '__le__',\n",
       " '__len__',\n",
       " '__lt__',\n",
       " '__mod__',\n",
       " '__mul__',\n",
       " '__ne__',\n",
       " '__new__',\n",
       " '__reduce__',\n",
       " '__reduce_ex__',\n",
       " '__repr__',\n",
       " '__rmod__',\n",
       " '__rmul__',\n",
       " '__setattr__',\n",
       " '__sizeof__',\n",
       " '__str__',\n",
       " '__subclasshook__',\n",
       " 'capitalize',\n",
       " 'casefold',\n",
       " 'center',\n",
       " 'count',\n",
       " 'encode',\n",
       " 'endswith',\n",
       " 'expandtabs',\n",
       " 'find',\n",
       " 'format',\n",
       " 'format_map',\n",
       " 'index',\n",
       " 'isalnum',\n",
       " 'isalpha',\n",
       " 'isascii',\n",
       " 'isdecimal',\n",
       " 'isdigit',\n",
       " 'isidentifier',\n",
       " 'islower',\n",
       " 'isnumeric',\n",
       " 'isprintable',\n",
       " 'isspace',\n",
       " 'istitle',\n",
       " 'isupper',\n",
       " 'join',\n",
       " 'ljust',\n",
       " 'lower',\n",
       " 'lstrip',\n",
       " 'maketrans',\n",
       " 'partition',\n",
       " 'removeprefix',\n",
       " 'removesuffix',\n",
       " 'replace',\n",
       " 'rfind',\n",
       " 'rindex',\n",
       " 'rjust',\n",
       " 'rpartition',\n",
       " 'rsplit',\n",
       " 'rstrip',\n",
       " 'split',\n",
       " 'splitlines',\n",
       " 'startswith',\n",
       " 'strip',\n",
       " 'swapcase',\n",
       " 'title',\n",
       " 'translate',\n",
       " 'upper',\n",
       " 'zfill']"
      ]
     },
     "execution_count": 1,
     "metadata": {},
     "output_type": "execute_result"
    }
   ],
   "source": [
    "dir('sys')"
   ]
  },
  {
   "cell_type": "code",
   "execution_count": null,
   "id": "95ee7728",
   "metadata": {},
   "outputs": [
    {
     "name": "stdout",
     "output_type": "stream",
     "text": [
      "Hello\n"
     ]
    },
    {
     "data": {
      "text/plain": [
       "'Hellojohn'"
      ]
     },
     "execution_count": 2,
     "metadata": {},
     "output_type": "execute_result"
    }
   ],
   "source": [
    "class String:\n",
    "    def __init__(self,value):\n",
    "        self.value=value\n",
    "\n",
    "    def __add__(self, other):\n",
    "        return self.value + other\n",
    "    \n",
    "    def __str__(self):\n",
    "        return self.value\n",
    "\n",
    "str=String(\"Hello\")\n",
    "print(str)\n",
    "str+\"john\""
   ]
  },
  {
   "cell_type": "code",
   "execution_count": 24,
   "id": "f6bff539",
   "metadata": {},
   "outputs": [
    {
     "name": "stdout",
     "output_type": "stream",
     "text": [
      "The list of sequence(['john', 'paul', 'george', 'ringo'])\n",
      "john\n",
      "The list of sequence(['john', 'joe', 'george', 'ringo'])\n",
      "4\n",
      "john\n",
      "joe\n",
      "george\n",
      "ringo\n"
     ]
    },
    {
     "data": {
      "text/plain": [
       "False"
      ]
     },
     "execution_count": 24,
     "metadata": {},
     "output_type": "execute_result"
    }
   ],
   "source": [
    "class Message:\n",
    "    def __init__(self,msg_items):\n",
    "        self.items = msg_items\n",
    "\n",
    "    #def __str__(self):\n",
    "        #return f\"The Message items are: {self.items}\"\n",
    "    \n",
    "    def __getitem__(self,index):\n",
    "        return self.items[index]\n",
    "    \n",
    "    def __setitem__(self,index,value):\n",
    "        self.items[index] = value\n",
    "\n",
    "    def __len__(self):\n",
    "        return len(self.items)\n",
    "    def __repr__(self):\n",
    "        return f\"The list of sequence({self.items})\"\n",
    "    \n",
    "    def __contains__(self, item):\n",
    "        return item in self.items\n",
    "    \n",
    "\n",
    "message= Message([\"john\", \"paul\", \"george\", \"ringo\"])\n",
    "print(message)\n",
    "print(message[0])\n",
    "message[1]='joe'\n",
    "print(message)\n",
    "print(len(message))  # Output: 4\n",
    "\n",
    "for element in message:\n",
    "    print(element)\n",
    "\n",
    "'hai' in message  # Output: False\n"
   ]
  },
  {
   "cell_type": "code",
   "execution_count": null,
   "id": "3c54762a",
   "metadata": {},
   "outputs": [
    {
     "data": {
      "text/plain": [
       "True"
      ]
     },
     "execution_count": 29,
     "metadata": {},
     "output_type": "execute_result"
    }
   ],
   "source": [
    "class Compare:\n",
    "    def __init__(self, value):\n",
    "        self.value = value\n",
    "\n",
    "    def __eq__(self, other):\n",
    "        return self.value == other.value\n",
    "    \n",
    "    def __gt__(self, other):\n",
    "        return self.value > other.value\n",
    "    \n",
    "    def __le__(self, other):\n",
    "        return self.value <= other.value\n",
    "    \n",
    "\n",
    "number_one= Compare(10)\n",
    "number_two = Compare(20)\n",
    "number_three = Compare(10)\n",
    "\n",
    "number_one == number_two  # Output: False\n",
    "\n",
    "number_one > number_two\n",
    "\n",
    "number_one <= number_three  # Output: True"
   ]
  },
  {
   "cell_type": "code",
   "execution_count": 33,
   "id": "a8907db5",
   "metadata": {},
   "outputs": [
    {
     "name": "stdout",
     "output_type": "stream",
     "text": [
      "CallableExample with value: 10\n",
      "15\n",
      "Deleting CallableExample with value: 10\n"
     ]
    },
    {
     "ename": "NameError",
     "evalue": "name 'callable_instance' is not defined",
     "output_type": "error",
     "traceback": [
      "\u001b[1;31m---------------------------------------------------------------------------\u001b[0m",
      "\u001b[1;31mNameError\u001b[0m                                 Traceback (most recent call last)",
      "Cell \u001b[1;32mIn[33], line 19\u001b[0m\n\u001b[0;32m     17\u001b[0m \u001b[38;5;28mprint\u001b[39m(callable_instance(\u001b[38;5;241m5\u001b[39m))  \u001b[38;5;66;03m# Output: 15\u001b[39;00m\n\u001b[0;32m     18\u001b[0m \u001b[38;5;28;01mdel\u001b[39;00m callable_instance  \u001b[38;5;66;03m# Deleting the instance\u001b[39;00m\n\u001b[1;32m---> 19\u001b[0m \u001b[38;5;28mprint\u001b[39m(\u001b[43mcallable_instance\u001b[49m)\n",
      "\u001b[1;31mNameError\u001b[0m: name 'callable_instance' is not defined"
     ]
    }
   ],
   "source": [
    "# __call__ method - callable objects\n",
    "class CallableExample:\n",
    "    def __init__(self, value):\n",
    "        self.value = value\n",
    "\n",
    "    def __str__(self):\n",
    "        return f\"CallableExample with value: {self.value}\"\n",
    "\n",
    "    def __call__(self, increment):\n",
    "        return self.value + increment\n",
    "    \n",
    "    def __del__(self):\n",
    "        print(f\"Deleting CallableExample with value: {self.value}\")\n",
    "    \n",
    "callable_instance = CallableExample(10)\n",
    "print(callable_instance)  # Output: CallableExample with value: 10\n",
    "print(callable_instance(5))  # Output: 15\n",
    "del callable_instance  # Deleting the instance\n",
    "print(callable_instance)"
   ]
  },
  {
   "cell_type": "code",
   "execution_count": null,
   "id": "b9ab595a",
   "metadata": {},
   "outputs": [],
   "source": [
    "# Abstrct class and Abstract methods - abstract base class (ABC) in Python, defined in abc module not implemented, only declared\n",
    "\n",
    "#two ways to create abstract class - implement methods in base class or use ABCMeta metaclass, unimplemented methods in base class\n",
    "\n",
    "from abc import ABC, abstractmethod\n",
    "\n",
    "class Human(ABC):\n",
    "    @abstractmethod\n",
    "    def speak(self):\n",
    "        pass\n",
    "    \n",
    "    @abstractmethod\n",
    "    def walk(self):\n",
    "        pass    "
   ]
  },
  {
   "cell_type": "code",
   "execution_count": 35,
   "id": "f0f36f87",
   "metadata": {},
   "outputs": [
    {
     "name": "stdout",
     "output_type": "stream",
     "text": [
      "welcome to the bank\n",
      "SBI Interest Rate: 0.07\n",
      "welcome to the bank\n",
      "HDFC Interest Rate: 0.08\n"
     ]
    }
   ],
   "source": [
    "'''Bank - abstract class\n",
    "interest() - abstract methods'''\n",
    "\n",
    "# abstrct class - Bank\n",
    "from abc import ABC, abstractmethod\n",
    "class Bank(ABC):\n",
    "    def bank_info(self):\n",
    "        print(\"welcome to the bank\")\n",
    "    @abstractmethod\n",
    "    def interest(self):\n",
    "        pass\n",
    "\n",
    "class SBI(Bank):\n",
    "    def balance(self):\n",
    "        print(\"SBI balance is 1000\")\n",
    "    def interest(self):\n",
    "        return 0.07\n",
    "    \n",
    "class HDFC(Bank):\n",
    "    def interest(self):\n",
    "        return 0.08\n",
    "    \n",
    "sbi= SBI()\n",
    "hdfc= HDFC()\n",
    "sbi.bank_info()\n",
    "print(\"SBI Interest Rate:\", sbi.interest())\n",
    "hdfc.bank_info()\n",
    "print(\"HDFC Interest Rate:\", hdfc.interest())\n",
    "    "
   ]
  },
  {
   "cell_type": "code",
   "execution_count": null,
   "id": "659054bd",
   "metadata": {},
   "outputs": [],
   "source": [
    "encapsualtion\n",
    "abstract class adn abstract methods\n",
    "module methods\n",
    "         sys, os, datetime, time, random, math, re, sqlite3, sqlalchemy,wget, requests, ETL - pandas, numpy"
   ]
  }
 ],
 "metadata": {
  "kernelspec": {
   "display_name": "Python 3",
   "language": "python",
   "name": "python3"
  },
  "language_info": {
   "codemirror_mode": {
    "name": "ipython",
    "version": 3
   },
   "file_extension": ".py",
   "mimetype": "text/x-python",
   "name": "python",
   "nbconvert_exporter": "python",
   "pygments_lexer": "ipython3",
   "version": "3.12.3"
  }
 },
 "nbformat": 4,
 "nbformat_minor": 5
}

{
 "cells": [
  {
   "cell_type": "code",
   "execution_count": null,
   "id": "04fc36dc",
   "metadata": {},
   "outputs": [],
   "source": [
    "#payment gateway integration\n",
    "\n",
    "abstract class = partial implementation of a payment gateway integration\n",
    "abstract method = define the interface for payment processing. we can not implement it here\n",
    "\n"
   ]
  },
  {
   "cell_type": "code",
   "execution_count": null,
   "id": "9caf4ed7",
   "metadata": {},
   "outputs": [
    {
     "name": "stdout",
     "output_type": "stream",
     "text": [
      "Processing credit card payment of 100.0...\n",
      "Receipt for payment of 100.0 processed successfully.\n",
      "Processing PayPal payment of 100.0...\n",
      "Receipt for payment of 100.0 processed successfully.\n",
      "Processing bank transfer payment of 100.0...\n",
      "Receipt for payment of 100.0 processed successfully.\n",
      "Processing UPI payment of 100.0...\n",
      "Receipt for payment of 100.0 processed successfully.\n"
     ]
    }
   ],
   "source": [
    "from abc import ABC, abstractmethod\n",
    "\n",
    "# Abstract class for payment gateway integration\n",
    "class PaymentGateway(ABC):\n",
    "\n",
    "    @abstractmethod\n",
    "    def make_payment(self,amount):\n",
    "        pass #all payment types must implement this method\n",
    "\n",
    "    def generate_receipt(self, amount): # general or instance method to generate a receipt\n",
    "        return f\"Receipt for payment of {amount} processed successfully.\" \n",
    "\n",
    "#Concrete class for creditcard payment\n",
    "class CreditCardPayment(PaymentGateway):\n",
    "\n",
    "    def make_payment(self, amount):\n",
    "        # Logic for processing credit card payment\n",
    "        print(f\"Processing credit card payment of {amount}...\")\n",
    "        return True  # Assume payment is successful\n",
    "\n",
    "#Concrete class for PayPal payment\n",
    "class PayPalPayment(PaymentGateway):\n",
    "\n",
    "    def make_payment(self, amount):\n",
    "        # Logic for processing PayPal payment\n",
    "        print(f\"Processing PayPal payment of {amount}...\")\n",
    "        return True  # Assume payment is successful\n",
    "\n",
    "#Concrete class for bank transfer payment\n",
    "class BankTransferPayment(PaymentGateway):\n",
    "\n",
    "    def make_payment(self, amount):\n",
    "        # Logic for processing bank transfer payment\n",
    "        print(f\"Processing bank transfer payment of {amount}...\")\n",
    "        return True  # Assume payment is successful\n",
    "\n",
    "# concrete class for UPI payment\n",
    "class UPIPayment(PaymentGateway):\n",
    "\n",
    "    def make_payment(self, amount):\n",
    "        # Logic for processing UPI payment\n",
    "        print(f\"Processing UPI payment of {amount}...\")\n",
    "        return True  # Assume payment is successful\n",
    "\n",
    "# Example usage\n",
    "payment_methods = [ CreditCardPayment(),\n",
    "                    PayPalPayment(),\n",
    "                    BankTransferPayment(),\n",
    "                    UPIPayment() ]\n",
    "for method in payment_methods:\n",
    "    method.make_payment(100.0)\n",
    "    print(method.generate_receipt(100.0))\n"
   ]
  },
  {
   "cell_type": "code",
   "execution_count": null,
   "id": "c12569d7",
   "metadata": {},
   "outputs": [],
   "source": [
    "# @abstractmethod decorator is used to define an abstract method\n",
    "# @classmethod decorator is used to define a class method\n",
    "# @staticmethod decorator is used to define a static method\n",
    "# instance methods are defined without any decorators"
   ]
  },
  {
   "cell_type": "code",
   "execution_count": null,
   "id": "3fa03e6a",
   "metadata": {},
   "outputs": [
    {
     "ename": "TypeError",
     "evalue": "Payment.generate_receipt() missing 1 required positional argument: 'amount'",
     "output_type": "error",
     "traceback": [
      "\u001b[1;31m---------------------------------------------------------------------------\u001b[0m",
      "\u001b[1;31mTypeError\u001b[0m                                 Traceback (most recent call last)",
      "Cell \u001b[1;32mIn[6], line 10\u001b[0m\n\u001b[0;32m      7\u001b[0m p\u001b[38;5;241m=\u001b[39m Payment()\n\u001b[0;32m      8\u001b[0m p\u001b[38;5;241m.\u001b[39mgenerate_receipt(\u001b[38;5;241m100.0\u001b[39m)  \u001b[38;5;66;03m# Example of calling the instance method\u001b[39;00m\n\u001b[1;32m---> 10\u001b[0m \u001b[43mPayment\u001b[49m\u001b[38;5;241;43m.\u001b[39;49m\u001b[43mgenerate_receipt\u001b[49m\u001b[43m(\u001b[49m\u001b[38;5;241;43m100.0\u001b[39;49m\u001b[43m)\u001b[49m  \u001b[38;5;66;03m# This will raise an error, as generate_receipt is not a static method\u001b[39;00m\n\u001b[0;32m     14\u001b[0m \u001b[38;5;66;03m#instance methods - when the logic depends on the instance state or specific object\u001b[39;00m\n",
      "\u001b[1;31mTypeError\u001b[0m: Payment.generate_receipt() missing 1 required positional argument: 'amount'"
     ]
    }
   ],
   "source": [
    "# REgular instance methods can access instance variables and methods - when logic depends on the specific object state\n",
    "\n",
    "class Payment:\n",
    "    def generate_receipt(self,amount): #instance method - access to self \n",
    "        return f\"Receipt for payment of {amount} processed successfully.\"\n",
    "\n",
    "p= Payment()\n",
    "p.generate_receipt(100.0)  # Example of calling the instance method\n",
    "\n",
    "Payment.generate_receipt(100.0)  # This will raise an error, as generate_receipt is not a static method\n",
    "\n",
    "\n",
    "\n",
    "#instance methods - when the logic depends on the instance state or specific object"
   ]
  },
  {
   "cell_type": "code",
   "execution_count": null,
   "id": "05a10cf1",
   "metadata": {},
   "outputs": [
    {
     "data": {
      "text/plain": [
       "'Receipt for payment of 100.0 processed successfully on Online platform.'"
      ]
     },
     "execution_count": 7,
     "metadata": {},
     "output_type": "execute_result"
    }
   ],
   "source": [
    "# class method - when the logic is related to the class itself rather than any specific instance - it will not access instance variables\n",
    "\n",
    "# when logiv uses or modifies class level data or methods, we use class methods\n",
    "class Payment:\n",
    "    platform = \"Online\"  # class attribute\n",
    "\n",
    "    @classmethod # access to cls \n",
    "    def generate_receipt(cls, amount): # cls refers to the class itself, not the instance\n",
    "        return f\"Receipt for payment of {amount} processed successfully on {cls.platform} platform.\"\n",
    "Payment.generate_receipt(100.0)  # Example of calling the class method\n",
    " "
   ]
  },
  {
   "cell_type": "code",
   "execution_count": null,
   "id": "6b12d94b",
   "metadata": {},
   "outputs": [
    {
     "data": {
      "text/plain": [
       "'Receipt for payment of 100.0 processed successfully.'"
      ]
     },
     "execution_count": 8,
     "metadata": {},
     "output_type": "execute_result"
    }
   ],
   "source": [
    "# @staticmethod - when the logic does not depend on the instance or class state, and it is a utility function\n",
    "\n",
    "# when logic is independent of both class and instance state, we use static methods\n",
    "\n",
    "class Payment: # use it when receipt generation logic does not depend on instance or class state\n",
    "    @staticmethod\n",
    "    def generate_receipt(amount):  # static method does not take self or cls as the first argument\n",
    "        return f\"Receipt for payment of {amount} processed successfully.\"\n",
    "\n",
    "Payment.generate_receipt(100.0)  # Example of calling the static method\n",
    "# Note: Static methods are not tied to the class or instance"
   ]
  },
  {
   "cell_type": "code",
   "execution_count": null,
   "id": "911bac48",
   "metadata": {},
   "outputs": [
    {
     "name": "stdout",
     "output_type": "stream",
     "text": [
      "Employee: John Doe, Salary: -1000\n"
     ]
    }
   ],
   "source": [
    "# Encapsulation: - restricting direct access to internal objects data and only allowing access through controlled methods(getters and setters)\n",
    "\n",
    "#why encapsulation is important:\n",
    "# protect sensitive data (salary,dbconnection strings)\n",
    "# prevent accidental modification of data\n",
    "# maintain data integrity by controlling how data is accessed and modified\n",
    "# provide a clear interface for interacting with the object\n",
    "# enforce validation rules when setting data\n",
    "\n",
    "#without encapsulation, we can directly access and modify the attributes of an object, which can lead to unintended consequences or security issues.\n",
    "class Employee:\n",
    "    def __init__(self, name, salary):\n",
    "        self.name = name\n",
    "        self.salary = salary  # direct access to salary attribute\n",
    "\n",
    "emp = Employee(\"John Doe\", 50000)\n",
    "emp.salary = -1000  # Directly modifying the salary attribute, which is not a valid operation\n",
    "\n",
    "print(f\"Employee: {emp.name}, Salary: {emp.salary}\")  # Output: Employee: John Doe, Salary: -1000\n",
    "\n",
    "\n",
    "how to implement encapsulation:\n",
    "access modifiers - public, protected, private\n",
    "\n",
    "public - accessible from anywhere\n",
    "protected - accessible within the class and its subclasses (not enforced in Python, but by convention, we use a single underscore prefix)\n",
    "private - accessible only within the class (enforced in Python by using a double underscore prefix)\n",
    "\n",
    "\n",
    "empname = \"John Doe\"  # public attribute\n",
    "__empid = 12345  # private attribute (enforced by Python)\n",
    "_empid = 12345  # protected attribute (enforced by Python)\n",
    "\n",
    "getemployee() - public method to get employee details\n",
    "__set_salary() - private method to set salary (not accessible outside the class)\n",
    "_set_salary() - protected method to set salary (accessible within the class and subclasses)"
   ]
  },
  {
   "cell_type": "code",
   "execution_count": 12,
   "id": "40dfd320",
   "metadata": {},
   "outputs": [
    {
     "name": "stdout",
     "output_type": "stream",
     "text": [
      "Employee: John Doe, Salary: -1000\n"
     ]
    }
   ],
   "source": [
    "#without encapsulation, we can directly access and modify the attributes of an object, which can lead to unintended consequences or security issues.\n",
    "class Employee:\n",
    "    def __init__(self, name, salary):\n",
    "        self.name = name\n",
    "        self.salary = salary  # direct access to salary attribute\n",
    "\n",
    "emp = Employee(\"John Doe\", 50000)\n",
    "emp.salary = -1000  # Directly modifying the salary attribute, which is not a valid operation\n",
    "\n",
    "print(f\"Employee: {emp.name}, Salary: {emp.salary}\")  # Output: Employee: John Doe, Salary: -1000\n"
   ]
  },
  {
   "cell_type": "code",
   "execution_count": 13,
   "id": "473469dc",
   "metadata": {},
   "outputs": [
    {
     "name": "stdout",
     "output_type": "stream",
     "text": [
      "50000\n"
     ]
    },
    {
     "ename": "ValueError",
     "evalue": "Salary cannot be negative.",
     "output_type": "error",
     "traceback": [
      "\u001b[1;31m---------------------------------------------------------------------------\u001b[0m",
      "\u001b[1;31mValueError\u001b[0m                                Traceback (most recent call last)",
      "Cell \u001b[1;32mIn[13], line 18\u001b[0m\n\u001b[0;32m     16\u001b[0m emp \u001b[38;5;241m=\u001b[39m Employee(\u001b[38;5;124m\"\u001b[39m\u001b[38;5;124mJohn Doe\u001b[39m\u001b[38;5;124m\"\u001b[39m, \u001b[38;5;241m50000\u001b[39m)\n\u001b[0;32m     17\u001b[0m \u001b[38;5;28mprint\u001b[39m(emp\u001b[38;5;241m.\u001b[39mget_salary())  \u001b[38;5;66;03m# Output: 50000\u001b[39;00m\n\u001b[1;32m---> 18\u001b[0m \u001b[43memp\u001b[49m\u001b[38;5;241;43m.\u001b[39;49m\u001b[43mset_salary\u001b[49m\u001b[43m(\u001b[49m\u001b[38;5;241;43m-\u001b[39;49m\u001b[38;5;241;43m10000\u001b[39;49m\u001b[43m)\u001b[49m  \u001b[38;5;66;03m# Setting a invalid salary\u001b[39;00m\n\u001b[0;32m     19\u001b[0m emp\u001b[38;5;241m.\u001b[39mgeyt_salary()  \u001b[38;5;66;03m# Output: 50000\u001b[39;00m\n",
      "Cell \u001b[1;32mIn[13], line 13\u001b[0m, in \u001b[0;36mEmployee.set_salary\u001b[1;34m(self, salary)\u001b[0m\n\u001b[0;32m     11\u001b[0m \u001b[38;5;28;01mdef\u001b[39;00m \u001b[38;5;21mset_salary\u001b[39m(\u001b[38;5;28mself\u001b[39m, salary):  \u001b[38;5;66;03m# public method to set salary with validation\u001b[39;00m\n\u001b[0;32m     12\u001b[0m     \u001b[38;5;28;01mif\u001b[39;00m salary \u001b[38;5;241m<\u001b[39m \u001b[38;5;241m0\u001b[39m:\n\u001b[1;32m---> 13\u001b[0m         \u001b[38;5;28;01mraise\u001b[39;00m \u001b[38;5;167;01mValueError\u001b[39;00m(\u001b[38;5;124m\"\u001b[39m\u001b[38;5;124mSalary cannot be negative.\u001b[39m\u001b[38;5;124m\"\u001b[39m)\n\u001b[0;32m     14\u001b[0m     \u001b[38;5;28mself\u001b[39m\u001b[38;5;241m.\u001b[39m__salary \u001b[38;5;241m=\u001b[39m salary\n",
      "\u001b[1;31mValueError\u001b[0m: Salary cannot be negative."
     ]
    }
   ],
   "source": [
    "# with encapsulation, we can restrict access to the attributes and provide controlled access through methods.\n",
    "\n",
    "class Employee:\n",
    "    def __init__(self, name, salary):\n",
    "        self.name = name\n",
    "        self.__salary = salary  # private attribute\n",
    "\n",
    "    def get_salary(self):  # public method to get salary\n",
    "        return self.__salary\n",
    "\n",
    "    def set_salary(self, salary):  # public method to set salary with validation\n",
    "        if salary < 0:\n",
    "            raise ValueError(\"Salary cannot be negative.\")\n",
    "        self.__salary = salary\n",
    "\n",
    "emp = Employee(\"John Doe\", 50000)\n",
    "print(emp.get_salary())  # Output: 50000\n",
    "emp.set_salary(-10000)  # Setting a invalid salary\n",
    "emp.geyt_salary()  # Output: 50000"
   ]
  },
  {
   "cell_type": "code",
   "execution_count": null,
   "id": "870719ab",
   "metadata": {},
   "outputs": [
    {
     "name": "stdout",
     "output_type": "stream",
     "text": [
      "Laptop\n"
     ]
    }
   ],
   "source": [
    "# public - accessible from anywhere\n",
    "\n",
    "class Product:\n",
    "    def __init__(self):\n",
    "        self.name = \"Laptop\" # public attribute\n",
    "p = Product()\n",
    "print(p.name)  # Output: Laptop"
   ]
  },
  {
   "cell_type": "code",
   "execution_count": null,
   "id": "5df71f0e",
   "metadata": {},
   "outputs": [
    {
     "data": {
      "text/plain": [
       "'Laptop'"
      ]
     },
     "execution_count": 17,
     "metadata": {},
     "output_type": "execute_result"
    }
   ],
   "source": [
    "# protected - accessible within the class and its subclasses\n",
    "\n",
    "class Product:\n",
    "    def __init__(self):\n",
    "        self._name = \"Laptop\"  # protected attribute (by convention, single underscore)\n",
    "        \n",
    "    def _get_name(self):  # protected method\n",
    "        return self._name\n",
    "\n",
    "class Offer(Product):\n",
    "    def show_price(self):\n",
    "        return f\"Price of {self._get_name()} is $1000\"\n",
    "\n",
    "off= Offer()\n",
    "off.show_price()  # Output: Price of Laptop is $1000\n",
    "off._name # bad practice to access protected attribute directly, but still possible"
   ]
  },
  {
   "cell_type": "code",
   "execution_count": 23,
   "id": "be46995f",
   "metadata": {},
   "outputs": [
    {
     "data": {
      "text/plain": [
       "100"
      ]
     },
     "execution_count": 23,
     "metadata": {},
     "output_type": "execute_result"
    }
   ],
   "source": [
    "class Product:\n",
    "    def __init__(self):\n",
    "        self.__stock = 100  # private attribute (enforced by Python, double underscore)\n",
    "        \n",
    "    def check_stock(self):  \n",
    "        return self.__stock\n",
    "\n",
    "\n",
    "p = Product()\n",
    "p.check_stock()  # Output: 100\n",
    "p._Product__stock  # This will raise an AttributeError, as __stock is private and not accessible outside the class"
   ]
  },
  {
   "cell_type": "code",
   "execution_count": null,
   "id": "de148ae3",
   "metadata": {},
   "outputs": [],
   "source": [
    "class DBConnection:\n",
    "    def __init__(self, connection_string):\n",
    "        self.__connection_string = connection_string  # private attribute\n",
    "\n",
    "    def connect(self): # public method to connect to the database\n",
    "        print(f\"Connecting to database with {self.__connection_string}\")\n",
    "\n",
    "    def __close_connection(self):  # private method\n",
    "        print(\"Closing database connection\")\n",
    "\n",
    "    def close(self):\n",
    "        self.__close_connection()  # public method to close connection"
   ]
  },
  {
   "cell_type": "code",
   "execution_count": null,
   "id": "1e54c1e3",
   "metadata": {},
   "outputs": [
    {
     "data": {
      "text/plain": [
       "['__add__',\n",
       " '__class__',\n",
       " '__contains__',\n",
       " '__delattr__',\n",
       " '__dir__',\n",
       " '__doc__',\n",
       " '__eq__',\n",
       " '__format__',\n",
       " '__ge__',\n",
       " '__getattribute__',\n",
       " '__getitem__',\n",
       " '__getnewargs__',\n",
       " '__getstate__',\n",
       " '__gt__',\n",
       " '__hash__',\n",
       " '__init__',\n",
       " '__init_subclass__',\n",
       " '__iter__',\n",
       " '__le__',\n",
       " '__len__',\n",
       " '__lt__',\n",
       " '__mod__',\n",
       " '__mul__',\n",
       " '__ne__',\n",
       " '__new__',\n",
       " '__reduce__',\n",
       " '__reduce_ex__',\n",
       " '__repr__',\n",
       " '__rmod__',\n",
       " '__rmul__',\n",
       " '__setattr__',\n",
       " '__sizeof__',\n",
       " '__str__',\n",
       " '__subclasshook__',\n",
       " 'capitalize',\n",
       " 'casefold',\n",
       " 'center',\n",
       " 'count',\n",
       " 'encode',\n",
       " 'endswith',\n",
       " 'expandtabs',\n",
       " 'find',\n",
       " 'format',\n",
       " 'format_map',\n",
       " 'index',\n",
       " 'isalnum',\n",
       " 'isalpha',\n",
       " 'isascii',\n",
       " 'isdecimal',\n",
       " 'isdigit',\n",
       " 'isidentifier',\n",
       " 'islower',\n",
       " 'isnumeric',\n",
       " 'isprintable',\n",
       " 'isspace',\n",
       " 'istitle',\n",
       " 'isupper',\n",
       " 'join',\n",
       " 'ljust',\n",
       " 'lower',\n",
       " 'lstrip',\n",
       " 'maketrans',\n",
       " 'partition',\n",
       " 'removeprefix',\n",
       " 'removesuffix',\n",
       " 'replace',\n",
       " 'rfind',\n",
       " 'rindex',\n",
       " 'rjust',\n",
       " 'rpartition',\n",
       " 'rsplit',\n",
       " 'rstrip',\n",
       " 'split',\n",
       " 'splitlines',\n",
       " 'startswith',\n",
       " 'strip',\n",
       " 'swapcase',\n",
       " 'title',\n",
       " 'translate',\n",
       " 'upper',\n",
       " 'zfill']"
      ]
     },
     "execution_count": 24,
     "metadata": {},
     "output_type": "execute_result"
    }
   ],
   "source": [
    "# sys, os, datetime, re"
   ]
  },
  {
   "cell_type": "code",
   "execution_count": 25,
   "id": "42c32356",
   "metadata": {},
   "outputs": [
    {
     "data": {
      "text/plain": [
       "'3.12.3 (tags/v3.12.3:f6650f9, Apr  9 2024, 14:05:25) [MSC v.1938 64 bit (AMD64)]'"
      ]
     },
     "execution_count": 25,
     "metadata": {},
     "output_type": "execute_result"
    }
   ],
   "source": [
    "# ETL - sys module \n",
    "\n",
    "import sys\n",
    "sys.version"
   ]
  },
  {
   "cell_type": "code",
   "execution_count": null,
   "id": "149c4826",
   "metadata": {},
   "outputs": [],
   "source": [
    "# sys module methods:\n",
    "# sys.argv - list of command line arguments passed to the script\n",
    "# sys.exit() - exit the script with a status code   \n",
    "# sys.path - list of directories where Python looks for modules\n",
    "# sys.modules - dictionary of loaded modules"
   ]
  },
  {
   "cell_type": "code",
   "execution_count": 27,
   "id": "eff0f3c5",
   "metadata": {},
   "outputs": [
    {
     "data": {
      "text/plain": [
       "['c:\\\\Users\\\\JOHNJESUS\\\\AppData\\\\Local\\\\Programs\\\\Python\\\\Python312\\\\python312.zip',\n",
       " 'c:\\\\Users\\\\JOHNJESUS\\\\AppData\\\\Local\\\\Programs\\\\Python\\\\Python312\\\\DLLs',\n",
       " 'c:\\\\Users\\\\JOHNJESUS\\\\AppData\\\\Local\\\\Programs\\\\Python\\\\Python312\\\\Lib',\n",
       " 'c:\\\\Users\\\\JOHNJESUS\\\\AppData\\\\Local\\\\Programs\\\\Python\\\\Python312',\n",
       " '',\n",
       " 'C:\\\\Users\\\\JOHNJESUS\\\\AppData\\\\Roaming\\\\Python\\\\Python312\\\\site-packages',\n",
       " 'C:\\\\Users\\\\JOHNJESUS\\\\AppData\\\\Roaming\\\\Python\\\\Python312\\\\site-packages\\\\win32',\n",
       " 'C:\\\\Users\\\\JOHNJESUS\\\\AppData\\\\Roaming\\\\Python\\\\Python312\\\\site-packages\\\\win32\\\\lib',\n",
       " 'C:\\\\Users\\\\JOHNJESUS\\\\AppData\\\\Roaming\\\\Python\\\\Python312\\\\site-packages\\\\Pythonwin',\n",
       " 'c:\\\\Users\\\\JOHNJESUS\\\\AppData\\\\Local\\\\Programs\\\\Python\\\\Python312\\\\Lib\\\\site-packages']"
      ]
     },
     "execution_count": 27,
     "metadata": {},
     "output_type": "execute_result"
    }
   ],
   "source": [
    "sys.path"
   ]
  },
  {
   "cell_type": "code",
   "execution_count": 28,
   "id": "54240ae2",
   "metadata": {},
   "outputs": [
    {
     "data": {
      "text/plain": [
       "'c:\\\\Users\\\\JOHNJESUS\\\\OneDrive\\\\Desktop\\\\python training\\\\pythonBasics'"
      ]
     },
     "execution_count": 28,
     "metadata": {},
     "output_type": "execute_result"
    }
   ],
   "source": [
    "import os\n",
    "os.getcwd()  # Get current working directory"
   ]
  },
  {
   "cell_type": "code",
   "execution_count": 29,
   "id": "a2852822",
   "metadata": {},
   "outputs": [
    {
     "data": {
      "text/plain": [
       "['abstract_encapsulation_builtinmodules.ipynb',\n",
       " 'basics.ipynb',\n",
       " 'controlstructures.ipynb',\n",
       " 'employee_feedback.csv',\n",
       " 'fib.py',\n",
       " 'fib.pyc',\n",
       " 'Filehandling.ipynb',\n",
       " 'Function_prototype_arguments.ipynb',\n",
       " 'inheritance_polymorphism_encapsulation_abstraction.ipynb',\n",
       " 'oops.ipynb',\n",
       " 'test.txt',\n",
       " 'types of sql.png',\n",
       " 'types of sql_copy.png',\n",
       " '__pycache__']"
      ]
     },
     "execution_count": 29,
     "metadata": {},
     "output_type": "execute_result"
    }
   ],
   "source": [
    "os.listdir('.')  # List files in the current directory"
   ]
  },
  {
   "cell_type": "code",
   "execution_count": 31,
   "id": "bc0a98b1",
   "metadata": {},
   "outputs": [
    {
     "data": {
      "text/plain": [
       "['abstract_encapsulation_builtinmodules.ipynb',\n",
       " 'basics.ipynb',\n",
       " 'controlstructures.ipynb',\n",
       " 'employee_feedback.csv',\n",
       " 'fib.py',\n",
       " 'fib.pyc',\n",
       " 'Filehandling.ipynb',\n",
       " 'Function_prototype_arguments.ipynb',\n",
       " 'inheritance_polymorphism_encapsulation_abstraction.ipynb',\n",
       " 'oops.ipynb',\n",
       " 'test.txt',\n",
       " 'types of sql.png',\n",
       " 'types of sql_copy.png',\n",
       " '__pycache__']"
      ]
     },
     "execution_count": 31,
     "metadata": {},
     "output_type": "execute_result"
    }
   ],
   "source": [
    "# list the folder \n",
    "os.listdir('c:\\\\Users\\\\JOHNJESUS\\\\OneDrive\\\\Desktop\\\\python training\\\\pythonBasics')  # List files in a specific directory"
   ]
  },
  {
   "cell_type": "code",
   "execution_count": 32,
   "id": "e947e076",
   "metadata": {},
   "outputs": [],
   "source": [
    "os.chdir('c:\\\\Users\\\\JOHNJESUS\\\\OneDrive\\\\Desktop\\\\python training')  # Change current working directory"
   ]
  },
  {
   "cell_type": "code",
   "execution_count": 33,
   "id": "69134f79",
   "metadata": {},
   "outputs": [
    {
     "data": {
      "text/plain": [
       "'c:\\\\Users\\\\JOHNJESUS\\\\OneDrive\\\\Desktop\\\\python training'"
      ]
     },
     "execution_count": 33,
     "metadata": {},
     "output_type": "execute_result"
    }
   ],
   "source": [
    "os.getcwd()  # Get current working directory after changing it"
   ]
  },
  {
   "cell_type": "code",
   "execution_count": 34,
   "id": "d9ef3d3e",
   "metadata": {},
   "outputs": [],
   "source": [
    "os.mkdir('etl_new')  # Create a new directory\n"
   ]
  },
  {
   "cell_type": "code",
   "execution_count": 35,
   "id": "7802101a",
   "metadata": {},
   "outputs": [],
   "source": [
    "os.rename('etl_new', 'etl_testing')  # Rename a directory"
   ]
  },
  {
   "cell_type": "code",
   "execution_count": 36,
   "id": "1f665614",
   "metadata": {},
   "outputs": [],
   "source": [
    "os.rmdir('etl_testing')  # Remove a directory"
   ]
  },
  {
   "cell_type": "code",
   "execution_count": 37,
   "id": "2a7fcdfd",
   "metadata": {},
   "outputs": [
    {
     "data": {
      "text/plain": [
       "0.08469503600993922"
      ]
     },
     "execution_count": 37,
     "metadata": {},
     "output_type": "execute_result"
    }
   ],
   "source": [
    "import random\n",
    "random.random()"
   ]
  },
  {
   "cell_type": "code",
   "execution_count": 40,
   "id": "420c5a47",
   "metadata": {},
   "outputs": [
    {
     "data": {
      "text/plain": [
       "73"
      ]
     },
     "execution_count": 40,
     "metadata": {},
     "output_type": "execute_result"
    }
   ],
   "source": [
    "random.randint(1, 100)  # Generate a random integer between 1 and 100\n"
   ]
  },
  {
   "cell_type": "code",
   "execution_count": 41,
   "id": "ec8a7c2c",
   "metadata": {},
   "outputs": [
    {
     "data": {
      "text/plain": [
       "4"
      ]
     },
     "execution_count": 41,
     "metadata": {},
     "output_type": "execute_result"
    }
   ],
   "source": [
    "li= [1, 2, 3, 4, 5]\n",
    "random.choice(li)  # Randomly select an element from the list"
   ]
  },
  {
   "cell_type": "code",
   "execution_count": null,
   "id": "c6f51fad",
   "metadata": {},
   "outputs": [
    {
     "name": "stdout",
     "output_type": "stream",
     "text": [
      "[2, 1, 3, 4, 5]\n"
     ]
    }
   ],
   "source": [
    "random.shuffle(li)  # Shuffle the list in place\n",
    "print(li)  # Print the shuffled list"
   ]
  },
  {
   "cell_type": "code",
   "execution_count": 44,
   "id": "c556a345",
   "metadata": {},
   "outputs": [
    {
     "data": {
      "text/plain": [
       "'2025-06-02 15:34:45'"
      ]
     },
     "execution_count": 44,
     "metadata": {},
     "output_type": "execute_result"
    }
   ],
   "source": [
    "# datetime module - working with dates and times\n",
    "\n",
    "from datetime import datetime\n",
    "datetime.now()  # Get current date and time\n",
    "datetime.now().strftime('%Y-%m-%d %H:%M:%S')  # Format current date and time as a string"
   ]
  },
  {
   "cell_type": "code",
   "execution_count": 46,
   "id": "070404b8",
   "metadata": {},
   "outputs": [
    {
     "name": "stdout",
     "output_type": "stream",
     "text": [
      "2025-11-23\n"
     ]
    }
   ],
   "source": [
    "from datetime import date\n",
    "date.today()  # Get current date\n",
    "my_date=date(2025,11,23)\n",
    "print(my_date)  # Output: 2025-11-23"
   ]
  },
  {
   "cell_type": "code",
   "execution_count": 48,
   "id": "5a5df37c",
   "metadata": {},
   "outputs": [
    {
     "name": "stdout",
     "output_type": "stream",
     "text": [
      "2025-06-09 15:37:10\n"
     ]
    }
   ],
   "source": [
    "from datetime import datetime,timedelta\n",
    "today_date = datetime.now()  # Get current date and time\n",
    "after_date=today_date +timedelta(days=7)  # Add 5 days to the current date\n",
    "print(after_date.strftime('%Y-%m-%d %H:%M:%S'))  # Output: Date after 5 days in the specified format"
   ]
  },
  {
   "cell_type": "code",
   "execution_count": 50,
   "id": "ffd11507",
   "metadata": {},
   "outputs": [
    {
     "name": "stdout",
     "output_type": "stream",
     "text": [
      "2025-06-02 15:39:12\n",
      "<class 'str'>\n",
      "2025-06-02 15:39:12\n",
      "<class 'datetime.datetime'>\n"
     ]
    }
   ],
   "source": [
    "from datetime import datetime\n",
    "now= datetime.now()  # Get current date and time\n",
    "formatted_date = now.strftime('%Y-%m-%d %H:%M:%S')  # Format current date and time as a string\n",
    "print(formatted_date)  # Output: Current date and time in the specified format\n",
    "print(type(formatted_date))  # Output: <class 'str'>, confirming it's a string\n",
    "\n",
    "\n",
    "parsed_date= datetime.strptime(formatted_date, '%Y-%m-%d %H:%M:%S')  # Parse the formatted string back to a datetime object'\n",
    "print(parsed_date)  # Output: Parsed datetime object\n",
    "print(type(parsed_date))  # Output: <class 'datetime.datetime'>, confirming it's a datetime object"
   ]
  }
 ],
 "metadata": {
  "kernelspec": {
   "display_name": "Python 3",
   "language": "python",
   "name": "python3"
  },
  "language_info": {
   "codemirror_mode": {
    "name": "ipython",
    "version": 3
   },
   "file_extension": ".py",
   "mimetype": "text/x-python",
   "name": "python",
   "nbconvert_exporter": "python",
   "pygments_lexer": "ipython3",
   "version": "3.12.3"
  }
 },
 "nbformat": 4,
 "nbformat_minor": 5
}

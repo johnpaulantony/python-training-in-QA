{
 "cells": [
  {
   "cell_type": "code",
   "execution_count": 3,
   "id": "cecaf344",
   "metadata": {},
   "outputs": [],
   "source": [
    "class Employee:\n",
    "    emp_count=0 # class attribute\n",
    "    def __init__(self,name,id,role):\n",
    "        self.emp_name=name # instance attribute\n",
    "        self.emp_id=id\n",
    "        self.emp_role=role\n",
    "        Employee.emp_count+=1\n",
    "\n",
    "    def get_emp_details(self):\n",
    "        return f\"Name: {self.emp_name}, ID: {self.emp_id}, Role: {self.emp_role}\"\n",
    "    \n",
    "emp_one=Employee(\"Alice\",101,\"Developer\")\n",
    "emp_two=Employee(\"Bob\",102,\"Manager\")\n",
    "\n",
    "    \n"
   ]
  },
  {
   "cell_type": "code",
   "execution_count": 2,
   "id": "a3371ef5",
   "metadata": {},
   "outputs": [
    {
     "data": {
      "text/plain": [
       "'Name: Alice, ID: 101, Role: Developer'"
      ]
     },
     "execution_count": 2,
     "metadata": {},
     "output_type": "execute_result"
    }
   ],
   "source": [
    "emp_one.get_emp_details()"
   ]
  },
  {
   "cell_type": "code",
   "execution_count": 4,
   "id": "8a901efa",
   "metadata": {},
   "outputs": [
    {
     "data": {
      "text/plain": [
       "2"
      ]
     },
     "execution_count": 4,
     "metadata": {},
     "output_type": "execute_result"
    }
   ],
   "source": [
    "Employee.emp_count"
   ]
  },
  {
   "cell_type": "code",
   "execution_count": 6,
   "id": "86284665",
   "metadata": {},
   "outputs": [
    {
     "data": {
      "text/plain": [
       "'Alice'"
      ]
     },
     "execution_count": 6,
     "metadata": {},
     "output_type": "execute_result"
    }
   ],
   "source": [
    "emp_one.emp_name"
   ]
  },
  {
   "cell_type": "code",
   "execution_count": 16,
   "id": "eab04357",
   "metadata": {},
   "outputs": [
    {
     "data": {
      "text/plain": [
       "True"
      ]
     },
     "execution_count": 16,
     "metadata": {},
     "output_type": "execute_result"
    }
   ],
   "source": [
    "# atrritbutes access statements - functions\n",
    "\n",
    "#getattr(obj, attr_name) - returns the value of the attribute\n",
    "getattr(emp_one, 'emp_name')  # returns 'Alice'\n",
    "\n",
    "#hasattr(obj, attr_name) - checks if the attribute exists\n",
    "hasattr(emp_one, 'emp_role')  # returns True\n",
    "\n",
    "#setattr(obj, attr_name, value) - sets the value of the attribute\n",
    "setattr(emp_one, 'emp_sal', '30000')  # creates a new attribute 'emp_sal' with value '30000'\n",
    "\n",
    "getattr(emp_one, 'emp_sal')  # returns '30000'\n",
    "\n",
    "#delattr(obj, attr_name) - deletes the attribute\n",
    "delattr(emp_one, 'emp_sal')  # deletes the 'emp_sal' attribute\n",
    "\n",
    "hasattr(emp_one, 'emp_sal')  # returns False, since 'emp_sal' has been deleted\n",
    "\n",
    "#isinstance(obj, class) - checks if obj is an instance of class\n",
    "isinstance(emp_one, Employee)  # returns True, since emp_one is an instance of Employee\n"
   ]
  },
  {
   "cell_type": "code",
   "execution_count": 17,
   "id": "e5cd79b7",
   "metadata": {},
   "outputs": [
    {
     "name": "stdout",
     "output_type": "stream",
     "text": [
      "Salaries without decimals: [30, 40, 25]\n",
      "Salaries with decimals: [30.5, 20.5, 47.3]\n"
     ]
    }
   ],
   "source": [
    "emp_sal=[30,30.5,40,20.5,25,47.3]\n",
    "\n",
    "emp_sal_wodb=[]\n",
    "emp_sal_wdb=[]\n",
    "\n",
    "for sal in emp_sal:\n",
    "    if isinstance(sal,int):\n",
    "        emp_sal_wodb.append(sal)\n",
    "    else:\n",
    "        emp_sal_wdb.append(sal)\n",
    "\n",
    "print(\"Salaries without decimals:\", emp_sal_wodb)\n",
    "print(\"Salaries with decimals:\", emp_sal_wdb)\n"
   ]
  },
  {
   "cell_type": "code",
   "execution_count": 18,
   "id": "275fdbb5",
   "metadata": {},
   "outputs": [
    {
     "name": "stdout",
     "output_type": "stream",
     "text": [
      "Numbers: [10, 34, 45.6]\n",
      "Words: ['john', 'developer']\n"
     ]
    }
   ],
   "source": [
    "details=[10,\"john\",34,\"developer\",45.6]\n",
    "numbers=[]\n",
    "words=[]\n",
    "\n",
    "for detail in details:\n",
    "    if isinstance(detail,str):\n",
    "        words.append(detail)\n",
    "    else:\n",
    "        numbers.append(detail)\n",
    "print(\"Numbers:\", numbers)\n",
    "print(\"Words:\", words)"
   ]
  },
  {
   "cell_type": "code",
   "execution_count": 28,
   "id": "612a8393",
   "metadata": {},
   "outputs": [],
   "source": [
    "# ETL steps - blueprint - class\n",
    "\n",
    "class Extract:\n",
    "    def __init__(self,source):\n",
    "        self.data_source = source\n",
    "\n",
    "    def extract(self, data):\n",
    "        print(\"Extracting data...\")\n",
    "        # Simulate data extraction\n",
    "        return data\n",
    "    \n",
    "class Transform:\n",
    "    def __init__(self, rules):\n",
    "        self.rules = rules\n",
    "    def transform(self, data):\n",
    "        print(\"Transforming data...\")\n",
    "        # Simulate data transformation\n",
    "        return data.upper()  # Example transformation\n",
    "    \n",
    "class Load:\n",
    "    def load(self, data):\n",
    "        print(\"Loading data...\")\n",
    "        # Simulate data loading\n",
    "        print(f\"Data loaded: {data}\")"
   ]
  },
  {
   "cell_type": "code",
   "execution_count": 29,
   "id": "9565618e",
   "metadata": {},
   "outputs": [],
   "source": [
    "# instantiate the classes\n",
    "extract = Extract('data_source')\n",
    "transformer = Transform(\"read\")\n",
    "loader = Load()"
   ]
  },
  {
   "cell_type": "code",
   "execution_count": 32,
   "id": "684550ad",
   "metadata": {},
   "outputs": [
    {
     "name": "stdout",
     "output_type": "stream",
     "text": [
      "Wheels: 4, Engine Type: V6, Fuel Type: Petrol\n"
     ]
    }
   ],
   "source": [
    "# inheritance \n",
    "'''   \n",
    "  class Car -> wheels, engine type, gear( base class) - fuel type\n",
    "        class GasCar -> child class\n",
    "\n",
    "\n",
    "inherit the attributes from the base class into the child class\n",
    "'''\n",
    "# single inheritance example\n",
    "class Vehicle:\n",
    "    def __init__(self, wheels, engine_type):\n",
    "        self.wheels = wheels\n",
    "        self.engine_type = engine_type\n",
    "\n",
    "    def vehicle_info(self):\n",
    "        return f\"Wheels: {self.wheels}, Engine Type: {self.engine_type}\"\n",
    "    \n",
    "class Car(Vehicle):\n",
    "    def __init__(self, wheels, engine_type, fuel_type):\n",
    "        super().__init__(wheels, engine_type)  # Call the constructor of the base class\n",
    "        self.fuel_type = fuel_type\n",
    "\n",
    "    def car_info(self):\n",
    "        return f\"{self.vehicle_info()}, Fuel Type: {self.fuel_type}\"\n",
    "    \n",
    "# Example usage\n",
    "car = Car(4, \"V6\", \"Petrol\")\n",
    "print(car.car_info())  # Output: Wheels: 4, Engine Type: V6, Fuel Type: Petrol"
   ]
  }
 ],
 "metadata": {
  "kernelspec": {
   "display_name": "Python 3",
   "language": "python",
   "name": "python3"
  },
  "language_info": {
   "codemirror_mode": {
    "name": "ipython",
    "version": 3
   },
   "file_extension": ".py",
   "mimetype": "text/x-python",
   "name": "python",
   "nbconvert_exporter": "python",
   "pygments_lexer": "ipython3",
   "version": "3.12.3"
  }
 },
 "nbformat": 4,
 "nbformat_minor": 5
}

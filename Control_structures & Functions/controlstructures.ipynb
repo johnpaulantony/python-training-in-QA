{
 "cells": [
  {
   "cell_type": "code",
   "execution_count": 1,
   "id": "2cc4e3ed",
   "metadata": {},
   "outputs": [
    {
     "name": "stdout",
     "output_type": "stream",
     "text": [
      "a is less than b\n"
     ]
    }
   ],
   "source": [
    "# Control Strutures - To control the flow of a program\n",
    "# Conditional Statements - if, elif, else\n",
    "# unconditional statements - break, continue, pass\n",
    "# Looping - for, while\n",
    "\n",
    "a=10\n",
    "b=30\n",
    "if a<b: # if condition is true, execute the block of code\n",
    "    print(\"a is less than b\")"
   ]
  },
  {
   "cell_type": "code",
   "execution_count": 3,
   "id": "427b65c8",
   "metadata": {},
   "outputs": [
    {
     "name": "stdout",
     "output_type": "stream",
     "text": [
      "103\n",
      "Employee ID found\n"
     ]
    }
   ],
   "source": [
    "# unconditional statements\n",
    "# break - used to exit a loop\n",
    "\n",
    "employee_ids=[101, 102, 103, 104, 105]\n",
    "search_id=103\n",
    "for emp_id in employee_ids:\n",
    "    if emp_id==search_id:\n",
    "        print(emp_id)\n",
    "        print(\"Employee ID found\")\n",
    "        break # exit the loop\n"
   ]
  },
  {
   "cell_type": "code",
   "execution_count": null,
   "id": "c843a75d",
   "metadata": {},
   "outputs": [
    {
     "name": "stdout",
     "output_type": "stream",
     "text": [
      "[100, 200, 300, 300]\n"
     ]
    }
   ],
   "source": [
    "# continue - used to skip the current iteration and continue with the next one\n",
    "#  we can store only for spending less than 400 in the list\n",
    "\n",
    "bank_transaction=[100, 200, 300, 400, 500,300,1000]\n",
    "money_list=[]\n",
    "for money in bank_transaction:\n",
    "    if money>=400:\n",
    "        continue # skip the current iteration\n",
    "    else:\n",
    "        money_list.append(money)\n",
    "print(money_list)"
   ]
  },
  {
   "cell_type": "code",
   "execution_count": 7,
   "id": "1c6b9cd3",
   "metadata": {},
   "outputs": [
    {
     "name": "stdout",
     "output_type": "stream",
     "text": [
      "valid transaction amount: 150 processed\n",
      "Invalid transaction amount: -30 skipped\n",
      "valid transaction amount: 200 processed\n",
      "Invalid transaction amount: -50 skipped\n",
      "valid transaction amount: 300 processed\n"
     ]
    }
   ],
   "source": [
    "# checking valid or invalid transcation in an online banking system\n",
    "\n",
    "transactions=[150,-30,200,-50,300]\n",
    "for amount in transactions:\n",
    "    if amount<0:\n",
    "        print(f\"Invalid transaction amount: {amount} skipped\")\n",
    "        continue\n",
    "    else:\n",
    "        print(f\"valid transaction amount: {amount} processed\")\n",
    "\n",
    "\n"
   ]
  },
  {
   "cell_type": "code",
   "execution_count": null,
   "id": "b98e6434",
   "metadata": {},
   "outputs": [],
   "source": [
    "# pass - placeholder statement, used when a statement is required syntactically but you do not want to execute any code\n",
    "\n",
    "def message():\n",
    "    pass\n",
    "\n",
    "# if you want to define a function but do not want to implement it yet, you can use pass statement, class, methods"
   ]
  },
  {
   "cell_type": "code",
   "execution_count": null,
   "id": "c7038328",
   "metadata": {},
   "outputs": [],
   "source": [
    "class Employee:\n",
    "    pass"
   ]
  },
  {
   "cell_type": "code",
   "execution_count": null,
   "id": "a36dc209",
   "metadata": {},
   "outputs": [],
   "source": []
  },
  {
   "cell_type": "code",
   "execution_count": 12,
   "id": "c83c3ae9",
   "metadata": {},
   "outputs": [],
   "source": [
    "class Employee:\n",
    "    def __init__(self,name, age):\n",
    "        self.name=name\n",
    "        self.age=age\n",
    "    def work(self):\n",
    "        pass\n",
    "\n",
    "    def take_break(self):\n",
    "        print(\"Taking a break\")"
   ]
  },
  {
   "cell_type": "code",
   "execution_count": 13,
   "id": "c251a531",
   "metadata": {},
   "outputs": [],
   "source": [
    "emp_one=Employee(\"John\", 30)"
   ]
  },
  {
   "cell_type": "code",
   "execution_count": 14,
   "id": "d8326d22",
   "metadata": {},
   "outputs": [
    {
     "data": {
      "text/plain": [
       "'John'"
      ]
     },
     "execution_count": 14,
     "metadata": {},
     "output_type": "execute_result"
    }
   ],
   "source": [
    "emp_one.name"
   ]
  },
  {
   "cell_type": "code",
   "execution_count": 15,
   "id": "20f4b5c8",
   "metadata": {},
   "outputs": [],
   "source": [
    "emp_two=Employee(\"shubam\", 25)"
   ]
  },
  {
   "cell_type": "code",
   "execution_count": 16,
   "id": "4fa96166",
   "metadata": {},
   "outputs": [
    {
     "data": {
      "text/plain": [
       "'shubam'"
      ]
     },
     "execution_count": 16,
     "metadata": {},
     "output_type": "execute_result"
    }
   ],
   "source": [
    "emp_two.name"
   ]
  },
  {
   "cell_type": "code",
   "execution_count": 18,
   "id": "a5adc071",
   "metadata": {},
   "outputs": [
    {
     "name": "stdout",
     "output_type": "stream",
     "text": [
      "it is an odd number\n",
      "1\n",
      "it is an even number\n",
      "2\n",
      "it is an odd number\n",
      "3\n",
      "it is an even number\n",
      "4\n",
      "it is an odd number\n",
      "5\n",
      "it is an even number\n",
      "6\n",
      "it is an odd number\n",
      "7\n",
      "it is an even number\n",
      "8\n",
      "it is an odd number\n",
      "9\n",
      "it is an even number\n",
      "10\n"
     ]
    }
   ],
   "source": [
    "number=[1,2,3,4,5,6,7,8,9,10]\n",
    "\n",
    "for num in number:\n",
    "    if num%2 == 0:\n",
    "        pass # even number, do nothing\n",
    "        print(\"it is an even number\")\n",
    "        print(num)\n",
    "    else:\n",
    "        print(\"it is an odd number\")\n",
    "        print(num)"
   ]
  },
  {
   "cell_type": "code",
   "execution_count": 19,
   "id": "a26b6f76",
   "metadata": {},
   "outputs": [
    {
     "name": "stdout",
     "output_type": "stream",
     "text": [
      "Processing Record 1\n",
      "Processing Record 2\n",
      "Processing Record 3\n",
      "Corrupt line found, stopping the process\n"
     ]
    }
   ],
   "source": [
    "# ETL usecase - break, continue \n",
    "# stop reading if we encounter a corrupt line is found in the log file\n",
    "log_lines=[\"Record 1\", \"Record 2\", \"Record 3\", \"corrupt\", \"Record 5\"]\n",
    "\n",
    "for line in log_lines:\n",
    "    if line==\"corrupt\":\n",
    "        print(\"Corrupt line found, stopping the process\")\n",
    "        break # stop reading the file\n",
    "    else:\n",
    "        print(f\"Processing {line}\") # process the line"
   ]
  },
  {
   "cell_type": "code",
   "execution_count": 24,
   "id": "30c0ec5f",
   "metadata": {},
   "outputs": [
    {
     "name": "stdout",
     "output_type": "stream",
     "text": [
      "Invalid entry found, skipping\n",
      "Invalid entry found, skipping\n",
      "Invalid entry found, skipping\n",
      "Invalid entry found, skipping\n",
      "Processing 500\n",
      "Invalid entry found, skipping\n",
      "Processing 600\n"
     ]
    }
   ],
   "source": [
    "# ETL - Skip invalid entries during transformation\n",
    "\n",
    "data=[100,200,200,400,500,300,600]\n",
    "\n",
    "for item in data:\n",
    "    if item<=400:\n",
    "        print(\"Invalid entry found, skipping\")\n",
    "        continue # skip the invalid entry\n",
    "        item=item+10\n",
    "      \n",
    "    else:\n",
    "        print(f\"Processing {item}\") # process the valid entry\n"
   ]
  },
  {
   "cell_type": "code",
   "execution_count": 30,
   "id": "a928b8db",
   "metadata": {},
   "outputs": [
    {
     "name": "stdout",
     "output_type": "stream",
     "text": [
      "30\n"
     ]
    },
    {
     "data": {
      "text/plain": [
       "int"
      ]
     },
     "execution_count": 30,
     "metadata": {},
     "output_type": "execute_result"
    }
   ],
   "source": [
    "# I/O formatting \n",
    "\n",
    "# input() - to take input from the user\n",
    "\n",
    "details=int(input(\"Enter your details: \"))\n",
    "print(details) # print the details entered by the user\n",
    "type(details) # check the type of the input entered by the user\n"
   ]
  },
  {
   "cell_type": "code",
   "execution_count": null,
   "id": "bc14dd93",
   "metadata": {},
   "outputs": [],
   "source": [
    "# output formatting - print() function\n",
    "# print() - to display output on the console\n",
    "\n",
    "<3.8 format() - format method\n",
    ">3,8 - f-string - formatted string literals"
   ]
  },
  {
   "cell_type": "code",
   "execution_count": 31,
   "id": "eed91372",
   "metadata": {},
   "outputs": [
    {
     "name": "stdout",
     "output_type": "stream",
     "text": [
      "My name is john and I am 33 years old\n"
     ]
    }
   ],
   "source": [
    "name=\"john\"\n",
    "age=33\n",
    "\n",
    "print(f\"My name is {name} and I am {age} years old\") # f-string formatting\n",
    "\n"
   ]
  },
  {
   "cell_type": "code",
   "execution_count": 32,
   "id": "1447aa05",
   "metadata": {},
   "outputs": [
    {
     "name": "stdout",
     "output_type": "stream",
     "text": [
      "Sum of 10 and 20 is 30\n"
     ]
    }
   ],
   "source": [
    "number=10\n",
    "num_two=20\n",
    "print(f\"Sum of {number} and {num_two} is {number+num_two}\") # f-string formatting\n"
   ]
  },
  {
   "cell_type": "code",
   "execution_count": 33,
   "id": "97526ef3",
   "metadata": {},
   "outputs": [
    {
     "name": "stdout",
     "output_type": "stream",
     "text": [
      "IS num Even? False\n"
     ]
    }
   ],
   "source": [
    "num=87\n",
    "print(f\"IS num Even? {True if num%2==0 else False}\") # f-string formatting"
   ]
  },
  {
   "cell_type": "code",
   "execution_count": 34,
   "id": "baa5ff25",
   "metadata": {},
   "outputs": [
    {
     "name": "stdout",
     "output_type": "stream",
     "text": [
      "Book author is Smith Paul\n"
     ]
    }
   ],
   "source": [
    "book_author=\"Smith paul\"\n",
    "print(f\"Book author is {book_author.title()}\") # f-string formatting"
   ]
  },
  {
   "cell_type": "code",
   "execution_count": null,
   "id": "99b201f8",
   "metadata": {},
   "outputs": [],
   "source": [
    "# function - to define a block of code that can be reused, perform a single action or task at a time\n",
    "\n",
    "# how to define a function\n",
    "\n",
    "def function_name(parameters):\n",
    "    # function body\n",
    "    # code to be executed\n",
    "    return value # optional, used to return a value from the function"
   ]
  },
  {
   "cell_type": "code",
   "execution_count": null,
   "id": "2e148e04",
   "metadata": {},
   "outputs": [
    {
     "name": "stdout",
     "output_type": "stream",
     "text": [
      "30\n"
     ]
    }
   ],
   "source": [
    "def add(a,b):\n",
    "    return a+b # return the sum of two numbers\n",
    "result=add(10,20)\n",
    "print(result)"
   ]
  },
  {
   "cell_type": "code",
   "execution_count": null,
   "id": "23f64492",
   "metadata": {},
   "outputs": [
    {
     "name": "stdout",
     "output_type": "stream",
     "text": [
      "30\n",
      "None\n"
     ]
    }
   ],
   "source": [
    "def add(a,b):\n",
    "    print(a+b) # print the sum of two numbers\n",
    "result=add(10,20)\n",
    "print(result)\n",
    "\n",
    "\n",
    "# if you write any function in a module, give return statemnt to the function, otherwise it will return None by default"
   ]
  }
 ],
 "metadata": {
  "kernelspec": {
   "display_name": "Python 3",
   "language": "python",
   "name": "python3"
  },
  "language_info": {
   "codemirror_mode": {
    "name": "ipython",
    "version": 3
   },
   "file_extension": ".py",
   "mimetype": "text/x-python",
   "name": "python",
   "nbconvert_exporter": "python",
   "pygments_lexer": "ipython3",
   "version": "3.11.5"
  }
 },
 "nbformat": 4,
 "nbformat_minor": 5
}

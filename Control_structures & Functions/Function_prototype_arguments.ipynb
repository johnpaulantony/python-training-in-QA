{
 "cells": [
  {
   "cell_type": "code",
   "execution_count": null,
   "id": "3dc45e60",
   "metadata": {},
   "outputs": [
    {
     "name": "stdout",
     "output_type": "stream",
     "text": [
      "Total bill after discount is 900.0\n"
     ]
    }
   ],
   "source": [
    "'''function prototype\n",
    "              - with arguments and return value\n",
    "              - without arguments and return value\n",
    "                - with arguments and without return value\n",
    "                - without arguments and without return value\n",
    "            \n",
    "# usecase - Biiling system\n",
    "\n",
    "# Task 1 - function with arguments and return value - calculate total bill after applying discount\n",
    "\n",
    "def calculate_total_bill(total,discount_percent):\n",
    "    \"\"\" Returns the total bill after applying discount \"\"\"\n",
    "    discount = (total * discount_percent) / 100\n",
    "    total_bill = total - discount\n",
    "    return round(total_bill,2)\n",
    "\n",
    "amount=calculate_total_bill(1000,10)\n",
    "print(f\"Total bill after discount is {amount}\")"
   ]
  },
  {
   "cell_type": "code",
   "execution_count": 2,
   "id": "f1a3efa0",
   "metadata": {},
   "outputs": [
    {
     "name": "stdout",
     "output_type": "stream",
     "text": [
      "Receipt\n",
      "--------\n",
      "Customer Name: john\n",
      "Total Bill: $900.0\n",
      "Thank you for shopping with us!\n"
     ]
    }
   ],
   "source": [
    "# task 2 - function with arguments and no return value - print a formatted bill receipt\n",
    "\n",
    "def print_receipt(Customer_name, total_bill):\n",
    "    \"\"\" Prints a formatted bill receipt \"\"\"\n",
    "    print(\"Receipt\")\n",
    "    print(\"--------\")\n",
    "    print(f\"Customer Name: {Customer_name}\")\n",
    "    print(f\"Total Bill: ${total_bill}\")\n",
    "    print(\"Thank you for shopping with us!\")\n",
    "\n",
    "\n",
    "print_receipt(\"john\",900.0)"
   ]
  },
  {
   "cell_type": "code",
   "execution_count": 4,
   "id": "2086bfbd",
   "metadata": {},
   "outputs": [
    {
     "data": {
      "text/plain": [
       "0.18"
      ]
     },
     "execution_count": 4,
     "metadata": {},
     "output_type": "execute_result"
    }
   ],
   "source": [
    "# Task 3 - without arguments and return value - get the current date and time, fetch the tax rate from system config\n",
    "\n",
    "def get_current_date_time():\n",
    "    \"\"\" Returns the current date and time \"\"\"\n",
    "    from datetime import datetime\n",
    "    return datetime.now().strftime(\"%Y-%m-%d %H:%M:%S\")\n",
    "\n",
    "get_current_date_time()\n",
    "\n",
    "\n",
    "def get_tax_rate():\n",
    "    \"\"\" Returns the tax rate from system config \"\"\"\n",
    "    # Assuming we have a config file or database to fetch the tax rate\n",
    "    # For simplicity, we will return a hardcoded value\n",
    "    return 0.18  #18% GST\n",
    "\n",
    "get_tax_rate()"
   ]
  },
  {
   "cell_type": "code",
   "execution_count": 5,
   "id": "2703c8ee",
   "metadata": {},
   "outputs": [
    {
     "name": "stdout",
     "output_type": "stream",
     "text": [
      "Transaction completed successfully!\n",
      "Thank you for using our ATM service!\n"
     ]
    }
   ],
   "source": [
    "# Task 4 - without arguments and no return value - print a message to the user - ATM transaction - end of the transaction\n",
    "def print_transaction_end_message():\n",
    "    \"\"\" Prints a message to the user at the end of the transaction \"\"\"\n",
    "    print(\"Transaction completed successfully!\")\n",
    "    print(\"Thank you for using our ATM service!\")\n",
    "\n",
    "print_transaction_end_message()"
   ]
  },
  {
   "cell_type": "code",
   "execution_count": null,
   "id": "92d92ef5",
   "metadata": {},
   "outputs": [],
   "source": [
    "# Types of arguments in python\n",
    "# 1. Positional arguments\n",
    "# 2. Keyword arguments\n",
    "# 3. Default arguments\n",
    "# 4. Variable-length arguments (args and kwargs)\n",
    "# 5. Keyword-only arguments - 3.8 and above\n",
    "# 6. Positional-only arguments - 3.8 and above\n"
   ]
  },
  {
   "cell_type": "code",
   "execution_count": 8,
   "id": "8b6a2693",
   "metadata": {},
   "outputs": [
    {
     "name": "stdout",
     "output_type": "stream",
     "text": [
      "Hello 30, you are shubham years old.\n"
     ]
    }
   ],
   "source": [
    "# positional arguments - 1st argument is the first parameter, 2nd argument is the second parameter and so on\n",
    "def message(name,age):\n",
    "    \"\"\" Prints a message with name and age \"\"\"\n",
    "    print(f\"Hello {name}, you are {age} years old.\")\n",
    "\n",
    "message(30,\"shubham\")"
   ]
  },
  {
   "cell_type": "code",
   "execution_count": 11,
   "id": "9617346e",
   "metadata": {},
   "outputs": [
    {
     "name": "stdout",
     "output_type": "stream",
     "text": [
      "Hello shubham, you are 30 years old.\n"
     ]
    }
   ],
   "source": [
    "# keyword arguments - you can pass the arguments in any order, but you have to use the parameter name\n",
    "def message(age,name):\n",
    "    \"\"\" Prints a message with name and age \"\"\"\n",
    "    print(f\"Hello {name}, you are {age} years old.\")\n",
    "message(name=\"shubham\",age=30)"
   ]
  },
  {
   "cell_type": "code",
   "execution_count": null,
   "id": "a7745f2d",
   "metadata": {},
   "outputs": [
    {
     "name": "stdout",
     "output_type": "stream",
     "text": [
      "Ticket booked for shubham for 1 tickets.\n"
     ]
    },
    {
     "data": {
      "text/plain": [
       "78.5"
      ]
     },
     "execution_count": 16,
     "metadata": {},
     "output_type": "execute_result"
    }
   ],
   "source": [
    "# default arguments - no of tickets is 1 by default, if you don't pass the value, it will take the default value\n",
    "\n",
    "def book_ticket(name, no_of_tickets=1):\n",
    "    \"\"\" Books a ticket for the user \"\"\"\n",
    "    print(f\"Ticket booked for {name} for {no_of_tickets} tickets.\") \n",
    "\n",
    "book_ticket(\"shubham\") \n",
    "\n",
    "\n",
    "def area_of_circle(radius, pi=3.14):\n",
    "    \"\"\" Returns the area of circle \"\"\"\n",
    "    return pi * radius * radius\n",
    "    \n",
    "area_of_circle(5) # 78.5"
   ]
  },
  {
   "cell_type": "code",
   "execution_count": 17,
   "id": "a6331f80",
   "metadata": {},
   "outputs": [
    {
     "data": {
      "text/plain": [
       "526000"
      ]
     },
     "execution_count": 17,
     "metadata": {},
     "output_type": "execute_result"
    }
   ],
   "source": [
    "# variable-length arguments - *args and **kwargs\n",
    "#  *args - used to pass a variable number of non-keyword arguments to a function\n",
    "#  **kwargs - used to pass a variable number of keyword arguments to a function\n",
    "\n",
    "def total_salary(*salaries):\n",
    "    \"\"\" Returns the total salary \"\"\"\n",
    "    total = 0\n",
    "    for salary in salaries:\n",
    "        total += salary \n",
    "    return total\n",
    "\n",
    "total_salary(1000,2000,3000,30000,50000,40000,60000,70000,80000,90000,100000) # 1000000"
   ]
  },
  {
   "cell_type": "code",
   "execution_count": 18,
   "id": "9f92d59d",
   "metadata": {},
   "outputs": [
    {
     "name": "stdout",
     "output_type": "stream",
     "text": [
      "name: shubham\n",
      "age: 30\n",
      "salary: 100000\n",
      "department: IT\n",
      "location: Pune\n"
     ]
    }
   ],
   "source": [
    "# **kwargs - used to pass a variable number of keyword arguments to a function\n",
    "def employee_details(**details):\n",
    "    \"\"\" Prints the employee details \"\"\"\n",
    "    for key, value in details.items():\n",
    "        print(f\"{key}: {value}\")\n",
    "\n",
    "employee_details(name=\"shubham\", age=30, salary=100000, department=\"IT\", location=\"Pune\") # name: shubham, age: 30, salary: 100000, department: IT, location: Pune"
   ]
  },
  {
   "cell_type": "code",
   "execution_count": null,
   "id": "01da37f6",
   "metadata": {},
   "outputs": [],
   "source": [
    "if you are knowing the number of arguments - positional arguments\n",
    "if you are not knowing the number of arguments - variable-length arguments\n",
    "if you are knowing the name of the arguments - keyword arguments    \n",
    "if you are not knowing the name of the arguments - variable-length keyword arguments"
   ]
  },
  {
   "cell_type": "code",
   "execution_count": 24,
   "id": "60a05b30",
   "metadata": {},
   "outputs": [
    {
     "name": "stdout",
     "output_type": "stream",
     "text": [
      "Hello shubham, you are 30 years old.\n"
     ]
    }
   ],
   "source": [
    "# python 3.8+ - positional-only arguments and keyword-only arguments\n",
    "\n",
    "def message(name,age):\n",
    "    print(f\"Hello {name}, you are {age} years old.\")\n",
    "message(age=30,name=\"shubham\") # Hello shubham, you are 30 years old."
   ]
  },
  {
   "cell_type": "code",
   "execution_count": 40,
   "id": "30a41763",
   "metadata": {},
   "outputs": [
    {
     "name": "stdout",
     "output_type": "stream",
     "text": [
      "Hello 40, you are shubam years old.\n"
     ]
    }
   ],
   "source": [
    "def message(name,/,age):\n",
    "    print(f\"Hello {name}, you are {age} years old.\")\n",
    "message(40,'shubam') # Hello shubham, you are 30 years old."
   ]
  },
  {
   "cell_type": "code",
   "execution_count": 41,
   "id": "8374c923",
   "metadata": {},
   "outputs": [
    {
     "name": "stdout",
     "output_type": "stream",
     "text": [
      "Hello shubam, you are 40 years old.\n"
     ]
    }
   ],
   "source": [
    "#keyword-only arguments - keyword-only arguments must be passed as keyword arguments, not as positional arguments\n",
    "def message(name,*,age):\n",
    "    print(f\"Hello {name}, you are {age} years old.\")\n",
    "message(age=40,name='shubam') # Hello shubham, you are 30 years old."
   ]
  },
  {
   "cell_type": "code",
   "execution_count": 48,
   "id": "3d58b270",
   "metadata": {},
   "outputs": [
    {
     "name": "stdout",
     "output_type": "stream",
     "text": [
      "Ticket booked for john from chennai to bangalore in business class with Aisle seat.\n",
      "Passengers: shubham, kala\n",
      "Extra: meal: Veg, baggage: 20kg\n",
      "Thank you for booking with us!\n"
     ]
    }
   ],
   "source": [
    "# airline ticket booking system - function to book a ticket with default arguments, variable-length arguments, keyword arguments, keyword-only arguments and positional-only arguments\n",
    "\n",
    "\n",
    "            \n",
    "\n",
    "def book_ticket(name,source,destination,travel_class,seat=\"Window\",*passengers,**extra):\n",
    "    \"\"\" Books a ticket for the user \"\"\"\n",
    "    print(f\"Ticket booked for {name} from {source} to {destination} in {travel_class} class with {seat} seat.\")\n",
    "    if passengers:\n",
    "        print(f\"Passengers: {', '.join(passengers)}\")\n",
    "    if extra:\n",
    "        print(f\"Extra: {', '.join(f'{k}: {v}' for k, v in extra.items())}\")\n",
    "    print(\"Thank you for booking with us!\")\n",
    "\n",
    "book_ticket(\"john\",\n",
    "\"chennai\",\n",
    "\"bangalore\",\n",
    "\"business\",\n",
    "\"Aisle\",\n",
    "\"shubham\",\"kala\",\n",
    "meal=\"Veg\",\n",
    "baggage=\"20kg\")"
   ]
  }
 ],
 "metadata": {
  "kernelspec": {
   "display_name": "Python 3",
   "language": "python",
   "name": "python3"
  },
  "language_info": {
   "codemirror_mode": {
    "name": "ipython",
    "version": 3
   },
   "file_extension": ".py",
   "mimetype": "text/x-python",
   "name": "python",
   "nbconvert_exporter": "python",
   "pygments_lexer": "ipython3",
   "version": "3.11.5"
  }
 },
 "nbformat": 4,
 "nbformat_minor": 5
}

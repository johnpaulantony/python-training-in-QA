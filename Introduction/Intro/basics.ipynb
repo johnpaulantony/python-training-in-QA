{
 "cells": [
  {
   "cell_type": "code",
   "execution_count": 1,
   "id": "2caf1567",
   "metadata": {},
   "outputs": [
    {
     "name": "stdout",
     "output_type": "stream",
     "text": [
      "Hai\n"
     ]
    }
   ],
   "source": [
    "print(\"Hai\")"
   ]
  },
  {
   "cell_type": "code",
   "execution_count": 6,
   "id": "a9c1e6c1",
   "metadata": {},
   "outputs": [
    {
     "name": "stdout",
     "output_type": "stream",
     "text": [
      "Defaulting to user installation because normal site-packages is not writeable\n"
     ]
    },
    {
     "name": "stderr",
     "output_type": "stream",
     "text": [
      "WARNING: Ignoring invalid distribution ~umpy (C:\\Users\\JOHNJESUS\\AppData\\Roaming\\Python\\Python311\\site-packages)\n",
      "WARNING: Ignoring invalid distribution ~umpy (C:\\Users\\JOHNJESUS\\AppData\\Roaming\\Python\\Python311\\site-packages)\n",
      "ERROR: Could not find a version that satisfies the requirement pypy (from versions: none)\n",
      "ERROR: No matching distribution found for pypy\n"
     ]
    }
   ],
   "source": [
    "! pip install pypy"
   ]
  },
  {
   "cell_type": "code",
   "execution_count": 7,
   "id": "cea5df61",
   "metadata": {},
   "outputs": [
    {
     "name": "stdout",
     "output_type": "stream",
     "text": [
      "9227465\n",
      "Execution time: 2.795867443084717 seconds\n"
     ]
    }
   ],
   "source": [
    "import time\n",
    "\n",
    "def fib(n):\n",
    "    if n <= 1:\n",
    "        return n\n",
    "    else:\n",
    "        return fib(n-1) + fib(n-2)\n",
    "start_time = time.time()\n",
    "print(fib(35))\n",
    "end_time = time.time()\n",
    "print(f\"Execution time: {end_time - start_time} seconds\")"
   ]
  },
  {
   "cell_type": "code",
   "execution_count": 5,
   "id": "b7cda170",
   "metadata": {},
   "outputs": [
    {
     "data": {
      "text/plain": [
       "'__pycache__\\\\fib.cpython-311.pyc'"
      ]
     },
     "execution_count": 5,
     "metadata": {},
     "output_type": "execute_result"
    }
   ],
   "source": [
    "import py_compile\n",
    "py_compile.compile('fib.py')"
   ]
  },
  {
   "cell_type": "code",
   "execution_count": 2,
   "id": "de17baae",
   "metadata": {},
   "outputs": [
    {
     "ename": "NameError",
     "evalue": "name 'fib' is not defined",
     "output_type": "error",
     "traceback": [
      "\u001b[1;31m---------------------------------------------------------------------------\u001b[0m",
      "\u001b[1;31mNameError\u001b[0m                                 Traceback (most recent call last)",
      "Cell \u001b[1;32mIn[2], line 1\u001b[0m\n\u001b[1;32m----> 1\u001b[0m \u001b[43mfib\u001b[49m\u001b[38;5;241m.\u001b[39m\u001b[38;5;18m__code__\u001b[39m\u001b[38;5;241m.\u001b[39mco_code\n",
      "\u001b[1;31mNameError\u001b[0m: name 'fib' is not defined"
     ]
    }
   ],
   "source": [
    "fib.__code__.co_code"
   ]
  },
  {
   "cell_type": "code",
   "execution_count": 1,
   "id": "6289e6c1",
   "metadata": {},
   "outputs": [
    {
     "name": "stdout",
     "output_type": "stream",
     "text": [
      "3.11.5\n"
     ]
    }
   ],
   "source": [
    "from platform import python_version\n",
    "print(python_version())"
   ]
  },
  {
   "cell_type": "code",
   "execution_count": 1,
   "id": "17a368c2",
   "metadata": {},
   "outputs": [
    {
     "name": "stdout",
     "output_type": "stream",
     "text": [
      "['False', 'None', 'True', 'and', 'as', 'assert', 'async', 'await', 'break', 'class', 'continue', 'def', 'del', 'elif', 'else', 'except', 'finally', 'for', 'from', 'global', 'if', 'import', 'in', 'is', 'lambda', 'nonlocal', 'not', 'or', 'pass', 'raise', 'return', 'try', 'while', 'with', 'yield']\n",
      "True\n",
      "35\n"
     ]
    }
   ],
   "source": [
    "import keyword\n",
    "print(keyword.kwlist)\n",
    "print(keyword.iskeyword(\"elif\"))\n",
    "print(len(keyword.kwlist))"
   ]
  },
  {
   "cell_type": "code",
   "execution_count": null,
   "id": "bbc26590",
   "metadata": {},
   "outputs": [
    {
     "name": "stdout",
     "output_type": "stream",
     "text": [
      "<class 'int'>\n",
      "<class 'list'>\n",
      "<class 'dict'>\n"
     ]
    }
   ],
   "source": [
    "# python - consider as a object or instance of class\n",
    "# everything in python is an object\n",
    "\n",
    "a=1\n",
    "print(type(a))\n",
    "\n",
    "elements=[1,2,3,4,5]\n",
    "print(type(elements))\n",
    "\n",
    "\n",
    "details={\"name\":\"John\", \"age\":30, \"city\":\"New York\"}\n",
    "print(type(details))"
   ]
  },
  {
   "cell_type": "code",
   "execution_count": null,
   "id": "6194dfa3",
   "metadata": {},
   "outputs": [],
   "source": [
    "# Data types in python\n",
    "# 1. Numeric - int, float, complex\n",
    "# 2. String\n",
    "# 3. List\n",
    "# 4. Tuple\n",
    "# 5. Dictionary\n",
    "# 6. Set\n",
    "# 7. Boolean - True, False\n",
    "# 8. Frozenset"
   ]
  },
  {
   "cell_type": "code",
   "execution_count": null,
   "id": "2a5c1424",
   "metadata": {},
   "outputs": [],
   "source": [
    "Sequence or ordered elements - index - list, tuple, string , frozenset - \n",
    "\n",
    "non sequence or unordered elements - without index - set, dictionary"
   ]
  },
  {
   "cell_type": "code",
   "execution_count": null,
   "id": "9088cd1d",
   "metadata": {},
   "outputs": [
    {
     "data": {
      "text/plain": [
       "1"
      ]
     },
     "execution_count": 11,
     "metadata": {},
     "output_type": "execute_result"
    }
   ],
   "source": [
    "data=[1,2,3,4,5]\n",
    "data[2]"
   ]
  },
  {
   "cell_type": "code",
   "execution_count": 6,
   "id": "b38fbef8",
   "metadata": {},
   "outputs": [
    {
     "data": {
      "text/plain": [
       "int"
      ]
     },
     "execution_count": 6,
     "metadata": {},
     "output_type": "execute_result"
    }
   ],
   "source": [
    "a=10077777777777777777777777777777777777777777777777777777777777777777777777777777777777\n",
    "type(a) # int"
   ]
  },
  {
   "cell_type": "code",
   "execution_count": 10,
   "id": "b0c99abe",
   "metadata": {},
   "outputs": [
    {
     "data": {
      "text/plain": [
       "(10+0j)"
      ]
     },
     "execution_count": 10,
     "metadata": {},
     "output_type": "execute_result"
    }
   ],
   "source": [
    "# Type Casting - converting one data type to another\n",
    "\n",
    "a=10\n",
    "float(a) # 10.0\n",
    "\n",
    "a=10.0\n",
    "int(a)\n",
    "\n",
    "number=10\n",
    "complex(number)"
   ]
  },
  {
   "cell_type": "code",
   "execution_count": null,
   "id": "c75f9a84",
   "metadata": {},
   "outputs": [],
   "source": [
    "# Sequence - str, list, tuple - manipulate the data using index\n",
    "# Non sequence - set, dictionary, frozenset - no index\n",
    "\n",
    "# Mutable - list, dictionary, set\n",
    "# Immutable - str, tuple, frozenset"
   ]
  },
  {
   "cell_type": "code",
   "execution_count": 20,
   "id": "da1b4353",
   "metadata": {},
   "outputs": [
    {
     "name": "stdout",
     "output_type": "stream",
     "text": [
      "John\n",
      "Doe\n",
      "Smith\n",
      "John\n",
      "Doe\n",
      "Smith\n",
      "J\n",
      "o\n"
     ]
    }
   ],
   "source": [
    "# sequence - ordered - index - list, tuple, str\n",
    "\n",
    "name=[\"John\", \"Doe\", \"Smith\"]\n",
    "print(name[0]) # John\n",
    "print(name[1]) # Doe    \n",
    "print(name[2]) # Smith\n",
    "\n",
    "name=(\"John\", \"Doe\", \"Smith\")\n",
    "print(name[0]) # John\n",
    "print(name[1]) # Doe\n",
    "print(name[2]) # Smith\n",
    "\n",
    "\n",
    "name=\"John Doe Smith\"\n",
    "print(name[0]) # J\n",
    "print(name[1]) # o\n",
    "\n",
    "\n",
    "\n"
   ]
  },
  {
   "cell_type": "code",
   "execution_count": null,
   "id": "c93136c4",
   "metadata": {},
   "outputs": [
    {
     "name": "stdout",
     "output_type": "stream",
     "text": [
      "12\n",
      "[200, 13, 14, 15]\n",
      "[13, 14, 15]\n",
      "[13, 14, 15, 100]\n"
     ]
    }
   ],
   "source": [
    "# mutable - list\n",
    "name=[12,13,14,15]\n",
    "print(name[0]) # 12\n",
    "\n",
    "name[0]=200\n",
    "print(name)\n",
    "\n",
    "del name[0]\n",
    "print(name)\n",
    "\n",
    "name.append(100)\n",
    "print(name) "
   ]
  },
  {
   "cell_type": "code",
   "execution_count": 25,
   "id": "a940d9c8",
   "metadata": {},
   "outputs": [
    {
     "name": "stdout",
     "output_type": "stream",
     "text": [
      "1375098893568\n",
      "1375098893568\n",
      "1375098893568\n",
      "1375098893568\n"
     ]
    }
   ],
   "source": [
    "number=[1,2,3,4,5]\n",
    "\n",
    "print(id(number)) # 140706123456064\n",
    "\n",
    "\n",
    "number.append(100)\n",
    "print(id(number)) # 140706123456064\n",
    "\n",
    "del number[0]\n",
    "print(id(number)) # 140706123456064\n",
    "\n",
    "number[0]=100\n",
    "print(id(number)) # 140706123456064\n",
    "\n"
   ]
  },
  {
   "cell_type": "code",
   "execution_count": 28,
   "id": "5c13bc81",
   "metadata": {},
   "outputs": [
    {
     "name": "stdout",
     "output_type": "stream",
     "text": [
      "1\n"
     ]
    },
    {
     "ename": "TypeError",
     "evalue": "'tuple' object does not support item assignment",
     "output_type": "error",
     "traceback": [
      "\u001b[1;31m---------------------------------------------------------------------------\u001b[0m",
      "\u001b[1;31mTypeError\u001b[0m                                 Traceback (most recent call last)",
      "Cell \u001b[1;32mIn[28], line 5\u001b[0m\n\u001b[0;32m      2\u001b[0m numbers\u001b[38;5;241m=\u001b[39m(\u001b[38;5;241m1\u001b[39m,\u001b[38;5;241m2\u001b[39m,\u001b[38;5;241m3\u001b[39m,\u001b[38;5;241m4\u001b[39m,\u001b[38;5;241m5\u001b[39m)\n\u001b[0;32m      3\u001b[0m \u001b[38;5;28mprint\u001b[39m(numbers[\u001b[38;5;241m0\u001b[39m]) \u001b[38;5;66;03m# 1\u001b[39;00m\n\u001b[1;32m----> 5\u001b[0m \u001b[43mnumbers\u001b[49m\u001b[43m[\u001b[49m\u001b[38;5;241;43m0\u001b[39;49m\u001b[43m]\u001b[49m\u001b[38;5;241m=\u001b[39m\u001b[38;5;241m100\u001b[39m \u001b[38;5;66;03m# TypeError: 'tuple' object does not support item assignment\u001b[39;00m\n\u001b[0;32m      6\u001b[0m \u001b[38;5;28mprint\u001b[39m(numbers) \u001b[38;5;66;03m# (1, 2, 3, 4, 5)\u001b[39;00m\n\u001b[0;32m      8\u001b[0m \u001b[38;5;28;01mdel\u001b[39;00m numbers[\u001b[38;5;241m0\u001b[39m]\n",
      "\u001b[1;31mTypeError\u001b[0m: 'tuple' object does not support item assignment"
     ]
    }
   ],
   "source": [
    "# tuple - immutable - cannot be changed\n",
    "numbers=(1,2,3,4,5)\n",
    "print(numbers[0]) # 1\n",
    "\n",
    "numbers[0]=100 # TypeError: 'tuple' object does not support item assignment\n",
    "print(numbers) # (1, 2, 3, 4, 5)\n",
    "\n",
    "del numbers[0]\n",
    "print(numbers) # TypeError: 'tuple' object doesn't support item deletion"
   ]
  },
  {
   "cell_type": "code",
   "execution_count": 29,
   "id": "76413259",
   "metadata": {},
   "outputs": [
    {
     "name": "stdout",
     "output_type": "stream",
     "text": [
      "J\n"
     ]
    },
    {
     "ename": "TypeError",
     "evalue": "'str' object does not support item assignment",
     "output_type": "error",
     "traceback": [
      "\u001b[1;31m---------------------------------------------------------------------------\u001b[0m",
      "\u001b[1;31mTypeError\u001b[0m                                 Traceback (most recent call last)",
      "Cell \u001b[1;32mIn[29], line 4\u001b[0m\n\u001b[0;32m      2\u001b[0m name\u001b[38;5;241m=\u001b[39m\u001b[38;5;124m\"\u001b[39m\u001b[38;5;124mJohn Doe Smith\u001b[39m\u001b[38;5;124m\"\u001b[39m\n\u001b[0;32m      3\u001b[0m \u001b[38;5;28mprint\u001b[39m(name[\u001b[38;5;241m0\u001b[39m]) \u001b[38;5;66;03m# J\u001b[39;00m\n\u001b[1;32m----> 4\u001b[0m \u001b[43mname\u001b[49m\u001b[43m[\u001b[49m\u001b[38;5;241;43m0\u001b[39;49m\u001b[43m]\u001b[49m\u001b[38;5;241m=\u001b[39m\u001b[38;5;241m100\u001b[39m \u001b[38;5;66;03m# TypeError: 'str' object does not support item assignment\u001b[39;00m\n\u001b[0;32m      5\u001b[0m \u001b[38;5;28mprint\u001b[39m(name) \u001b[38;5;66;03m# John Doe Smith\u001b[39;00m\n",
      "\u001b[1;31mTypeError\u001b[0m: 'str' object does not support item assignment"
     ]
    }
   ],
   "source": [
    "# string - immutable - cannot be changed\n",
    "name=\"John Doe Smith\"\n",
    "print(name[0]) # J\n",
    "name[0]=100 # TypeError: 'str' object does not support item assignment\n",
    "print(name) # John Doe Smith"
   ]
  },
  {
   "cell_type": "code",
   "execution_count": 30,
   "id": "94fd3de8",
   "metadata": {},
   "outputs": [
    {
     "name": "stdout",
     "output_type": "stream",
     "text": [
      "1375098895152\n",
      "1375098895152\n"
     ]
    }
   ],
   "source": [
    "name=\"John Doe Smith\"\n",
    "name_one=name\n",
    "\n",
    "print(id(name)) # 140706123456064\n",
    "print(id(name_one)) # 140706123456064"
   ]
  },
  {
   "cell_type": "code",
   "execution_count": 31,
   "id": "4f382bf0",
   "metadata": {},
   "outputs": [
    {
     "name": "stdout",
     "output_type": "stream",
     "text": [
      "140707616973896\n",
      "140707616973896\n"
     ]
    }
   ],
   "source": [
    "a=10\n",
    "print(id(a)) # 140706123456064\n",
    "b=10\n",
    "print(id(b)) # 140706123456064"
   ]
  },
  {
   "cell_type": "code",
   "execution_count": 32,
   "id": "da945000",
   "metadata": {},
   "outputs": [
    {
     "name": "stdout",
     "output_type": "stream",
     "text": [
      "140707616973896\n",
      "140707616973896\n"
     ]
    }
   ],
   "source": [
    "a=10\n",
    "print(id(a)) # 140706123456064\n",
    "b=a\n",
    "print(id(b)) # 140706123456064"
   ]
  },
  {
   "cell_type": "code",
   "execution_count": null,
   "id": "109fc13e",
   "metadata": {},
   "outputs": [],
   "source": [
    "a=345\n",
    "print(id(a)) # 140706123456064\n",
    "b=a\n",
    "print(id(b)) # 140706123456064"
   ]
  }
 ],
 "metadata": {
  "kernelspec": {
   "display_name": "Python 3",
   "language": "python",
   "name": "python3"
  },
  "language_info": {
   "codemirror_mode": {
    "name": "ipython",
    "version": 3
   },
   "file_extension": ".py",
   "mimetype": "text/x-python",
   "name": "python",
   "nbconvert_exporter": "python",
   "pygments_lexer": "ipython3",
   "version": "3.11.5"
  }
 },
 "nbformat": 4,
 "nbformat_minor": 5
}

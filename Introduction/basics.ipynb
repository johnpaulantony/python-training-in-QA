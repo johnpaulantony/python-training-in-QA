{
 "cells": [
  {
   "cell_type": "code",
   "execution_count": 1,
   "id": "2caf1567",
   "metadata": {},
   "outputs": [
    {
     "name": "stdout",
     "output_type": "stream",
     "text": [
      "Hai\n"
     ]
    }
   ],
   "source": [
    "print(\"Hai\")"
   ]
  },
  {
   "cell_type": "code",
   "execution_count": null,
   "id": "a28a4dbb",
   "metadata": {},
   "outputs": [],
   "source": []
  },
  {
   "cell_type": "code",
   "execution_count": 6,
   "id": "a9c1e6c1",
   "metadata": {},
   "outputs": [
    {
     "name": "stdout",
     "output_type": "stream",
     "text": [
      "Defaulting to user installation because normal site-packages is not writeable\n"
     ]
    },
    {
     "name": "stderr",
     "output_type": "stream",
     "text": [
      "WARNING: Ignoring invalid distribution ~umpy (C:\\Users\\JOHNJESUS\\AppData\\Roaming\\Python\\Python311\\site-packages)\n",
      "WARNING: Ignoring invalid distribution ~umpy (C:\\Users\\JOHNJESUS\\AppData\\Roaming\\Python\\Python311\\site-packages)\n",
      "ERROR: Could not find a version that satisfies the requirement pypy (from versions: none)\n",
      "ERROR: No matching distribution found for pypy\n"
     ]
    }
   ],
   "source": [
    "! pip install pypy"
   ]
  },
  {
   "cell_type": "code",
   "execution_count": 7,
   "id": "cea5df61",
   "metadata": {},
   "outputs": [
    {
     "name": "stdout",
     "output_type": "stream",
     "text": [
      "9227465\n",
      "Execution time: 2.795867443084717 seconds\n"
     ]
    }
   ],
   "source": [
    "import time\n",
    "\n",
    "def fib(n):\n",
    "    if n <= 1:\n",
    "        return n\n",
    "    else:\n",
    "        return fib(n-1) + fib(n-2)\n",
    "start_time = time.time()\n",
    "print(fib(35))\n",
    "end_time = time.time()\n",
    "print(f\"Execution time: {end_time - start_time} seconds\")"
   ]
  },
  {
   "cell_type": "code",
   "execution_count": 5,
   "id": "b7cda170",
   "metadata": {},
   "outputs": [
    {
     "data": {
      "text/plain": [
       "'__pycache__\\\\fib.cpython-311.pyc'"
      ]
     },
     "execution_count": 5,
     "metadata": {},
     "output_type": "execute_result"
    }
   ],
   "source": [
    "import py_compile\n",
    "py_compile.compile('fib.py')"
   ]
  },
  {
   "cell_type": "code",
   "execution_count": 2,
   "id": "de17baae",
   "metadata": {},
   "outputs": [
    {
     "ename": "NameError",
     "evalue": "name 'fib' is not defined",
     "output_type": "error",
     "traceback": [
      "\u001b[1;31m---------------------------------------------------------------------------\u001b[0m",
      "\u001b[1;31mNameError\u001b[0m                                 Traceback (most recent call last)",
      "Cell \u001b[1;32mIn[2], line 1\u001b[0m\n\u001b[1;32m----> 1\u001b[0m \u001b[43mfib\u001b[49m\u001b[38;5;241m.\u001b[39m\u001b[38;5;18m__code__\u001b[39m\u001b[38;5;241m.\u001b[39mco_code\n",
      "\u001b[1;31mNameError\u001b[0m: name 'fib' is not defined"
     ]
    }
   ],
   "source": [
    "fib.__code__.co_code"
   ]
  },
  {
   "cell_type": "code",
   "execution_count": 1,
   "id": "6289e6c1",
   "metadata": {},
   "outputs": [
    {
     "name": "stdout",
     "output_type": "stream",
     "text": [
      "3.11.5\n"
     ]
    }
   ],
   "source": [
    "from platform import python_version\n",
    "print(python_version())"
   ]
  },
  {
   "cell_type": "code",
   "execution_count": 1,
   "id": "17a368c2",
   "metadata": {},
   "outputs": [
    {
     "name": "stdout",
     "output_type": "stream",
     "text": [
      "['False', 'None', 'True', 'and', 'as', 'assert', 'async', 'await', 'break', 'class', 'continue', 'def', 'del', 'elif', 'else', 'except', 'finally', 'for', 'from', 'global', 'if', 'import', 'in', 'is', 'lambda', 'nonlocal', 'not', 'or', 'pass', 'raise', 'return', 'try', 'while', 'with', 'yield']\n",
      "True\n",
      "35\n"
     ]
    }
   ],
   "source": [
    "import keyword\n",
    "print(keyword.kwlist)\n",
    "print(keyword.iskeyword(\"elif\"))\n",
    "print(len(keyword.kwlist))"
   ]
  },
  {
   "cell_type": "code",
   "execution_count": null,
   "id": "bbc26590",
   "metadata": {},
   "outputs": [
    {
     "name": "stdout",
     "output_type": "stream",
     "text": [
      "<class 'int'>\n",
      "<class 'list'>\n",
      "<class 'dict'>\n"
     ]
    }
   ],
   "source": [
    "# python - consider as a object or instance of class\n",
    "# everything in python is an object\n",
    "\n",
    "a=1\n",
    "print(type(a))\n",
    "\n",
    "elements=[1,2,3,4,5]\n",
    "print(type(elements))\n",
    "\n",
    "\n",
    "details={\"name\":\"John\", \"age\":30, \"city\":\"New York\"}\n",
    "print(type(details))"
   ]
  },
  {
   "cell_type": "code",
   "execution_count": null,
   "id": "6194dfa3",
   "metadata": {},
   "outputs": [],
   "source": [
    "# Data types in python\n",
    "# 1. Numeric - int, float, complex\n",
    "# 2. String\n",
    "# 3. List\n",
    "# 4. Tuple\n",
    "# 5. Dictionary\n",
    "# 6. Set\n",
    "# 7. Boolean - True, False\n",
    "# 8. Frozenset"
   ]
  },
  {
   "cell_type": "code",
   "execution_count": null,
   "id": "2a5c1424",
   "metadata": {},
   "outputs": [],
   "source": [
    "Sequence or ordered elements - index - list, tuple, string , \n",
    "\n",
    "non sequence or unordered elements - without index - set, dictionary, frozenset"
   ]
  },
  {
   "cell_type": "code",
   "execution_count": null,
   "id": "9088cd1d",
   "metadata": {},
   "outputs": [
    {
     "data": {
      "text/plain": [
       "1"
      ]
     },
     "execution_count": 11,
     "metadata": {},
     "output_type": "execute_result"
    }
   ],
   "source": [
    "data=[1,2,3,4,5]\n",
    "data[2]"
   ]
  },
  {
   "cell_type": "code",
   "execution_count": 6,
   "id": "b38fbef8",
   "metadata": {},
   "outputs": [
    {
     "data": {
      "text/plain": [
       "int"
      ]
     },
     "execution_count": 6,
     "metadata": {},
     "output_type": "execute_result"
    }
   ],
   "source": [
    "a=10077777777777777777777777777777777777777777777777777777777777777777777777777777777777\n",
    "type(a) # int"
   ]
  },
  {
   "cell_type": "code",
   "execution_count": 10,
   "id": "b0c99abe",
   "metadata": {},
   "outputs": [
    {
     "data": {
      "text/plain": [
       "(10+0j)"
      ]
     },
     "execution_count": 10,
     "metadata": {},
     "output_type": "execute_result"
    }
   ],
   "source": [
    "# Type Casting - converting one data type to another\n",
    "\n",
    "a=10\n",
    "float(a) # 10.0\n",
    "\n",
    "a=10.0\n",
    "int(a)\n",
    "\n",
    "number=10\n",
    "complex(number)"
   ]
  },
  {
   "cell_type": "code",
   "execution_count": null,
   "id": "c75f9a84",
   "metadata": {},
   "outputs": [],
   "source": [
    "# Sequence - str, list, tuple - manipulate the data using index\n",
    "# Non sequence - set, dictionary, frozenset - no index\n",
    "\n",
    "# Mutable - list, dictionary, set\n",
    "# Immutable - str, tuple, frozenset"
   ]
  },
  {
   "cell_type": "code",
   "execution_count": 20,
   "id": "da1b4353",
   "metadata": {},
   "outputs": [
    {
     "name": "stdout",
     "output_type": "stream",
     "text": [
      "John\n",
      "Doe\n",
      "Smith\n",
      "John\n",
      "Doe\n",
      "Smith\n",
      "J\n",
      "o\n"
     ]
    }
   ],
   "source": [
    "# sequence - ordered - index - list, tuple, str\n",
    "\n",
    "name=[\"John\", \"Doe\", \"Smith\"]\n",
    "print(name[0]) # John\n",
    "print(name[1]) # Doe    \n",
    "print(name[2]) # Smith\n",
    "\n",
    "name=(\"John\", \"Doe\", \"Smith\")\n",
    "print(name[0]) # John\n",
    "print(name[1]) # Doe\n",
    "print(name[2]) # Smith\n",
    "\n",
    "\n",
    "name=\"John Doe Smith\"\n",
    "print(name[0]) # J\n",
    "print(name[1]) # o\n",
    "\n",
    "\n",
    "\n"
   ]
  },
  {
   "cell_type": "code",
   "execution_count": null,
   "id": "c93136c4",
   "metadata": {},
   "outputs": [
    {
     "name": "stdout",
     "output_type": "stream",
     "text": [
      "12\n",
      "[200, 13, 14, 15]\n",
      "[13, 14, 15]\n",
      "[13, 14, 15, 100]\n"
     ]
    }
   ],
   "source": [
    "# mutable - list\n",
    "name=[12,13,14,15]\n",
    "print(name[0]) # 12\n",
    "\n",
    "name[0]=200\n",
    "print(name)\n",
    "\n",
    "del name[0]\n",
    "print(name)\n",
    "\n",
    "name.append(100)\n",
    "print(name) "
   ]
  },
  {
   "cell_type": "code",
   "execution_count": 25,
   "id": "a940d9c8",
   "metadata": {},
   "outputs": [
    {
     "name": "stdout",
     "output_type": "stream",
     "text": [
      "1375098893568\n",
      "1375098893568\n",
      "1375098893568\n",
      "1375098893568\n"
     ]
    }
   ],
   "source": [
    "number=[1,2,3,4,5]\n",
    "\n",
    "print(id(number)) # 140706123456064\n",
    "\n",
    "\n",
    "number.append(100)\n",
    "print(id(number)) # 140706123456064\n",
    "\n",
    "del number[0]\n",
    "print(id(number)) # 140706123456064\n",
    "\n",
    "number[0]=100\n",
    "print(id(number)) # 140706123456064\n",
    "\n"
   ]
  },
  {
   "cell_type": "code",
   "execution_count": 28,
   "id": "5c13bc81",
   "metadata": {},
   "outputs": [
    {
     "name": "stdout",
     "output_type": "stream",
     "text": [
      "1\n"
     ]
    },
    {
     "ename": "TypeError",
     "evalue": "'tuple' object does not support item assignment",
     "output_type": "error",
     "traceback": [
      "\u001b[1;31m---------------------------------------------------------------------------\u001b[0m",
      "\u001b[1;31mTypeError\u001b[0m                                 Traceback (most recent call last)",
      "Cell \u001b[1;32mIn[28], line 5\u001b[0m\n\u001b[0;32m      2\u001b[0m numbers\u001b[38;5;241m=\u001b[39m(\u001b[38;5;241m1\u001b[39m,\u001b[38;5;241m2\u001b[39m,\u001b[38;5;241m3\u001b[39m,\u001b[38;5;241m4\u001b[39m,\u001b[38;5;241m5\u001b[39m)\n\u001b[0;32m      3\u001b[0m \u001b[38;5;28mprint\u001b[39m(numbers[\u001b[38;5;241m0\u001b[39m]) \u001b[38;5;66;03m# 1\u001b[39;00m\n\u001b[1;32m----> 5\u001b[0m \u001b[43mnumbers\u001b[49m\u001b[43m[\u001b[49m\u001b[38;5;241;43m0\u001b[39;49m\u001b[43m]\u001b[49m\u001b[38;5;241m=\u001b[39m\u001b[38;5;241m100\u001b[39m \u001b[38;5;66;03m# TypeError: 'tuple' object does not support item assignment\u001b[39;00m\n\u001b[0;32m      6\u001b[0m \u001b[38;5;28mprint\u001b[39m(numbers) \u001b[38;5;66;03m# (1, 2, 3, 4, 5)\u001b[39;00m\n\u001b[0;32m      8\u001b[0m \u001b[38;5;28;01mdel\u001b[39;00m numbers[\u001b[38;5;241m0\u001b[39m]\n",
      "\u001b[1;31mTypeError\u001b[0m: 'tuple' object does not support item assignment"
     ]
    }
   ],
   "source": [
    "# tuple - immutable - cannot be changed\n",
    "numbers=(1,2,3,4,5)\n",
    "print(numbers[0]) # 1\n",
    "\n",
    "numbers[0]=100 # TypeError: 'tuple' object does not support item assignment\n",
    "print(numbers) # (1, 2, 3, 4, 5)\n",
    "\n",
    "del numbers[0]\n",
    "print(numbers) # TypeError: 'tuple' object doesn't support item deletion"
   ]
  },
  {
   "cell_type": "code",
   "execution_count": 29,
   "id": "76413259",
   "metadata": {},
   "outputs": [
    {
     "name": "stdout",
     "output_type": "stream",
     "text": [
      "J\n"
     ]
    },
    {
     "ename": "TypeError",
     "evalue": "'str' object does not support item assignment",
     "output_type": "error",
     "traceback": [
      "\u001b[1;31m---------------------------------------------------------------------------\u001b[0m",
      "\u001b[1;31mTypeError\u001b[0m                                 Traceback (most recent call last)",
      "Cell \u001b[1;32mIn[29], line 4\u001b[0m\n\u001b[0;32m      2\u001b[0m name\u001b[38;5;241m=\u001b[39m\u001b[38;5;124m\"\u001b[39m\u001b[38;5;124mJohn Doe Smith\u001b[39m\u001b[38;5;124m\"\u001b[39m\n\u001b[0;32m      3\u001b[0m \u001b[38;5;28mprint\u001b[39m(name[\u001b[38;5;241m0\u001b[39m]) \u001b[38;5;66;03m# J\u001b[39;00m\n\u001b[1;32m----> 4\u001b[0m \u001b[43mname\u001b[49m\u001b[43m[\u001b[49m\u001b[38;5;241;43m0\u001b[39;49m\u001b[43m]\u001b[49m\u001b[38;5;241m=\u001b[39m\u001b[38;5;241m100\u001b[39m \u001b[38;5;66;03m# TypeError: 'str' object does not support item assignment\u001b[39;00m\n\u001b[0;32m      5\u001b[0m \u001b[38;5;28mprint\u001b[39m(name) \u001b[38;5;66;03m# John Doe Smith\u001b[39;00m\n",
      "\u001b[1;31mTypeError\u001b[0m: 'str' object does not support item assignment"
     ]
    }
   ],
   "source": [
    "# string - immutable - cannot be changed\n",
    "name=\"John Doe Smith\"\n",
    "print(name[0]) # J\n",
    "name[0]=100 # TypeError: 'str' object does not support item assignment\n",
    "print(name) # John Doe Smith"
   ]
  },
  {
   "cell_type": "code",
   "execution_count": 30,
   "id": "94fd3de8",
   "metadata": {},
   "outputs": [
    {
     "name": "stdout",
     "output_type": "stream",
     "text": [
      "1375098895152\n",
      "1375098895152\n"
     ]
    }
   ],
   "source": [
    "name=\"John Doe Smith\"\n",
    "name_one=name\n",
    "\n",
    "print(id(name)) # 140706123456064\n",
    "print(id(name_one)) # 140706123456064"
   ]
  },
  {
   "cell_type": "code",
   "execution_count": 31,
   "id": "4f382bf0",
   "metadata": {},
   "outputs": [
    {
     "name": "stdout",
     "output_type": "stream",
     "text": [
      "140707616973896\n",
      "140707616973896\n"
     ]
    }
   ],
   "source": [
    "a=10\n",
    "print(id(a)) # 140706123456064\n",
    "b=10\n",
    "print(id(b)) # 140706123456064"
   ]
  },
  {
   "cell_type": "code",
   "execution_count": 32,
   "id": "da945000",
   "metadata": {},
   "outputs": [
    {
     "name": "stdout",
     "output_type": "stream",
     "text": [
      "140707616973896\n",
      "140707616973896\n"
     ]
    }
   ],
   "source": [
    "a=10\n",
    "print(id(a)) # 140706123456064\n",
    "b=a\n",
    "print(id(b)) # 140706123456064"
   ]
  },
  {
   "cell_type": "code",
   "execution_count": null,
   "id": "109fc13e",
   "metadata": {},
   "outputs": [
    {
     "name": "stdout",
     "output_type": "stream",
     "text": [
      "1375100044848\n",
      "1375100043568\n"
     ]
    }
   ],
   "source": [
    "a=10000000000\n",
    "print(id(a)) # 140706123456064\n",
    "b=10000000000\n",
    "print(id(b)) # 140706123456064\n",
    "\n",
    "\n",
    "# python reuse the memory location for the same value  -5 to 256"
   ]
  },
  {
   "cell_type": "code",
   "execution_count": 1,
   "id": "61e09dd2",
   "metadata": {},
   "outputs": [
    {
     "name": "stdout",
     "output_type": "stream",
     "text": [
      "1615089572608\n",
      "1615089572608\n"
     ]
    }
   ],
   "source": [
    "a=[1,2,3,4,5]\n",
    "b=a\n",
    "print(id(a)) # 140706123456064\n",
    "print(id(b)) # 140706123456064"
   ]
  },
  {
   "cell_type": "code",
   "execution_count": 5,
   "id": "a1959adb",
   "metadata": {},
   "outputs": [
    {
     "ename": "TypeError",
     "evalue": "'tuple' object does not support item assignment",
     "output_type": "error",
     "traceback": [
      "\u001b[1;31m---------------------------------------------------------------------------\u001b[0m",
      "\u001b[1;31mTypeError\u001b[0m                                 Traceback (most recent call last)",
      "Cell \u001b[1;32mIn[5], line 6\u001b[0m\n\u001b[0;32m      3\u001b[0m details[\u001b[38;5;241m1\u001b[39m][\u001b[38;5;241m0\u001b[39m]\u001b[38;5;241m=\u001b[39m\u001b[38;5;124m\"\u001b[39m\u001b[38;5;124mjohn paul\u001b[39m\u001b[38;5;124m\"\u001b[39m\n\u001b[0;32m      4\u001b[0m details\n\u001b[1;32m----> 6\u001b[0m \u001b[43mdetails\u001b[49m\u001b[43m[\u001b[49m\u001b[38;5;241;43m0\u001b[39;49m\u001b[43m]\u001b[49m\u001b[38;5;241m=\u001b[39m\u001b[38;5;241m100\u001b[39m\n",
      "\u001b[1;31mTypeError\u001b[0m: 'tuple' object does not support item assignment"
     ]
    }
   ],
   "source": [
    "# tuple - immutable - cannot be changed\n",
    "details=(1,['john','doe'],\"bangalore\",200000,True)\n",
    "details[1][0]=\"john paul\"\n",
    "details\n",
    "\n",
    "details[0]=100"
   ]
  },
  {
   "cell_type": "code",
   "execution_count": 9,
   "id": "89238b73",
   "metadata": {},
   "outputs": [
    {
     "name": "stdout",
     "output_type": "stream",
     "text": [
      "{1, 4, 'john'}\n"
     ]
    },
    {
     "data": {
      "text/plain": [
       "{1, 100, 4, 'john'}"
      ]
     },
     "execution_count": 9,
     "metadata": {},
     "output_type": "execute_result"
    }
   ],
   "source": [
    "# non Sequence - unordered - set, dictionary, frozenset\n",
    "# set - unordered - mutable - no index\n",
    "\n",
    "details={1,\"john\",4,1}\n",
    "\n",
    "print(details) # {1, 4, 'john'}\n",
    "\n",
    "# details[0] # TypeError: 'set' object is not subscriptable\n",
    "\n",
    "details.add(100)\n",
    "\n",
    "details"
   ]
  },
  {
   "cell_type": "code",
   "execution_count": 8,
   "id": "8fedfdee",
   "metadata": {},
   "outputs": [
    {
     "data": {
      "text/plain": [
       "{'automotive',\n",
       " 'beauty',\n",
       " 'electronics',\n",
       " 'fashion',\n",
       " 'grocery',\n",
       " 'health',\n",
       " 'home',\n",
       " 'sports'}"
      ]
     },
     "execution_count": 8,
     "metadata": {},
     "output_type": "execute_result"
    }
   ],
   "source": [
    "# db - product category - electronics,electronics,health, fashion, grocery, health, beauty, home, sports, automotive\n",
    "\n",
    "# unique values from the product category - set\n",
    "product_category = [\"electronics\", \"electronics\", \"health\", \"fashion\", \"grocery\", \"health\", \"beauty\", \"home\", \"sports\", \"automotive\"]\n",
    "\n",
    "product_category_set = set(product_category)\n",
    "\n",
    "product_category_set"
   ]
  },
  {
   "cell_type": "code",
   "execution_count": 10,
   "id": "320f26ad",
   "metadata": {},
   "outputs": [
    {
     "name": "stdout",
     "output_type": "stream",
     "text": [
      "{'name': 'john', 'aadhar_number': 123456789012, 'address': 'bangalore', 'phone_number': 9876543210, 'email': 'ajohnpaulantony@gmail.com'}\n"
     ]
    }
   ],
   "source": [
    "# dictionary - key value pair - unordered - mutable - no index\n",
    "# key - unique - immutable - str, int, tuple\n",
    "\n",
    "\n",
    "aadhar_details={\"name\":\"john\",\"aadhar_number\":123456789012,\"address\":\"bangalore\",\"phone_number\":9876543210,\"email\":\"ajohnpaulantony@gmail.com\"}\n",
    "print(aadhar_details) # {'name': 'john', 'aadhar_number': 123456789012, 'address': 'bangalore', 'phone_number': 9876543210, 'email': '"
   ]
  },
  {
   "cell_type": "code",
   "execution_count": 12,
   "id": "a27e5f8f",
   "metadata": {},
   "outputs": [
    {
     "data": {
      "text/plain": [
       "['name', 'aadhar_number', 'address', 'phone_number', 'email']"
      ]
     },
     "execution_count": 12,
     "metadata": {},
     "output_type": "execute_result"
    }
   ],
   "source": [
    "list(aadhar_details.keys())"
   ]
  },
  {
   "cell_type": "code",
   "execution_count": 17,
   "id": "9fb8d914",
   "metadata": {},
   "outputs": [
    {
     "data": {
      "text/plain": [
       "['john', 123456789012, 'bangalore', 9876543210, 'ajohnpaulantony@gmail.com']"
      ]
     },
     "execution_count": 17,
     "metadata": {},
     "output_type": "execute_result"
    }
   ],
   "source": [
    "list(aadhar_details.values())"
   ]
  },
  {
   "cell_type": "code",
   "execution_count": 14,
   "id": "46f513a5",
   "metadata": {},
   "outputs": [
    {
     "data": {
      "text/plain": [
       "['name', 'aadhar_number', 'address', 'phone_number', 'email']"
      ]
     },
     "execution_count": 14,
     "metadata": {},
     "output_type": "execute_result"
    }
   ],
   "source": [
    "list(aadhar_details)"
   ]
  },
  {
   "cell_type": "code",
   "execution_count": 18,
   "id": "c73aaa0a",
   "metadata": {},
   "outputs": [
    {
     "name": "stdout",
     "output_type": "stream",
     "text": [
      "john\n"
     ]
    },
    {
     "data": {
      "text/plain": [
       "123456789012"
      ]
     },
     "execution_count": 18,
     "metadata": {},
     "output_type": "execute_result"
    }
   ],
   "source": [
    "print(aadhar_details[\"name\"]) # john\n",
    "aadhar_details[\"aadhar_number\"] # 123456789012"
   ]
  },
  {
   "cell_type": "code",
   "execution_count": 19,
   "id": "67599949",
   "metadata": {},
   "outputs": [
    {
     "data": {
      "text/plain": [
       "{'name': 'john',\n",
       " 'aadhar_number': 123456789012,\n",
       " 'address': 'bangalore',\n",
       " 'phone_number': 9876543210,\n",
       " 'email': 'ajohnpaulantony@gmail.com'}"
      ]
     },
     "execution_count": 19,
     "metadata": {},
     "output_type": "execute_result"
    }
   ],
   "source": [
    "# dict -mutable\n",
    "aadhar_details"
   ]
  },
  {
   "cell_type": "code",
   "execution_count": 20,
   "id": "a0392e36",
   "metadata": {},
   "outputs": [
    {
     "data": {
      "text/plain": [
       "{'name': 'john',\n",
       " 'aadhar_number': 123456789012,\n",
       " 'address': 'chennai',\n",
       " 'phone_number': 9876543210,\n",
       " 'email': 'ajohnpaulantony@gmail.com'}"
      ]
     },
     "execution_count": 20,
     "metadata": {},
     "output_type": "execute_result"
    }
   ],
   "source": [
    "aadhar_details['address']=\"chennai\"\n",
    "aadhar_details"
   ]
  },
  {
   "cell_type": "code",
   "execution_count": 21,
   "id": "f36af641",
   "metadata": {},
   "outputs": [
    {
     "data": {
      "text/plain": [
       "{'name': 'john',\n",
       " 'aadhar_number': 123456789012,\n",
       " 'address': 'chennai',\n",
       " 'phone_number': 9876543210,\n",
       " 'email': 'ajohnpaulantony@gmail.com',\n",
       " 'DOB': '01-01-1990'}"
      ]
     },
     "execution_count": 21,
     "metadata": {},
     "output_type": "execute_result"
    }
   ],
   "source": [
    "aadhar_details['DOB']=\"01-01-1990\"\n",
    "aadhar_details"
   ]
  },
  {
   "cell_type": "code",
   "execution_count": 22,
   "id": "8a760c11",
   "metadata": {},
   "outputs": [
    {
     "data": {
      "text/plain": [
       "{'name': 'john',\n",
       " 'aadhar_number': 123456789012,\n",
       " 'address': 'chennai',\n",
       " 'email': 'ajohnpaulantony@gmail.com',\n",
       " 'DOB': '01-01-1990'}"
      ]
     },
     "execution_count": 22,
     "metadata": {},
     "output_type": "execute_result"
    }
   ],
   "source": [
    "del aadhar_details['phone_number']\n",
    "aadhar_details"
   ]
  },
  {
   "cell_type": "code",
   "execution_count": 26,
   "id": "ac4d6ed9",
   "metadata": {},
   "outputs": [
    {
     "name": "stdout",
     "output_type": "stream",
     "text": [
      "{'read', 'execute', 'write'}\n"
     ]
    },
    {
     "data": {
      "text/plain": [
       "{'delete', 'execute', 'read', 'write'}"
      ]
     },
     "execution_count": 26,
     "metadata": {},
     "output_type": "execute_result"
    }
   ],
   "source": [
    "# frozenset - immutable - unordered - no index - unique values - set\n",
    "\n",
    "permission=set([\"read\",\"write\",\"execute\"]) # john\n",
    "print(permission) # frozenset({'read', 'write', 'execute'})\n",
    "\n",
    "permission.add(\"delete\") # AttributeError: 'frozenset' object has no attribute 'add'\n",
    "\n",
    "permission"
   ]
  },
  {
   "cell_type": "code",
   "execution_count": 27,
   "id": "cd35f889",
   "metadata": {},
   "outputs": [
    {
     "name": "stdout",
     "output_type": "stream",
     "text": [
      "frozenset({'read', 'execute', 'write'})\n"
     ]
    },
    {
     "ename": "AttributeError",
     "evalue": "'frozenset' object has no attribute 'add'",
     "output_type": "error",
     "traceback": [
      "\u001b[1;31m---------------------------------------------------------------------------\u001b[0m",
      "\u001b[1;31mAttributeError\u001b[0m                            Traceback (most recent call last)",
      "Cell \u001b[1;32mIn[27], line 4\u001b[0m\n\u001b[0;32m      1\u001b[0m permission\u001b[38;5;241m=\u001b[39m\u001b[38;5;28mfrozenset\u001b[39m([\u001b[38;5;124m\"\u001b[39m\u001b[38;5;124mread\u001b[39m\u001b[38;5;124m\"\u001b[39m,\u001b[38;5;124m\"\u001b[39m\u001b[38;5;124mwrite\u001b[39m\u001b[38;5;124m\"\u001b[39m,\u001b[38;5;124m\"\u001b[39m\u001b[38;5;124mexecute\u001b[39m\u001b[38;5;124m\"\u001b[39m]) \u001b[38;5;66;03m# john\u001b[39;00m\n\u001b[0;32m      2\u001b[0m \u001b[38;5;28mprint\u001b[39m(permission) \u001b[38;5;66;03m# frozenset({'read', 'write', 'execute'})\u001b[39;00m\n\u001b[1;32m----> 4\u001b[0m \u001b[43mpermission\u001b[49m\u001b[38;5;241;43m.\u001b[39;49m\u001b[43madd\u001b[49m(\u001b[38;5;124m\"\u001b[39m\u001b[38;5;124mdelete\u001b[39m\u001b[38;5;124m\"\u001b[39m) \u001b[38;5;66;03m# AttributeError: 'frozenset' object has no attribute 'add'\u001b[39;00m\n\u001b[0;32m      6\u001b[0m permission\n",
      "\u001b[1;31mAttributeError\u001b[0m: 'frozenset' object has no attribute 'add'"
     ]
    }
   ],
   "source": [
    "permission=frozenset([\"read\",\"write\",\"execute\"]) # john\n",
    "print(permission) # frozenset({'read', 'write', 'execute'})\n",
    "\n",
    "permission.add(\"delete\") # AttributeError: 'frozenset' object has no attribute 'add'\n",
    "\n",
    "permission"
   ]
  },
  {
   "cell_type": "code",
   "execution_count": null,
   "id": "549be4ce",
   "metadata": {},
   "outputs": [],
   "source": [
    "# DataStructrues - list, tuple, set, dictionary, frozenset, str - operations on the data, methods, functions, properties, attributes\n",
    "\n",
    "Array - {1,2,3,4,5,6} ,{'john', 'doe', 'smith'} - similar data type , fixed size, less memory - faster\n",
    "\n",
    "list - [1,'john', 2.5, True,[1,2,3,4]] - different data type, dynamic size, more memory - slower\n",
    "\n",
    "tuple - ('sun','mon','tue'....'sat') - different data type, "
   ]
  },
  {
   "cell_type": "code",
   "execution_count": 29,
   "id": "72692575",
   "metadata": {},
   "outputs": [
    {
     "data": {
      "text/plain": [
       "['john', 'paul', '1991-04-09', 10, 'Madurai', '98328772', 'p&T']"
      ]
     },
     "execution_count": 29,
     "metadata": {},
     "output_type": "execute_result"
    }
   ],
   "source": [
    "# list\n",
    "# insert the element\n",
    "\n",
    "details=[\"john\",'1991-04-09',10,'Madurai','98328772']\n",
    "details.append('p&T')\n",
    "details\n",
    "\n",
    "details.insert(1,'paul')\n",
    "details"
   ]
  },
  {
   "cell_type": "code",
   "execution_count": 31,
   "id": "c1bc8602",
   "metadata": {},
   "outputs": [
    {
     "data": {
      "text/plain": [
       "'1991-04-09'"
      ]
     },
     "execution_count": 31,
     "metadata": {},
     "output_type": "execute_result"
    }
   ],
   "source": [
    "# select the element\n",
    "details[0]\n",
    "details[1]\n",
    "details[2]"
   ]
  },
  {
   "cell_type": "code",
   "execution_count": 55,
   "id": "4a88fcf2",
   "metadata": {},
   "outputs": [
    {
     "data": {
      "text/plain": [
       "['Madurai', '1991-04-09']"
      ]
     },
     "execution_count": 55,
     "metadata": {},
     "output_type": "execute_result"
    }
   ],
   "source": [
    "# slicing operation - instance_name[start:end-1:step]\n",
    "\n",
    "#['1991-04-09'.'Madurai'] \n",
    "\n",
    "details[2:5:2]\n",
    "\n",
    "\n",
    "# ['Madurai','1991-04-09'] \n",
    "\n",
    "details[-3:-6:-2]"
   ]
  },
  {
   "cell_type": "code",
   "execution_count": null,
   "id": "915af89e",
   "metadata": {},
   "outputs": [
    {
     "data": {
      "text/plain": [
       "['98328772', 10, 'paul']"
      ]
     },
     "execution_count": 57,
     "metadata": {},
     "output_type": "execute_result"
    }
   ],
   "source": [
    "#['john', 'paul', '1991-04-09', 10, 'Madurai', '98328772', 'p&T']\n",
    "\n",
    "#['98328772',10,'paul']\n",
    "\n",
    "details[-2:-7:-2]"
   ]
  },
  {
   "cell_type": "code",
   "execution_count": 61,
   "id": "2b9594f6",
   "metadata": {},
   "outputs": [
    {
     "name": "stdout",
     "output_type": "stream",
     "text": [
      "john\n",
      "paul\n",
      "1991-04-09\n",
      "10\n",
      "Madurai\n",
      "98328772\n",
      "p&T\n"
     ]
    }
   ],
   "source": [
    "# traversing - process - iterating the elements once a time - the list - for loop, while loop\n",
    "\n",
    "# syntax\n",
    "'''\n",
    "for iterator in iterables:\n",
    "    # block of code\n",
    "\n",
    "'''\n",
    "\n",
    "for element in details:\n",
    "    print(element, end=\"\\n\")\n"
   ]
  },
  {
   "cell_type": "code",
   "execution_count": 64,
   "id": "9037d90a",
   "metadata": {},
   "outputs": [
    {
     "name": "stdout",
     "output_type": "stream",
     "text": [
      "name:john\n",
      "aadhar_number:123456789012\n",
      "address:chennai\n",
      "email:ajohnpaulantony@gmail.com\n",
      "DOB:01-01-1990\n"
     ]
    }
   ],
   "source": [
    "# dictionary traversing\n",
    "for detail in aadhar_details:\n",
    "    print(f\"{detail}:{aadhar_details[detail]}\", end=\"\\n\")"
   ]
  },
  {
   "cell_type": "code",
   "execution_count": 1,
   "id": "6c2af98b",
   "metadata": {},
   "outputs": [
    {
     "data": {
      "text/plain": [
       "['john',\n",
       " '1991-04-09',\n",
       " 10,\n",
       " 'Madurai',\n",
       " '98328772',\n",
       " 'john',\n",
       " '1991-04-09',\n",
       " 10,\n",
       " 'Madurai',\n",
       " '98328772',\n",
       " 'john',\n",
       " '1991-04-09',\n",
       " 10,\n",
       " 'Madurai',\n",
       " '98328772']"
      ]
     },
     "execution_count": 1,
     "metadata": {},
     "output_type": "execute_result"
    }
   ],
   "source": [
    "# Replication or Repetition\n",
    "\n",
    "details=[\"john\",'1991-04-09',10,'Madurai','98328772']\n",
    "details*3"
   ]
  },
  {
   "cell_type": "code",
   "execution_count": 2,
   "id": "3b120380",
   "metadata": {},
   "outputs": [
    {
     "data": {
      "text/plain": [
       "'johnjohnjohn'"
      ]
     },
     "execution_count": 2,
     "metadata": {},
     "output_type": "execute_result"
    }
   ],
   "source": [
    "name=\"john\"\n",
    "name*3"
   ]
  },
  {
   "cell_type": "code",
   "execution_count": 3,
   "id": "e4d38bed",
   "metadata": {},
   "outputs": [
    {
     "data": {
      "text/plain": [
       "100"
      ]
     },
     "execution_count": 3,
     "metadata": {},
     "output_type": "execute_result"
    }
   ],
   "source": [
    "a=10\n",
    "10**2"
   ]
  },
  {
   "cell_type": "code",
   "execution_count": 8,
   "id": "0fd91307",
   "metadata": {},
   "outputs": [],
   "source": [
    "# Looping statements\n",
    "# 1. for loop        - number of iterations, countable or sequence\n",
    "# 2. while loop      - not countable, infinite loop, condition based\n",
    "\n",
    "# CCTV camera - frames one by one - if any object is moving - blink the camera light\n",
    "\n",
    "\n",
    "frames =['1.jpg','2.jpg','OBJ','4.jpg','5.jpg']\n",
    "'''for frame in frames:\n",
    "    print(frame, end=\"\\n\")\n",
    "    '''\n",
    "i=0\n",
    "while(frames[i] == 'OBJ'):\n",
    "    print(\"The LED light it's switched on\", end=\"\\n\")\n",
    "    i+=1\n",
    "    print(frames[i], end=\"\\n\")"
   ]
  },
  {
   "cell_type": "code",
   "execution_count": 9,
   "id": "6512e12c",
   "metadata": {},
   "outputs": [
    {
     "name": "stdout",
     "output_type": "stream",
     "text": [
      "1898827729280\n",
      "1898807035840\n"
     ]
    }
   ],
   "source": [
    "li=[1,2,3,4,5,6,7,8,9,10]\n",
    "print(id(li))\n",
    "li_one=[11,12,13,14,15,16,17,18,19,20]\n",
    "li=li+li_one\n",
    "print(id(li))"
   ]
  },
  {
   "cell_type": "code",
   "execution_count": 10,
   "id": "35b48f74",
   "metadata": {},
   "outputs": [
    {
     "name": "stdout",
     "output_type": "stream",
     "text": [
      "1898828068672\n",
      "1898828068672\n"
     ]
    }
   ],
   "source": [
    "li=[1,2,3,4,5,6,7,8,9,10]\n",
    "print(id(li))\n",
    "li_one=[11,12,13,14,15,16,17,18,19,20]\n",
    "li.extend(li_one)\n",
    "print(id(li))"
   ]
  },
  {
   "cell_type": "code",
   "execution_count": 11,
   "id": "7a8fda75",
   "metadata": {},
   "outputs": [
    {
     "name": "stdout",
     "output_type": "stream",
     "text": [
      "1898828060864\n",
      "1898828010880\n"
     ]
    }
   ],
   "source": [
    "values=[1,2,3,4,5,6,7,8,9,10]\n",
    "print(id(values))\n",
    "values_dup=values.copy()\n",
    "print(id(values_dup))"
   ]
  },
  {
   "cell_type": "code",
   "execution_count": 12,
   "id": "720b38de",
   "metadata": {},
   "outputs": [],
   "source": [
    "# Deletion\n",
    "details=[\"john\",'1991-04-09',10,'Madurai','98328772']\n",
    "del details[0]"
   ]
  },
  {
   "cell_type": "code",
   "execution_count": 14,
   "id": "20d11389",
   "metadata": {},
   "outputs": [
    {
     "data": {
      "text/plain": [
       "['1991-04-09', 10, 'Madurai', '98328772']"
      ]
     },
     "execution_count": 14,
     "metadata": {},
     "output_type": "execute_result"
    }
   ],
   "source": [
    "details"
   ]
  },
  {
   "cell_type": "code",
   "execution_count": 15,
   "id": "322b4225",
   "metadata": {},
   "outputs": [],
   "source": [
    "details.remove('Madurai')"
   ]
  },
  {
   "cell_type": "code",
   "execution_count": 16,
   "id": "e0c80acb",
   "metadata": {},
   "outputs": [
    {
     "data": {
      "text/plain": [
       "['1991-04-09', 10, '98328772']"
      ]
     },
     "execution_count": 16,
     "metadata": {},
     "output_type": "execute_result"
    }
   ],
   "source": [
    "details"
   ]
  },
  {
   "cell_type": "code",
   "execution_count": 18,
   "id": "ede94a27",
   "metadata": {},
   "outputs": [
    {
     "data": {
      "text/plain": [
       "[0, 1, 2, 3, 4, 5, 6, 7, 8, 9]"
      ]
     },
     "execution_count": 18,
     "metadata": {},
     "output_type": "execute_result"
    }
   ],
   "source": [
    "# range - range(start, stop, step) - range is a function - generates a sequence of numbers - return object \n",
    "# range(0,10,1) - 0 to 9\n",
    "\n",
    "list(range(0,10,1))"
   ]
  },
  {
   "cell_type": "code",
   "execution_count": 19,
   "id": "8caa784d",
   "metadata": {},
   "outputs": [
    {
     "data": {
      "text/plain": [
       "(0, 1, 2, 3, 4, 5, 6, 7, 8, 9)"
      ]
     },
     "execution_count": 19,
     "metadata": {},
     "output_type": "execute_result"
    }
   ],
   "source": [
    "tuple(range(0,10,1))"
   ]
  },
  {
   "cell_type": "code",
   "execution_count": 20,
   "id": "169fb342",
   "metadata": {},
   "outputs": [
    {
     "data": {
      "text/plain": [
       "{0, 1, 2, 3, 4, 5, 6, 7, 8, 9}"
      ]
     },
     "execution_count": 20,
     "metadata": {},
     "output_type": "execute_result"
    }
   ],
   "source": [
    "set(range(0,10,1))"
   ]
  },
  {
   "cell_type": "code",
   "execution_count": 22,
   "id": "2c125b76",
   "metadata": {},
   "outputs": [
    {
     "data": {
      "text/plain": [
       "['john', '1991-04-09', 10, 'Madurai', '98328772']"
      ]
     },
     "execution_count": 22,
     "metadata": {},
     "output_type": "execute_result"
    }
   ],
   "source": [
    "details=[\"john\",'1991-04-09',10,'Madurai','98328772']\n",
    "details"
   ]
  },
  {
   "cell_type": "code",
   "execution_count": 24,
   "id": "edf50b48",
   "metadata": {},
   "outputs": [
    {
     "name": "stdout",
     "output_type": "stream",
     "text": [
      "['john', '1991-04-09', 'Madurai', '98328772']\n"
     ]
    }
   ],
   "source": [
    "for element in range(0,len(details)):\n",
    "    if details[element]==10:\n",
    "        del details[element]\n",
    "print(details)"
   ]
  },
  {
   "cell_type": "code",
   "execution_count": 26,
   "id": "1bb74b77",
   "metadata": {},
   "outputs": [
    {
     "data": {
      "text/plain": [
       "['john', 'Madurai']"
      ]
     },
     "execution_count": 26,
     "metadata": {},
     "output_type": "execute_result"
    }
   ],
   "source": [
    "details.pop(1)\n",
    "details"
   ]
  },
  {
   "cell_type": "code",
   "execution_count": 28,
   "id": "67de4c85",
   "metadata": {},
   "outputs": [
    {
     "data": {
      "text/plain": [
       "0"
      ]
     },
     "execution_count": 28,
     "metadata": {},
     "output_type": "execute_result"
    }
   ],
   "source": [
    "# fetch the index pos based on the element value\n",
    "\n",
    "details.index(\"john\")"
   ]
  },
  {
   "cell_type": "code",
   "execution_count": 31,
   "id": "a6483ce3",
   "metadata": {},
   "outputs": [
    {
     "data": {
      "text/plain": [
       "[10, 9, 8, 7, 6, 5, 4, 3, 2, 1]"
      ]
     },
     "execution_count": 31,
     "metadata": {},
     "output_type": "execute_result"
    }
   ],
   "source": [
    "li=[1,2,3,4,5,6,7,8,9,10]\n",
    "li.reverse()\n",
    "li"
   ]
  },
  {
   "cell_type": "code",
   "execution_count": 32,
   "id": "4dcd1964",
   "metadata": {},
   "outputs": [
    {
     "data": {
      "text/plain": [
       "[1, 2, 3, 4, 5, 6, 7, 8, 9, 10]"
      ]
     },
     "execution_count": 32,
     "metadata": {},
     "output_type": "execute_result"
    }
   ],
   "source": [
    "li=[1,2,3,4,5,6,7,8,9,10]\n",
    "li[::-1] # reverse the list\n",
    "li"
   ]
  },
  {
   "cell_type": "code",
   "execution_count": 37,
   "id": "4954694b",
   "metadata": {},
   "outputs": [
    {
     "name": "stdout",
     "output_type": "stream",
     "text": [
      "[1000, 1500, 2000, 5000, 5500, 6000, 7000, 9000, 10000]\n",
      "[10000, 9000, 7000, 6000, 5500, 5000, 2000, 1500, 1000]\n"
     ]
    }
   ],
   "source": [
    "emp_sal=[1000,2000,1500,5000,6000,7000,5500,9000,10000]\n",
    "#set(emp_sal) # unique values - set\n",
    "emp_sal.sort() # ascending order - sort\n",
    "print(emp_sal)\n",
    "emp_sal.sort(reverse=True) # descending order - sort\n",
    "print(emp_sal)\n"
   ]
  },
  {
   "cell_type": "code",
   "execution_count": 39,
   "id": "8700d475",
   "metadata": {},
   "outputs": [],
   "source": [
    "aadhar_details={\"name\":\"john\",\"aadhar_number\":123456789012,\"address\":\"bangalore\",\"phone_number\":9876543210,\"email\":\"ajohn@gmail.com\"}"
   ]
  },
  {
   "cell_type": "code",
   "execution_count": 40,
   "id": "4bac811b",
   "metadata": {},
   "outputs": [
    {
     "data": {
      "text/plain": [
       "'john'"
      ]
     },
     "execution_count": 40,
     "metadata": {},
     "output_type": "execute_result"
    }
   ],
   "source": [
    "aadhar_details['name']"
   ]
  },
  {
   "cell_type": "code",
   "execution_count": 43,
   "id": "baece7aa",
   "metadata": {},
   "outputs": [
    {
     "name": "stdout",
     "output_type": "stream",
     "text": [
      "['name', 'aadhar_number', 'address', 'phone_number', 'email']\n"
     ]
    },
    {
     "data": {
      "text/plain": [
       "dict_values(['john', 123456789012, 'bangalore', 9876543210, 'ajohn@gmail.com'])"
      ]
     },
     "execution_count": 43,
     "metadata": {},
     "output_type": "execute_result"
    }
   ],
   "source": [
    "print(list(aadhar_details.keys()))\n",
    "aadhar_details.values()"
   ]
  },
  {
   "cell_type": "code",
   "execution_count": 44,
   "id": "d385d6fa",
   "metadata": {},
   "outputs": [
    {
     "data": {
      "text/plain": [
       "dict_items([('name', 'john'), ('aadhar_number', 123456789012), ('address', 'bangalore'), ('phone_number', 9876543210), ('email', 'ajohn@gmail.com')])"
      ]
     },
     "execution_count": 44,
     "metadata": {},
     "output_type": "execute_result"
    }
   ],
   "source": [
    "aadhar_details.items()"
   ]
  },
  {
   "cell_type": "code",
   "execution_count": 45,
   "id": "74fbb335",
   "metadata": {},
   "outputs": [
    {
     "data": {
      "text/plain": [
       "'john'"
      ]
     },
     "execution_count": 45,
     "metadata": {},
     "output_type": "execute_result"
    }
   ],
   "source": [
    "aadhar_details.get('name')"
   ]
  },
  {
   "cell_type": "code",
   "execution_count": 46,
   "id": "8e3b6adb",
   "metadata": {},
   "outputs": [
    {
     "data": {
      "text/plain": [
       "('email', 'ajohn@gmail.com')"
      ]
     },
     "execution_count": 46,
     "metadata": {},
     "output_type": "execute_result"
    }
   ],
   "source": [
    "aadhar_details.popitem()"
   ]
  },
  {
   "cell_type": "code",
   "execution_count": 47,
   "id": "9f8ef5c6",
   "metadata": {},
   "outputs": [
    {
     "data": {
      "text/plain": [
       "{'name': 'john',\n",
       " 'aadhar_number': 123456789012,\n",
       " 'address': 'bangalore',\n",
       " 'phone_number': 9876543210}"
      ]
     },
     "execution_count": 47,
     "metadata": {},
     "output_type": "execute_result"
    }
   ],
   "source": [
    "aadhar_details"
   ]
  },
  {
   "cell_type": "code",
   "execution_count": 50,
   "id": "d4def263",
   "metadata": {},
   "outputs": [
    {
     "data": {
      "text/plain": [
       "{'aadhar_number': 123456789012,\n",
       " 'address': 'bangalore',\n",
       " 'phone_number': 9876543210}"
      ]
     },
     "execution_count": 50,
     "metadata": {},
     "output_type": "execute_result"
    }
   ],
   "source": [
    "aadhar_details.pop('name') \n",
    "aadhar_details "
   ]
  },
  {
   "cell_type": "code",
   "execution_count": null,
   "id": "7778eb16",
   "metadata": {},
   "outputs": [],
   "source": [
    "# Operators  a+b -> a,b - operands, + - operator\n",
    "# 1. Arithmetic Operators - +, -, *, /, %, //, **\n",
    "# 2. Relational Operators - <, >, <=, >=, ==, !=    \n",
    "# 3. Assignment Operators - =, +=, -=, *=, /=, %=, //=, **=\n",
    "# 4. Logical Operators - and, or, not\n",
    "# 5. Bitwise Operators - &, |, ^, ~, <<, >>\n",
    "# 6. Identity Operators - is, is not\n",
    "# 7. Membership Operators - in, not in\n",
    "# 8. Ternary Operators - a if condition else b\n",
    "# 9. Conditional Operators - if, else, elif "
   ]
  },
  {
   "cell_type": "code",
   "execution_count": 54,
   "id": "1e895772",
   "metadata": {},
   "outputs": [
    {
     "name": "stdout",
     "output_type": "stream",
     "text": [
      "1\n",
      "2\n",
      "3\n",
      "4\n",
      "5\n",
      "6\n",
      "7\n",
      "8\n",
      "9\n",
      "10\n"
     ]
    }
   ],
   "source": [
    "# Membership Operators - in, not in - check the element is present in the sequence or not\n",
    "# 1. in - check the element is present in the sequence or not\n",
    "# 2. not in - check the element is not present in the sequence or not\n",
    "\n",
    "li=[1,2,3,4,5,6,7,8,9,10]\n",
    "11 in li\n",
    "\n",
    "for i in li:\n",
    "    print(i)"
   ]
  },
  {
   "cell_type": "code",
   "execution_count": 58,
   "id": "7d241a9e",
   "metadata": {},
   "outputs": [
    {
     "name": "stdout",
     "output_type": "stream",
     "text": [
      "1898827888448\n",
      "1898827561472\n",
      "False\n"
     ]
    },
    {
     "data": {
      "text/plain": [
       "True"
      ]
     },
     "execution_count": 58,
     "metadata": {},
     "output_type": "execute_result"
    }
   ],
   "source": [
    "# identity operator - is, is not  - we need to check the data type as well as object is same or not - memory location\n",
    "\n",
    "a=[1,2,3]\n",
    "print(id(a)) # 140706123456064\n",
    "b=[1,2,3]\n",
    "print(id(b)) # 140706123456064\n",
    "print(a is b) # False - different memory location, data type is same, but different object\n",
    "a==b # True - same value, same data type"
   ]
  },
  {
   "cell_type": "code",
   "execution_count": 59,
   "id": "179103eb",
   "metadata": {},
   "outputs": [
    {
     "data": {
      "text/plain": [
       "True"
      ]
     },
     "execution_count": 59,
     "metadata": {},
     "output_type": "execute_result"
    }
   ],
   "source": [
    "a=10      # -5 to 256 - same memory location\n",
    "b=10\n",
    "a is b"
   ]
  },
  {
   "cell_type": "code",
   "execution_count": null,
   "id": "36868cdd",
   "metadata": {},
   "outputs": [],
   "source": [
    "# Conditional operator - if, else, elif - decision making statements - based on the condition - execute the block of code\n",
    "\n",
    "# indentation - space or tab - 4 spaces - block of code - if, else, elif, for, while, def, class, try, except, finally, with, lambda, async, await\n",
    "\n",
    "void main(){\n",
    "    if(condition){\n",
    "        // block of code\n",
    "    }else{\n",
    "        // block of code\n",
    "    }\n",
    "\n",
    "}\n",
    "\n",
    "\n",
    "def fun():\n",
    "    if condition:\n",
    "        # block of code\n",
    "    elif condition:\n",
    "        # block of code\n",
    "    else:\n",
    "        # block of code\n",
    "def fun_one():\n",
    "    if condition:\n",
    "        # block of code\n",
    "    elif condition:\n",
    "        # block of code\n",
    "    else:\n",
    "        # block of code\n",
    "for i in range(0,10):\n",
    "    if i%2==0:\n",
    "        print(f\"{i} is even\")\n",
    "    else:\n",
    "        print(f\"{i} is odd\")"
   ]
  },
  {
   "cell_type": "code",
   "execution_count": null,
   "id": "85062ceb",
   "metadata": {},
   "outputs": [],
   "source": [
    "readings = [40.5,30.5,45,6,80,0.5,0.8,1.9]\n",
    "\n",
    ">40 - []\n",
    "> 10 and <40 - []\n",
    "<10 - []"
   ]
  },
  {
   "cell_type": "code",
   "execution_count": 60,
   "id": "8c01f58b",
   "metadata": {},
   "outputs": [
    {
     "name": "stdout",
     "output_type": "stream",
     "text": [
      "Reading > 40 : [40.5, 45, 80]\n",
      "Reading > 10 and < 40 : [30.5]\n",
      "Reading < 10 : [6, 0.5, 0.8, 1.9]\n"
     ]
    }
   ],
   "source": [
    "readings = [40.5,30.5,45,6,80,0.5,0.8,1.9]\n",
    "li=[]\n",
    "li_one=[]\n",
    "li_two=[]\n",
    "for reading in readings:\n",
    "    if reading>40:\n",
    "        li.append(reading)\n",
    "    elif reading>10 and reading<40:\n",
    "        li_one.append(reading)\n",
    "    else:\n",
    "        li_two.append(reading)\n",
    "print(f\"Reading > 40 : {li}\")\n",
    "print(f\"Reading > 10 and < 40 : {li_one}\")\n",
    "print(f\"Reading < 10 : {li_two}\")\n"
   ]
  }
 ],
 "metadata": {
  "kernelspec": {
   "display_name": "Python 3",
   "language": "python",
   "name": "python3"
  },
  "language_info": {
   "codemirror_mode": {
    "name": "ipython",
    "version": 3
   },
   "file_extension": ".py",
   "mimetype": "text/x-python",
   "name": "python",
   "nbconvert_exporter": "python",
   "pygments_lexer": "ipython3",
   "version": "3.11.5"
  }
 },
 "nbformat": 4,
 "nbformat_minor": 5
}

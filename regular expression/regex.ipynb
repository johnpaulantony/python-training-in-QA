{
 "cells": [
  {
   "cell_type": "code",
   "execution_count": null,
   "id": "fba763fe",
   "metadata": {},
   "outputs": [],
   "source": [
    "# regular expression - validate data formats - python3 - re\n",
    "\n",
    "1. email validation\n",
    "2. phone number validation\n",
    "3. date validation\n",
    "4. URL validation\n",
    "5. IP address validation\n",
    "6. zip code validation"
   ]
  },
  {
   "cell_type": "code",
   "execution_count": 2,
   "id": "f6dd7505",
   "metadata": {},
   "outputs": [
    {
     "data": {
      "text/plain": [
       "False"
      ]
     },
     "execution_count": 2,
     "metadata": {},
     "output_type": "execute_result"
    }
   ],
   "source": [
    "import re\n",
    "\n",
    "def is_vaild_email(email):\n",
    "    pattern = r'^[a-zA-Z0-9._%+-]+@[a-zA-Z0-9.-]+\\.com$'\n",
    "    return re.match(pattern, email) is not None\n",
    "\n",
    "\n",
    "is_vaild_email('john@hai.org')"
   ]
  },
  {
   "cell_type": "code",
   "execution_count": null,
   "id": "be22b263",
   "metadata": {},
   "outputs": [
    {
     "name": "stdout",
     "output_type": "stream",
     "text": [
      "False\n"
     ]
    }
   ],
   "source": [
    "import re\n",
    "def validate_email(email):\n",
    "    return bool(re.match(r'^[a-zA-Z0-9._%+-]+@[a-zA-Z0-9.-]+\\.[a-zA-Z]{2,}$', str(email)))\n",
    "\n",
    "validate_email('john@hi.co')\n",
    "\n",
    "\n",
    "def is_valid_phone_number(phone):\n",
    "    return bool(re.match(r'^(?:\\+91[\\-\\s]?)*\\d{10}$', str(phone)))\n",
    "\n",
    "print(is_valid_phone_number('+91-9566113132'))"
   ]
  },
  {
   "cell_type": "code",
   "execution_count": 27,
   "id": "3b964a1f",
   "metadata": {},
   "outputs": [
    {
     "name": "stdout",
     "output_type": "stream",
     "text": [
      "\n",
      " vlidating row 1: {'email': 'john.paul@example.com', 'phone': '9566113132', 'date': '2023-10-01', 'zip_code': '560001'}\n",
      "email: john.paul@example.com is valid\n",
      "phone: 9566113132 is valid\n",
      "zip code: 560001 is valid\n",
      "date: 2023-10-01 is valid\n",
      "Row 1 is valid\n",
      "\n",
      " vlidating row 2: {'email': 'ivalid_email@', 'phone': '12345', 'date': '12-10-2025', 'zip_code': '5600'}\n",
      "email: ivalid_email@ is invalid\n",
      "phone: 12345 is invalid\n",
      "zip code: 5600 is invalid\n",
      "date: 12-10-2025 is invalid\n",
      "Row 2 is invalid\n",
      "\n",
      " vlidating row 3: {'email': 'jane.smith@gmail.com', 'phone': '+91-9876543210', 'date': '2023-10-15', 'zip_code': '56001'}\n",
      "email: jane.smith@gmail.com is valid\n",
      "phone: +91-9876543210 is valid\n",
      "zip code: 56001 is valid\n",
      "date: 2023-10-15 is valid\n",
      "Row 3 is valid\n"
     ]
    }
   ],
   "source": [
    "import re\n",
    "from datetime import datetime\n",
    "\n",
    "# sample ETL data\n",
    "\n",
    "data_rows=[\n",
    "    {'email': 'john.paul@example.com', 'phone': '9566113132', 'date': '2023-10-01', 'zip_code': '560001'},\n",
    "    {'email': 'ivalid_email@','phone': '12345', 'date': '12-10-2025', 'zip_code': '5600'},\n",
    "    {'email': 'jane.smith@gmail.com', 'phone': '+91-9876543210', 'date': '2023-10-15', 'zip_code': '56001'},\n",
    "]\n",
    "\n",
    "\n",
    "# regular expression validation functions\n",
    "\n",
    "def is_valid_email(email):\n",
    "    return bool(re.match(r'^[a-zA-Z0-9._%+-]+@[a-zA-Z0-9.-]+\\.[a-zA-Z]{2,}$', str(email)))\n",
    "\n",
    "def is_valid_phone_number(phone):\n",
    "    return bool(re.match(r'^(?:\\+91[\\-\\s]?)*\\d{10}$', str(phone)))\n",
    "\n",
    "def is_vaild_zip(zip_code):\n",
    "    return bool(re.match(r'^\\d{5,6}$', str(zip_code))) #allow 5 or 6 digit zip codes\n",
    "\n",
    "def is_valid_date_format(date_str):\n",
    "   return bool(re.match(r'^\\d{4}-\\d{2}-\\d{2}$', str(date_str)))\n",
    "\n",
    "\n",
    "# validate each row in the data using regular expressions\n",
    "for idx,row in enumerate(data_rows,start=1):\n",
    "    print(f\"\\n vlidating row {idx}: {row}\")\n",
    "\n",
    "    email_check=\"valid\" if is_valid_email(row['email']) else \"invalid\"\n",
    "    phone_check=\"valid\" if is_valid_phone_number(row['phone']) else \"invalid\"\n",
    "    zip_check=\"valid\" if is_vaild_zip(row['zip_code']) else \"invalid\"\n",
    "    date_check=\"valid\" if is_valid_date_format(row['date']) else \"invalid\"\n",
    "    print(f\"email: {row['email']} is {email_check}\")\n",
    "    print(f\"phone: {row['phone']} is {phone_check}\")\n",
    "    print(f\"zip code: {row['zip_code']} is {zip_check}\")\n",
    "    print(f\"date: {row['date']} is {date_check}\")\n",
    "    if email_check == \"valid\" and phone_check == \"valid\" and zip_check == \"valid\" and date_check == \"valid\":\n",
    "        print(f\"Row {idx} is valid\")\n",
    "    else:\n",
    "        print(f\"Row {idx} is invalid\")"
   ]
  }
 ],
 "metadata": {
  "kernelspec": {
   "display_name": "Python 3",
   "language": "python",
   "name": "python3"
  },
  "language_info": {
   "codemirror_mode": {
    "name": "ipython",
    "version": 3
   },
   "file_extension": ".py",
   "mimetype": "text/x-python",
   "name": "python",
   "nbconvert_exporter": "python",
   "pygments_lexer": "ipython3",
   "version": "3.12.3"
  }
 },
 "nbformat": 4,
 "nbformat_minor": 5
}

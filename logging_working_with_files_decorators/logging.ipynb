{
 "cells": [
  {
   "cell_type": "code",
   "execution_count": null,
   "id": "bbcd5208",
   "metadata": {},
   "outputs": [],
   "source": [
    "'''\n",
    "What is Logging?\n",
    "Logging means recording messages from your application at runtime.\n",
    "\n",
    "It helps track the flow, debug issues, or audit data processing.\n",
    "\n",
    "Logs can be saved to the console (screen), files, or external systems.\n",
    "\n",
    "\n",
    "\n",
    "Why Use Logging Instead of print()?\n",
    "Logs have levels (INFO, WARNING, ERROR, DEBUG).\n",
    "\n",
    "You can control what level to capture.\n",
    "\n",
    "Logs include timestamps, line numbers, and more.\n",
    "\n",
    "Logs can be written to files for persistent storage and review.\n",
    "\n",
    "\n",
    "Why?\n",
    "Capturing logs is crucial to debug failed test cases, audit data quality issues, and track which test failed and why.\n",
    "\n",
    "Common Use Cases:\n",
    "\n",
    "Log missing values\n",
    "\n",
    "Log data mismatch errors\n",
    "\n",
    "Log test start/end status\n",
    "\n",
    "Store logs per test run\n",
    "\n",
    "\n",
    "Logging Levels\n",
    "Level\t          Purpose\t                     Use Case Example\n",
    "DEBUG\t      Detailed diagnostic info\t            Print variable values, loop counts\n",
    "INFO\t      Confirmation of events\t            ETL job started, completed\n",
    "WARNING\t      Something unexpected, recoverable\t    Missing optional data, retrying connection\n",
    "ERROR\t      Serious problem, action needed\t    Failed DB connection, data corruption\n",
    "CRITICAL\t  Very serious error\t                System crash, data loss\n",
    "\n",
    "'''"
   ]
  },
  {
   "cell_type": "code",
   "execution_count": 1,
   "id": "d84ff36e",
   "metadata": {},
   "outputs": [
    {
     "name": "stderr",
     "output_type": "stream",
     "text": [
      "INFO:root:Script started\n",
      "INFO:root:Processing data\n",
      "INFO:root:Script completed successfully\n"
     ]
    }
   ],
   "source": [
    "'''\n",
    "1. Basic Logging for a Script\n",
    "Use case: Log steps during script execution (e.g., for ETL or automation)\n",
    "'''\n",
    "\n",
    "import logging\n",
    "\n",
    "# Configure logging\n",
    "logging.basicConfig(level=logging.INFO)\n",
    "\n",
    "logging.info(\"Script started\")\n",
    "# Do some task\n",
    "logging.info(\"Processing data\")\n",
    "# Simulate success\n",
    "logging.info(\"Script completed successfully\")\n",
    "\n"
   ]
  },
  {
   "cell_type": "code",
   "execution_count": 2,
   "id": "191eb24d",
   "metadata": {},
   "outputs": [
    {
     "name": "stderr",
     "output_type": "stream",
     "text": [
      "INFO:root:Trying to divide 10 by 2\n",
      "INFO:root:Trying to divide 5 by 0\n",
      "ERROR:root:Cannot divide by zero\n"
     ]
    }
   ],
   "source": [
    "'''\n",
    "2. Logging with Levels in a Function\n",
    "Use case: Track execution status and handle unexpected conditions\n",
    "'''\n",
    "import logging\n",
    "\n",
    "logging.basicConfig(level=logging.DEBUG)\n",
    "\n",
    "def divide(a, b):\n",
    "    logging.info(f\"Trying to divide {a} by {b}\")\n",
    "    try:\n",
    "        result = a / b\n",
    "        logging.debug(f\"Result is {result}\")\n",
    "        return result\n",
    "    except ZeroDivisionError:\n",
    "        logging.error(\"Cannot divide by zero\")\n",
    "        return None\n",
    "\n",
    "divide(10, 2)\n",
    "divide(5, 0)\n",
    "\n"
   ]
  },
  {
   "cell_type": "code",
   "execution_count": 7,
   "id": "bfab14ec",
   "metadata": {},
   "outputs": [],
   "source": [
    "''' \n",
    "3. Logging to a File\n",
    "Use case: Save logs of a long-running application or background task\n",
    "'''\n",
    "\n",
    "import logging\n",
    "\n",
    "import os\n",
    "os.makedirs(\"logs\", exist_ok=True)\n",
    "\n",
    "\n",
    "logging.basicConfig(filename='logs/app.log', level=logging.INFO,\n",
    "                    format='%(asctime)s - %(levelname)s - %(message)s',\n",
    "                    force=True)\n",
    "\n",
    "logging.info(\"Application started\")\n",
    "logging.warning(\"Low memory warning\")\n",
    "logging.error(\"Unexpected error occurred\")\n"
   ]
  },
  {
   "cell_type": "code",
   "execution_count": 8,
   "id": "5f920442",
   "metadata": {},
   "outputs": [],
   "source": [
    "import re\n",
    "from datetime import datetime\n",
    "import logging\n",
    "import os\n",
    "\n",
    "# Ensure logs directory exists\n",
    "os.makedirs(\"logs\", exist_ok=True)\n",
    "\n",
    "# Logging setup\n",
    "logging.basicConfig(\n",
    "    filename='logs/field_validation.log',\n",
    "    level=logging.ERROR,\n",
    "    format='%(asctime)s - %(levelname)s - %(message)s',\n",
    "    force=True\n",
    ")\n",
    "\n",
    "# Sample data to simulate extracted ETL records\n",
    "data_rows = [\n",
    "    {\"email\": \"john.doe@example.com\", \"phone\": \"9876543210\", \"zip\": \"560001\", \"dob\": \"1990-05-21\"},\n",
    "    {\"email\": \"invalid_email@\", \"phone\": \"12345\", \"zip\": \"5600\", \"dob\": \"21-05-1990\"},\n",
    "    {\"email\": \"jane.smith@gmail.com\", \"phone\": \"9999999999\", \"zip\": \"110001\", \"dob\": \"1985-12-15\"},\n",
    "    {\"email\": \"bad@@mail.com\", \"phone\": \"99999abc99\", \"zip\": \"ABCDE\", \"dob\": \"2023/01/01\"}\n",
    "]\n",
    "\n",
    "# Validation functions\n",
    "def is_valid_email(email):\n",
    "    return bool(re.match(r'^[\\w\\.-]+@[\\w\\.-]+\\.\\w+$', email))\n",
    "\n",
    "def is_valid_phone(phone):\n",
    "    return bool(re.match(r'^\\d{10}$', phone))\n",
    "\n",
    "def is_valid_zip(zipcode):\n",
    "    return bool(re.match(r'^\\d{5,6}$', zipcode))  # 5 or 6 digits\n",
    "\n",
    "def is_valid_date_format(date_str):\n",
    "    try:\n",
    "        datetime.strptime(date_str, \"%Y-%m-%d\")\n",
    "        return True\n",
    "    except ValueError:\n",
    "        return False\n",
    "\n",
    "# Iterate and validate each row\n",
    "for idx, row in enumerate(data_rows):\n",
    "    logging.info(f\"Validating row {idx + 1}...\")\n",
    "\n",
    "    if not is_valid_email(row[\"email\"]):\n",
    "        logging.error(f\"Row {idx + 1}: Invalid email format - {row['email']}\")\n",
    "\n",
    "    if not is_valid_phone(row[\"phone\"]):\n",
    "        logging.error(f\"Row {idx + 1}: Invalid phone number - {row['phone']}\")\n",
    "\n",
    "    if not is_valid_zip(row[\"zip\"]):\n",
    "        logging.error(f\"Row {idx + 1}: Invalid postal code - {row['zip']}\")\n",
    "\n",
    "    if not is_valid_date_format(row[\"dob\"]):\n",
    "        logging.error(f\"Row {idx + 1}: Invalid date format (expected YYYY-MM-DD) - {row['dob']}\")\n",
    "\n",
    "    logging.info(f\"Finished validation for row {idx + 1}.\\n\")\n"
   ]
  },
  {
   "cell_type": "code",
   "execution_count": 5,
   "id": "8cac5f4c",
   "metadata": {},
   "outputs": [
    {
     "data": {
      "text/plain": [
       "'c:\\\\Users\\\\JOHNJESUS\\\\OneDrive\\\\Desktop\\\\python training\\\\pythonBasics'"
      ]
     },
     "execution_count": 5,
     "metadata": {},
     "output_type": "execute_result"
    }
   ],
   "source": [
    "import os\n",
    "os.getcwd()\n"
   ]
  }
 ],
 "metadata": {
  "kernelspec": {
   "display_name": "Python 3",
   "language": "python",
   "name": "python3"
  },
  "language_info": {
   "codemirror_mode": {
    "name": "ipython",
    "version": 3
   },
   "file_extension": ".py",
   "mimetype": "text/x-python",
   "name": "python",
   "nbconvert_exporter": "python",
   "pygments_lexer": "ipython3",
   "version": "3.12.3"
  }
 },
 "nbformat": 4,
 "nbformat_minor": 5
}

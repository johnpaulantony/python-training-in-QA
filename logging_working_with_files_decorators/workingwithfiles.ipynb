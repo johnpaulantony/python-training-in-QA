{
 "cells": [
  {
   "cell_type": "code",
   "execution_count": null,
   "id": "891ec818",
   "metadata": {},
   "outputs": [],
   "source": [
    "''' \n",
    "Record count\n",
    "\n",
    "Null/missing values\n",
    "\n",
    "Data accuracy\n",
    "\n",
    "Field mapping\n",
    "\n",
    "Pattern formats (e.g., date, phone)\n",
    "\n",
    "\n",
    "\n",
    "1. Working with CSV Files in ETL Testing\n",
    "🔹 Use Case\n",
    "Compare data between source CSV file and target system\n",
    "\n",
    "Validate row count, column match, and value correctness\n",
    "\n",
    "'''"
   ]
  },
  {
   "cell_type": "code",
   "execution_count": 2,
   "id": "d897c57c",
   "metadata": {},
   "outputs": [
    {
     "name": "stdout",
     "output_type": "stream",
     "text": [
      "customer_id: No mismatches found.\n",
      "customer_name: No mismatches found.\n",
      "email: No mismatches found.\n",
      "phone: No mismatches found.\n",
      "join_date: No mismatches found.\n"
     ]
    }
   ],
   "source": [
    "import pandas as pd\n",
    "\n",
    "# Load source and target CSVs\n",
    "source_df = pd.read_csv('source_data.csv')\n",
    "target_df = pd.read_csv('target_data.csv')\n",
    "\n",
    "# Row count validation\n",
    "assert len(source_df) == len(target_df), \"Row count mismatch\"\n",
    "\n",
    "# Column-wise comparison\n",
    "for col in source_df.columns:\n",
    "    if col in target_df.columns:\n",
    "        mismatches = source_df[col].compare(target_df[col])\n",
    "        if not mismatches.empty:\n",
    "            print(f\"{col} mismatches:\\n{mismatches}\")\n",
    "        else:\n",
    "            print(f\"{col}: No mismatches found.\")\n"
   ]
  },
  {
   "cell_type": "code",
   "execution_count": 7,
   "id": "6ddb7588",
   "metadata": {},
   "outputs": [
    {
     "name": "stdout",
     "output_type": "stream",
     "text": [
      "Record 103: Email is empty\n"
     ]
    }
   ],
   "source": [
    "'''2. Working with JSON Files\n",
    "🔹 Use Case\n",
    "Load API response or config data\n",
    "\n",
    "Validate field structure and values in nested records   '''\n",
    "\n",
    "import json\n",
    "\n",
    "# Load JSON file\n",
    "with open('data.json', 'r') as f:\n",
    "    data = json.load(f)\n",
    "\n",
    "# Example: Check if all customers have an email, handle exceptions\n",
    "for record in data['customers']:\n",
    "    try:\n",
    "        assert 'email' in record, \"Missing email in record\"\n",
    "        assert record['email'] != \"\", \"Email is empty\"\n",
    "    except AssertionError as e:\n",
    "        print(f\"Record {record.get('customer_id', 'unknown')}: {e}\")\n"
   ]
  },
  {
   "cell_type": "code",
   "execution_count": 8,
   "id": "8f532146",
   "metadata": {},
   "outputs": [
    {
     "name": "stdout",
     "output_type": "stream",
     "text": [
      "   customer_id customer_name             email       phone   join_date\n",
      "0          101      John Doe  john@example.com  1234567890  2022-01-01\n",
      "1          102    Jane Smith  jane@example.com  2345678901  2022-02-15\n",
      "2          103       Bob Lee                    3456789012  2022-03-10\n"
     ]
    }
   ],
   "source": [
    "from pandas import json_normalize\n",
    "\n",
    "flat_df = json_normalize(data['customers'])\n",
    "print(flat_df.head())\n"
   ]
  },
  {
   "cell_type": "code",
   "execution_count": 8,
   "id": "7997fa73",
   "metadata": {},
   "outputs": [
    {
     "name": "stdout",
     "output_type": "stream",
     "text": [
      "Error: Row count mismatch!\n"
     ]
    }
   ],
   "source": [
    "def validate_customer_data():\n",
    "    # Load source CSV and target Excel sheet\n",
    "    src = pd.read_csv('source_customers.csv')\n",
    "    tgt = pd.read_excel('target_customer_dim.xlsx', sheet_name='CustomerDim')\n",
    "\n",
    "    # Row count check with error handling\n",
    "    try:\n",
    "        assert len(src) == len(tgt), \"Row count mismatch!\"\n",
    "    except AssertionError as e:\n",
    "        print(f\"Error: {e}\")\n",
    "        return\n",
    "\n",
    "    # Column existence check\n",
    "    for col in src.columns:\n",
    "        assert col in tgt.columns, f\"Column {col} not found in target!\"\n",
    "\n",
    "validate_customer_data()\n"
   ]
  }
 ],
 "metadata": {
  "kernelspec": {
   "display_name": "Python 3",
   "language": "python",
   "name": "python3"
  },
  "language_info": {
   "codemirror_mode": {
    "name": "ipython",
    "version": 3
   },
   "file_extension": ".py",
   "mimetype": "text/x-python",
   "name": "python",
   "nbconvert_exporter": "python",
   "pygments_lexer": "ipython3",
   "version": "3.12.3"
  }
 },
 "nbformat": 4,
 "nbformat_minor": 5
}

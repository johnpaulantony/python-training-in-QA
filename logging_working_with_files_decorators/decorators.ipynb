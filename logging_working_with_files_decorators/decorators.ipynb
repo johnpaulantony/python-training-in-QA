{
 "cells": [
  {
   "cell_type": "code",
   "execution_count": 3,
   "id": "cf349bc3",
   "metadata": {},
   "outputs": [
    {
     "name": "stdout",
     "output_type": "stream",
     "text": [
      "2\n"
     ]
    }
   ],
   "source": [
    "'''\n",
    "A decorator in Python is a design pattern that allows you to modify the behavior of a function or method without changing its actual code.\n",
    "\n",
    "Decorators are often used to add functionality to existing code in a clean and readable way.\n",
    "\n",
    "Here is a simple example of a decorator that logs the execution time of a function:\n",
    "\n",
    "A decorator is used to add extra functionality before or after a function runs — without changing the original function.\n",
    "\n",
    "\n",
    "'''\n",
    "def subtract(num1, num2):\n",
    "    return num1 - num2\n",
    "\n",
    "def sub_decorator(func):\n",
    "    def wrapper(num1, num2):\n",
    "        if num1 < num2:\n",
    "            num1, num2 = num2, num1\n",
    "        return func(num1, num2)\n",
    "    return wrapper\n",
    "\n",
    "sub = sub_decorator(subtract)\n",
    "print(sub(4, 2))\n",
    "\n"
   ]
  },
  {
   "cell_type": "code",
   "execution_count": 2,
   "id": "e6f48624",
   "metadata": {},
   "outputs": [
    {
     "name": "stdout",
     "output_type": "stream",
     "text": [
      "2\n"
     ]
    }
   ],
   "source": [
    "\n",
    "from decoradtormod import sub_decorator\n",
    "\n",
    "@sub_decorator  #core logic\n",
    "def subtract(num1,num2): # functions\n",
    "    res=num1-num2\n",
    "    return res\n",
    "\n",
    "print(subtract(2,4))"
   ]
  },
  {
   "cell_type": "code",
   "execution_count": 4,
   "id": "12051321",
   "metadata": {},
   "outputs": [
    {
     "name": "stdout",
     "output_type": "stream",
     "text": [
      "Access Denied: Only admins allowed\n",
      "Account deleted by admin\n"
     ]
    }
   ],
   "source": [
    "'''\n",
    "Access Control in a Banking App\n",
    "You want to restrict certain actions to only admin users.\n",
    "'''\n",
    "\n",
    "def only_admin(func):\n",
    "    def wrapper(user):\n",
    "        if user != 'admin':\n",
    "            print(\"Access Denied: Only admins allowed\")\n",
    "            return\n",
    "        return func(user)\n",
    "    return wrapper\n",
    "\n",
    "@only_admin\n",
    "def delete_account(user):\n",
    "    print(f\"Account deleted by {user}\")\n",
    "\n",
    "delete_account('john')   # Not admin\n",
    "delete_account('admin')  # Admin\n"
   ]
  }
 ],
 "metadata": {
  "kernelspec": {
   "display_name": "Python 3",
   "language": "python",
   "name": "python3"
  },
  "language_info": {
   "codemirror_mode": {
    "name": "ipython",
    "version": 3
   },
   "file_extension": ".py",
   "mimetype": "text/x-python",
   "name": "python",
   "nbconvert_exporter": "python",
   "pygments_lexer": "ipython3",
   "version": "3.12.3"
  }
 },
 "nbformat": 4,
 "nbformat_minor": 5
}

{
 "cells": [
  {
   "cell_type": "code",
   "execution_count": null,
   "metadata": {},
   "outputs": [],
   "source": [
    "# scope of variables\n",
    "# file handling\n",
    "# exception handling"
   ]
  },
  {
   "cell_type": "code",
   "execution_count": null,
   "metadata": {},
   "outputs": [],
   "source": [
    "'''\n",
    "scope of variables \n",
    "                    - local - create a var inside of the function. we can not access the value of the variable outside of the function \n",
    "                    - global - we can access the variables within a module\n",
    "                    - nonlocal - similar to global. it will work nested function\n",
    "\n",
    "\n",
    "\n",
    "\n",
    "'''"
   ]
  },
  {
   "cell_type": "code",
   "execution_count": 3,
   "metadata": {},
   "outputs": [
    {
     "name": "stdout",
     "output_type": "stream",
     "text": [
      "30000\n",
      "20000\n"
     ]
    }
   ],
   "source": [
    "balance=20000 # global\n",
    "\n",
    "def transaction():\n",
    "    balance=30000 #local\n",
    "    print(balance)\n",
    "\n",
    "transaction()\n",
    "\n",
    "print(balance)"
   ]
  },
  {
   "cell_type": "code",
   "execution_count": 5,
   "metadata": {},
   "outputs": [
    {
     "name": "stdout",
     "output_type": "stream",
     "text": [
      "30000\n",
      "30000\n"
     ]
    }
   ],
   "source": [
    "balance=20000 # global\n",
    "\n",
    "def transaction(): \n",
    "    global balance\n",
    "    balance=30000\n",
    "    print(balance)\n",
    "\n",
    "transaction()\n",
    "\n",
    "print(balance)"
   ]
  },
  {
   "cell_type": "code",
   "execution_count": 4,
   "metadata": {},
   "outputs": [
    {
     "name": "stdout",
     "output_type": "stream",
     "text": [
      "20000\n",
      "20000\n"
     ]
    }
   ],
   "source": [
    "balance=20000 # global\n",
    "\n",
    "def transaction():\n",
    "    print(balance)\n",
    "\n",
    "transaction()\n",
    "\n",
    "print(balance)"
   ]
  },
  {
   "cell_type": "code",
   "execution_count": 2,
   "metadata": {},
   "outputs": [
    {
     "ename": "NameError",
     "evalue": "name 'interest' is not defined",
     "output_type": "error",
     "traceback": [
      "\u001b[1;31m---------------------------------------------------------------------------\u001b[0m",
      "\u001b[1;31mNameError\u001b[0m                                 Traceback (most recent call last)",
      "Cell \u001b[1;32mIn[2], line 4\u001b[0m\n\u001b[0;32m      1\u001b[0m \u001b[38;5;28;01mdef\u001b[39;00m \u001b[38;5;21mrd_account\u001b[39m():\n\u001b[0;32m      2\u001b[0m     interest\u001b[38;5;241m=\u001b[39m\u001b[38;5;241m0.8\u001b[39m \u001b[38;5;66;03m#local\u001b[39;00m\n\u001b[1;32m----> 4\u001b[0m \u001b[38;5;28mprint\u001b[39m(\u001b[43minterest\u001b[49m)\n",
      "\u001b[1;31mNameError\u001b[0m: name 'interest' is not defined"
     ]
    }
   ],
   "source": [
    "def rd_account():\n",
    "    interest=0.8 #local\n",
    "\n",
    "print(interest)"
   ]
  },
  {
   "cell_type": "code",
   "execution_count": 8,
   "metadata": {},
   "outputs": [
    {
     "name": "stdout",
     "output_type": "stream",
     "text": [
      "AI with python\n",
      "outer course AI with python\n"
     ]
    }
   ],
   "source": [
    "def outer():\n",
    "    course='python'\n",
    "    def inner():\n",
    "        nonlocal course\n",
    "        course='AI with python'\n",
    "        print(course)\n",
    "    inner()\n",
    "    print(\"outer course\", course)\n",
    "outer()\n"
   ]
  },
  {
   "cell_type": "code",
   "execution_count": 14,
   "metadata": {},
   "outputs": [
    {
     "name": "stdout",
     "output_type": "stream",
     "text": [
      "withdrawn 2000\n",
      "withdrawn 3000\n",
      "no of transactions 2\n",
      "Available balance:5000\n"
     ]
    }
   ],
   "source": [
    "# scope of variables - Banking system\n",
    "\n",
    "balance = 10000 # global var\n",
    "\n",
    "def manage_account():\n",
    "    transaction_count =0 #local var\n",
    "    def withdraw(amount):\n",
    "        nonlocal transaction_count\n",
    "        withdraw_amount=amount # local var\n",
    "        global balance\n",
    "        if balance >=withdraw_amount:\n",
    "            balance-=withdraw_amount\n",
    "            transaction_count+=1\n",
    "            print(f\"withdrawn {withdraw_amount}\")\n",
    "        else:\n",
    "            print(\"insufficent fund\")\n",
    "    #perform transactions\n",
    "    withdraw(2000)\n",
    "    withdraw(3000)\n",
    "    print(f\"no of transactions {transaction_count}\")\n",
    "manage_account()\n",
    "print(f\"Available balance:{balance}\")\n"
   ]
  },
  {
   "cell_type": "code",
   "execution_count": null,
   "metadata": {},
   "outputs": [
    {
     "ename": "ValueError",
     "evalue": "invalid literal for int() with base 10: 'john'",
     "output_type": "error",
     "traceback": [
      "\u001b[1;31m---------------------------------------------------------------------------\u001b[0m",
      "\u001b[1;31mValueError\u001b[0m                                Traceback (most recent call last)",
      "Cell \u001b[1;32mIn[16], line 5\u001b[0m\n\u001b[0;32m      1\u001b[0m \u001b[38;5;66;03m# Exception handling \u001b[39;00m\n\u001b[0;32m      2\u001b[0m \n\u001b[0;32m      3\u001b[0m \u001b[38;5;66;03m#Exception - errors\u001b[39;00m\n\u001b[1;32m----> 5\u001b[0m a\u001b[38;5;241m=\u001b[39m\u001b[38;5;28;43mint\u001b[39;49m\u001b[43m(\u001b[49m\u001b[38;5;28;43minput\u001b[39;49m\u001b[43m(\u001b[49m\u001b[38;5;124;43m\"\u001b[39;49m\u001b[38;5;124;43menter the value\u001b[39;49m\u001b[38;5;124;43m\"\u001b[39;49m\u001b[43m)\u001b[49m\u001b[43m)\u001b[49m\n\u001b[0;32m      6\u001b[0m \u001b[38;5;28;01mif\u001b[39;00m a\u001b[38;5;241m>\u001b[39m\u001b[38;5;241m5\u001b[39m:\n\u001b[0;32m      7\u001b[0m     \u001b[38;5;28mprint\u001b[39m(a)\n",
      "\u001b[1;31mValueError\u001b[0m: invalid literal for int() with base 10: 'john'"
     ]
    }
   ],
   "source": [
    "# Exception handling \n",
    "\n",
    "#Exception - error - if any interuption occurs during program execution, your program work flow will be affected or terminated\n",
    "a=int(input(\"enter the value\"))\n",
    "if a>5:\n",
    "    print(a)\n",
    "\n",
    "print(\"hai\")\n"
   ]
  },
  {
   "cell_type": "code",
   "execution_count": 18,
   "metadata": {},
   "outputs": [
    {
     "ename": "ZeroDivisionError",
     "evalue": "division by zero",
     "output_type": "error",
     "traceback": [
      "\u001b[1;31m---------------------------------------------------------------------------\u001b[0m",
      "\u001b[1;31mZeroDivisionError\u001b[0m                         Traceback (most recent call last)",
      "Cell \u001b[1;32mIn[18], line 3\u001b[0m\n\u001b[0;32m      1\u001b[0m a\u001b[38;5;241m=\u001b[39m\u001b[38;5;241m10\u001b[39m\n\u001b[0;32m      2\u001b[0m b\u001b[38;5;241m=\u001b[39m\u001b[38;5;241m0\u001b[39m\n\u001b[1;32m----> 3\u001b[0m \u001b[43ma\u001b[49m\u001b[38;5;241;43m/\u001b[39;49m\u001b[43mb\u001b[49m\n\u001b[0;32m      4\u001b[0m \u001b[38;5;28mprint\u001b[39m(\u001b[38;5;124m\"\u001b[39m\u001b[38;5;124mhai\u001b[39m\u001b[38;5;124m\"\u001b[39m)\n\u001b[0;32m      5\u001b[0m \u001b[38;5;28;01mif\u001b[39;00m a\u001b[38;5;241m>\u001b[39mb:\n",
      "\u001b[1;31mZeroDivisionError\u001b[0m: division by zero"
     ]
    }
   ],
   "source": [
    "a=10\n",
    "b=0\n",
    "a/b\n",
    "print(\"hai\")\n",
    "if a>b:\n",
    "    print(\"a is big\")"
   ]
  },
  {
   "cell_type": "code",
   "execution_count": null,
   "metadata": {},
   "outputs": [],
   "source": [
    "'''\n",
    "how to handle the exception in python?\n",
    "           try -> except -> raise -> finally\n",
    "'''"
   ]
  },
  {
   "cell_type": "code",
   "execution_count": 20,
   "metadata": {},
   "outputs": [
    {
     "name": "stdout",
     "output_type": "stream",
     "text": [
      "you can't divide by zero\n"
     ]
    }
   ],
   "source": [
    "try:\n",
    "    # wrap of code - what you are going to excute\n",
    "    x=10/0\n",
    "    print(\"this won't execute\")\n",
    "except ZeroDivisionError:\n",
    "    # catches and handles the exception\n",
    "    print(\"you can't divide by zero\")"
   ]
  },
  {
   "cell_type": "code",
   "execution_count": null,
   "metadata": {},
   "outputs": [
    {
     "name": "stdout",
     "output_type": "stream",
     "text": [
      "0.5\n",
      "thank you\n"
     ]
    }
   ],
   "source": [
    "try:\n",
    "    # wrap of code - what you are going to excute\n",
    "    a=int(input(\"enter the value\"))\n",
    "    b=int(input(\"enter the value2\"))\n",
    "    x=a/b\n",
    "    print(x)\n",
    "except ZeroDivisionError:\n",
    "    # catches and handles the exception\n",
    "    print(\"you can't divide by zero\")\n",
    "except ValueError:\n",
    "    print(\"Please give number alone, don't give string value\")\n",
    "\n",
    "except:\n",
    "    print(\"try again\")\n",
    "finally: # always runs, whether an exception occured or not\n",
    "    print(\"thank you\")"
   ]
  },
  {
   "cell_type": "code",
   "execution_count": 29,
   "metadata": {},
   "outputs": [
    {
     "name": "stdout",
     "output_type": "stream",
     "text": [
      "Error Age Cannot be negative\n"
     ]
    }
   ],
   "source": [
    "# raise - manually raise an exception, class methods , call customized method raise block\n",
    "def validate_age(age):\n",
    "    if age<0:\n",
    "        raise ValueError(\"Age Cannot be negative\")\n",
    "    print(\"valid age\",age)\n",
    "\n",
    "try:\n",
    "    validate_age(-5)\n",
    "except ValueError as e:\n",
    "    print(\"Error\",e)"
   ]
  },
  {
   "cell_type": "code",
   "execution_count": 32,
   "metadata": {},
   "outputs": [
    {
     "name": "stdout",
     "output_type": "stream",
     "text": [
      "withdraw amount 200, remianing balance 800\n",
      "ATM transaction completed\n",
      "transaction failed Insufficent balance\n",
      "ATM transaction completed\n",
      "transaction failed Withdraw amount must  be positive\n",
      "ATM transaction completed\n"
     ]
    }
   ],
   "source": [
    "# ATM Withdrawl or online transcation\n",
    "\n",
    "def withdraw(balance,amount):\n",
    "    try:\n",
    "        if amount<=0:\n",
    "            raise ValueError(\"Withdraw amount must  be positive\")\n",
    "        if amount >=balance:\n",
    "            raise ValueError(\"Insufficent balance\")\n",
    "        balance-=amount\n",
    "        print(f\"withdraw amount {amount}, remianing balance {balance}\")\n",
    "        return balance\n",
    "    except ValueError as e:\n",
    "        print(\"transaction failed\",e)\n",
    "    finally:\n",
    "        print(\"ATM transaction completed\")\n",
    "\n",
    "# initial balance\n",
    "balance=1000\n",
    "\n",
    "# valid withdrawl\n",
    "balance=withdraw(balance,200)\n",
    "\n",
    "# withdrawl more than balance\n",
    "balance=withdraw(balance,900)\n",
    "\n",
    "# ivalid amount\n",
    "balance=withdraw(balance,-100)"
   ]
  }
 ],
 "metadata": {
  "kernelspec": {
   "display_name": "Python 3",
   "language": "python",
   "name": "python3"
  },
  "language_info": {
   "codemirror_mode": {
    "name": "ipython",
    "version": 3
   },
   "file_extension": ".py",
   "mimetype": "text/x-python",
   "name": "python",
   "nbconvert_exporter": "python",
   "pygments_lexer": "ipython3",
   "version": "3.12.8"
  }
 },
 "nbformat": 4,
 "nbformat_minor": 2
}

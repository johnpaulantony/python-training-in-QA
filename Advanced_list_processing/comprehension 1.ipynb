{
 "cells": [
  {
   "cell_type": "code",
   "execution_count": null,
   "metadata": {},
   "outputs": [],
   "source": [
    "# Comprehension - concise way to create a collections - lists, dict, set\n",
    "# list, nested list, dict, nested dict\n",
    "\n",
    "object_name=[expression for item in iterbales if condition]"
   ]
  },
  {
   "cell_type": "code",
   "execution_count": 1,
   "metadata": {},
   "outputs": [
    {
     "name": "stdout",
     "output_type": "stream",
     "text": [
      "[1, 4, 9, 16, 25]\n"
     ]
    }
   ],
   "source": [
    "# Traditional way\n",
    "li=[1,2,3,4,5]\n",
    "li_new=[]\n",
    "for element in li:\n",
    "    sqr_number=element**2\n",
    "    li_new.append(sqr_number)\n",
    "\n",
    "print(li_new)"
   ]
  },
  {
   "cell_type": "code",
   "execution_count": 2,
   "metadata": {},
   "outputs": [
    {
     "name": "stdout",
     "output_type": "stream",
     "text": [
      "[1, 4, 9, 16, 25]\n"
     ]
    }
   ],
   "source": [
    "# Comprehension\n",
    "li=[1,2,3,4,5]\n",
    "li_new=[element**2 for element in li]\n",
    "print(li_new)"
   ]
  },
  {
   "cell_type": "code",
   "execution_count": 4,
   "metadata": {},
   "outputs": [
    {
     "name": "stdout",
     "output_type": "stream",
     "text": [
      "['potato', 'tomato', 'carrot']\n"
     ]
    }
   ],
   "source": [
    "items=['potato','tomato','meat','carrot']\n",
    "veg=[]\n",
    "for item in items:\n",
    "    if item == 'meat':\n",
    "        continue\n",
    "    else:\n",
    "        veg.append(item)\n",
    "print(veg)\n"
   ]
  },
  {
   "cell_type": "code",
   "execution_count": 5,
   "metadata": {},
   "outputs": [
    {
     "name": "stdout",
     "output_type": "stream",
     "text": [
      "['potato', 'tomato', 'carrot']\n"
     ]
    }
   ],
   "source": [
    "items=['potato','tomato','meat','carrot']\n",
    "veg=[item for item in items if item != 'meat']\n",
    "print(veg)"
   ]
  },
  {
   "cell_type": "code",
   "execution_count": 6,
   "metadata": {},
   "outputs": [
    {
     "name": "stdout",
     "output_type": "stream",
     "text": [
      "[850, 2125, 4250, 6375]\n"
     ]
    }
   ],
   "source": [
    "# Transformation - usd_prices=[10,25,50,75] usd - inr - []*85\n",
    "\n",
    "usd_prices=[10,25,50,75]\n",
    "\n",
    "#transform into inr\n",
    "inr_prices=[price*85 for price in usd_prices]\n",
    "\n",
    "print(inr_prices)"
   ]
  },
  {
   "cell_type": "code",
   "execution_count": 7,
   "metadata": {},
   "outputs": [
    {
     "name": "stdout",
     "output_type": "stream",
     "text": [
      "[25, 35, 45]\n"
     ]
    }
   ],
   "source": [
    "# data cleaning raw_ages =[25,35,-1,200,45]\n",
    "# fliter out the invalid customer ages during transforamtion ( ignore -ve or over 120)\n",
    "\n",
    "raw_ages=[25,35,-1,200,45]\n",
    "cleaned_ages=[age for age in raw_ages if 0<age<120]\n",
    "print(cleaned_ages)"
   ]
  },
  {
   "cell_type": "code",
   "execution_count": 8,
   "metadata": {},
   "outputs": [
    {
     "name": "stdout",
     "output_type": "stream",
     "text": [
      "[[71.6, 75.2, 69.8], [73.4, 77.0, 68.0], [66.2, 69.8, 71.6]]\n"
     ]
    }
   ],
   "source": [
    "# syntax nested list comprehension [[]]\n",
    "\n",
    "celsius_readings=[\n",
    "    [22,24,21],\n",
    "    [23,25,20],\n",
    "    [19,21,22]\n",
    "]\n",
    "\n",
    "far_readings=[[(((temp*9/5))+32) for temp in row]for row in celsius_readings]\n",
    "print(far_readings)"
   ]
  },
  {
   "cell_type": "code",
   "execution_count": 9,
   "metadata": {},
   "outputs": [
    {
     "data": {
      "text/plain": [
       "1000"
      ]
     },
     "execution_count": 9,
     "metadata": {},
     "output_type": "execute_result"
    }
   ],
   "source": [
    "product={'name':'Laptop','price':1000}\n",
    "product['price']"
   ]
  },
  {
   "cell_type": "code",
   "execution_count": 12,
   "metadata": {},
   "outputs": [
    {
     "name": "stdout",
     "output_type": "stream",
     "text": [
      "[{'name': 'Laptop', 'price': 900.0}, {'name': 'Phone', 'price': 450.0}]\n"
     ]
    }
   ],
   "source": [
    "# list of dictionary comprehension\n",
    "products=[\n",
    "    {'name':'Laptop','price':1000},\n",
    "    {'name':'Phone','price':500},\n",
    "    {'name':'Tablet','price':300},\n",
    "    {'name':'Monitor','price':150}\n",
    "]\n",
    "threshold_price=400\n",
    "discounted_products=[{'name':product['name'],'price':product['price']*0.9}for product in products if product['price']>=400]\n",
    "print(discounted_products)"
   ]
  },
  {
   "cell_type": "code",
   "execution_count": 15,
   "metadata": {},
   "outputs": [
    {
     "name": "stdout",
     "output_type": "stream",
     "text": [
      "{'Eng': {'paul': 102, 'kala': 104}, 'marketing': {'antony': 101, 'joha': 103}}\n"
     ]
    }
   ],
   "source": [
    "# nested dict comprehension\n",
    "departments =[\"Eng\",\"marketing\"]\n",
    "employees=[\n",
    "    {'name':'antony','id':101},\n",
    "    {'name':'paul','id':102},\n",
    "    {'name':'joha','id':103},\n",
    "    {'name':'kala','id':104}\n",
    "\n",
    "]\n",
    "\n",
    "nested_dict={\n",
    "     dept:{emp['name']:emp['id'] for emp in employees if (dept == 'Eng' and emp['id']%2==0) or (dept == 'marketing' and emp['id']%2!=0)}for dept in departments\n",
    "}\n",
    "\n",
    "print(nested_dict)\n",
    "\n",
    "# result\n",
    "#{'Eng':{'paul':102,'kala':104},'marketing':{'antony':101,'joha':103}}"
   ]
  }
 ],
 "metadata": {
  "kernelspec": {
   "display_name": "Python 3",
   "language": "python",
   "name": "python3"
  },
  "language_info": {
   "codemirror_mode": {
    "name": "ipython",
    "version": 3
   },
   "file_extension": ".py",
   "mimetype": "text/x-python",
   "name": "python",
   "nbconvert_exporter": "python",
   "pygments_lexer": "ipython3",
   "version": "3.12.8"
  }
 },
 "nbformat": 4,
 "nbformat_minor": 2
}

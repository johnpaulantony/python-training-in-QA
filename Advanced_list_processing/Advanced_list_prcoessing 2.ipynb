{
 "cells": [
  {
   "cell_type": "code",
   "execution_count": null,
   "metadata": {},
   "outputs": [],
   "source": [
    "'''\n",
    "Agenda -> Advanced list processing\n",
    "        - Comprehension - List, nested list, dict, nested dict\n",
    "        - function - fruitful vs void\n",
    "        - lambda, map, filter, reduce\n",
    "        - zip, unzip\n",
    "        - enumerate\n",
    "        - any /all\n",
    "        - sorted\n",
    "'''"
   ]
  },
  {
   "cell_type": "code",
   "execution_count": null,
   "metadata": {},
   "outputs": [],
   "source": [
    "employees = ['Alice', 'Bob', 'Charlie', 'Diana']\n",
    "projects_handled = [3, 4, 2, 5]\n",
    "performance_scores = [[80, 85, 90], [60, 75, 70, 65], [90, 95], [88, 92, 85, 80, 78]]\n",
    "\n",
    "\n",
    "branches = ['North', 'South', 'East', 'West']\n",
    "weekly_sales = [[1000, 1100, 1050], [900, 950, 870], [1300, 1250, 1280], [700, 650, 600]]\n",
    "expenses = [700, 600, 800, 550]  # Weekly average expenses per branch\n",
    "\n",
    "\n"
   ]
  },
  {
   "cell_type": "code",
   "execution_count": 2,
   "metadata": {},
   "outputs": [
    {
     "name": "stdout",
     "output_type": "stream",
     "text": [
      "[{'id': 'T1', 'amount': 5000}, {'id': 'T2', 'amount': 15000}]\n"
     ]
    }
   ],
   "source": [
    "# ignore the invalid transactions\n",
    "transactions = [\n",
    "    {\"id\": \"T1\", \"amount\": 5000},\n",
    "    {\"id\": None, \"amount\": 1000},\n",
    "    {\"id\": \"T2\", \"amount\": 15000}\n",
    "]\n",
    "\n",
    "vaild_transactions=[transaction for transaction in transactions if transaction['id'] and transaction['amount']>0]\n",
    "\n",
    "print(vaild_transactions)\n",
    "\n",
    "#[{'id': 'T1', 'amount': 5000}, {'id': 'T2', 'amount': 15000}]\n"
   ]
  },
  {
   "cell_type": "code",
   "execution_count": 3,
   "metadata": {},
   "outputs": [
    {
     "name": "stdout",
     "output_type": "stream",
     "text": [
      "['Pen', 'Book', 'Pencil', 'Eraser']\n"
     ]
    }
   ],
   "source": [
    "# nested list comprehension - extract all products sold across all orders\n",
    "orders = [\n",
    "    {\"id\": \"O1\", \"items\": [{\"product\": \"Pen\"}, {\"product\": \"Book\"}]},\n",
    "    {\"id\": \"O2\", \"items\": [{\"product\": \"Pencil\"}, {\"product\": \"Eraser\"}]}\n",
    "]\n",
    "\n",
    "#['Pen', 'Book', 'Pencil', 'Eraser']\n",
    "\n",
    "all_products=[item['product'] for order in orders for item in order['items'] ]\n",
    "print(all_products)\n"
   ]
  },
  {
   "cell_type": "code",
   "execution_count": 5,
   "metadata": {},
   "outputs": [
    {
     "name": "stdout",
     "output_type": "stream",
     "text": [
      "['alice@mail.com', 'bob@mail.com', 'eve@mail.com', 'mallory@mail.com']\n"
     ]
    }
   ],
   "source": [
    "# flatten nested list of customer emails from regions\n",
    "regions = [\n",
    "    [\"alice@mail.com\", \"bob@mail.com\"],\n",
    "    [\"eve@mail.com\", \"mallory@mail.com\"]\n",
    "]\n",
    "\n",
    "#['alice@mail.com', 'bob@mail.com', 'eve@mail.com', 'mallory@mail.com']\n",
    "\n",
    "customer_emails=[email for sublist in regions for email in sublist]\n",
    "print(customer_emails)"
   ]
  },
  {
   "cell_type": "code",
   "execution_count": null,
   "metadata": {},
   "outputs": [],
   "source": [
    "# sorted()\n",
    "orders = [\n",
    "    {\"id\": \"O1\", \"amount\": 4500},\n",
    "    {\"id\": \"O2\", \"amount\": 30000},\n",
    "    {\"id\": \"O3\", \"amount\": 1500}\n",
    "]\n",
    "\n",
    "[{'id': 'O2', 'amount': 30000}, {'id': 'O1', 'amount': 4500}, {'id': 'O3', 'amount': 1500}]\n"
   ]
  },
  {
   "cell_type": "code",
   "execution_count": 10,
   "metadata": {},
   "outputs": [
    {
     "name": "stdout",
     "output_type": "stream",
     "text": [
      "john\n",
      "john\n",
      "None\n"
     ]
    }
   ],
   "source": [
    "# function - fruitful , void \n",
    "\n",
    "# fruitful function - with return type\n",
    "def display(msg):\n",
    "    return msg\n",
    "print(display('john'))\n",
    "\n",
    "# void function - without return type\n",
    "def display(msg):\n",
    "    print(msg)\n",
    "print(display('john'))"
   ]
  },
  {
   "cell_type": "code",
   "execution_count": 11,
   "metadata": {},
   "outputs": [
    {
     "name": "stdout",
     "output_type": "stream",
     "text": [
      "john\n"
     ]
    },
    {
     "data": {
      "text/plain": [
       "'john'"
      ]
     },
     "execution_count": 11,
     "metadata": {},
     "output_type": "execute_result"
    }
   ],
   "source": [
    "# advanced list processing - lambda opeartor or function\n",
    "\n",
    "# anonymous function - function without name, declaring var will act as a function \n",
    "# - lambda - inline function - create small anonymous function\n",
    "#syntax : instance_name=lambda arguments:expression\n",
    "\n",
    "def display(msg):\n",
    "    return msg\n",
    "print(display('john'))\n",
    "\n",
    "display=lambda msg:msg\n",
    "display('john')"
   ]
  },
  {
   "cell_type": "code",
   "execution_count": 13,
   "metadata": {},
   "outputs": [
    {
     "name": "stdout",
     "output_type": "stream",
     "text": [
      "[1, 3, 5]\n"
     ]
    }
   ],
   "source": [
    "# lambda function - map() or filter() or reduce()\n",
    "\n",
    "#[1,2,3,4,5,6] - [1,3,5]\n",
    "li_new=[]\n",
    "def odd(li):\n",
    "    for element in li:\n",
    "        if element%2!=0:\n",
    "            li_new.append(element)\n",
    "odd([1,2,3,4,5])\n",
    "        \n",
    "print(li_new)\n"
   ]
  },
  {
   "cell_type": "code",
   "execution_count": 31,
   "metadata": {},
   "outputs": [
    {
     "ename": "TypeError",
     "evalue": "must be real number, not list",
     "output_type": "error",
     "traceback": [
      "\u001b[1;31m---------------------------------------------------------------------------\u001b[0m",
      "\u001b[1;31mTypeError\u001b[0m                                 Traceback (most recent call last)",
      "Cell \u001b[1;32mIn[31], line 4\u001b[0m\n\u001b[0;32m      2\u001b[0m li\u001b[38;5;241m=\u001b[39m[\u001b[38;5;241m1\u001b[39m,\u001b[38;5;241m2\u001b[39m,\u001b[38;5;241m3\u001b[39m,\u001b[38;5;241m4\u001b[39m] \u001b[38;5;66;03m# [1.0,1.414,1.7321,2.0]\u001b[39;00m\n\u001b[0;32m      3\u001b[0m li_new\u001b[38;5;241m=\u001b[39m\u001b[38;5;28;01mlambda\u001b[39;00m element : math\u001b[38;5;241m.\u001b[39msqrt(element)\n\u001b[1;32m----> 4\u001b[0m \u001b[38;5;28mprint\u001b[39m(\u001b[43mli_new\u001b[49m\u001b[43m(\u001b[49m\u001b[43mli\u001b[49m\u001b[43m)\u001b[49m)\n",
      "Cell \u001b[1;32mIn[31], line 3\u001b[0m, in \u001b[0;36m<lambda>\u001b[1;34m(element)\u001b[0m\n\u001b[0;32m      1\u001b[0m \u001b[38;5;28;01mimport\u001b[39;00m \u001b[38;5;21;01mmath\u001b[39;00m\n\u001b[0;32m      2\u001b[0m li\u001b[38;5;241m=\u001b[39m[\u001b[38;5;241m1\u001b[39m,\u001b[38;5;241m2\u001b[39m,\u001b[38;5;241m3\u001b[39m,\u001b[38;5;241m4\u001b[39m] \u001b[38;5;66;03m# [1.0,1.414,1.7321,2.0]\u001b[39;00m\n\u001b[1;32m----> 3\u001b[0m li_new\u001b[38;5;241m=\u001b[39m\u001b[38;5;28;01mlambda\u001b[39;00m element : \u001b[43mmath\u001b[49m\u001b[38;5;241;43m.\u001b[39;49m\u001b[43msqrt\u001b[49m\u001b[43m(\u001b[49m\u001b[43melement\u001b[49m\u001b[43m)\u001b[49m\n\u001b[0;32m      4\u001b[0m \u001b[38;5;28mprint\u001b[39m(li_new(li))\n",
      "\u001b[1;31mTypeError\u001b[0m: must be real number, not list"
     ]
    }
   ],
   "source": [
    "import math\n",
    "li=[1,2,3,4] # [1.0,1.414,1.7321,2.0]\n",
    "li_new=lambda element : math.sqrt(element)\n",
    "print(li_new(li))"
   ]
  },
  {
   "cell_type": "code",
   "execution_count": 32,
   "metadata": {},
   "outputs": [
    {
     "name": "stdout",
     "output_type": "stream",
     "text": [
      "[1.0, 1.4142135623730951, 1.7320508075688772, 2.0]\n"
     ]
    }
   ],
   "source": [
    "# syntax - map(function,iterables) -to apply a single function to all the elements in single execution\n",
    "\n",
    "li=[1,2,3,4]\n",
    "import math\n",
    "li_new=[]\n",
    "for element in li:\n",
    "    sqrt_ele=math.sqrt(element)\n",
    "    li_new.append(sqrt_ele)\n",
    "\n",
    "print(li_new)"
   ]
  },
  {
   "cell_type": "code",
   "execution_count": 34,
   "metadata": {},
   "outputs": [
    {
     "data": {
      "text/plain": [
       "[1.0, 1.4142135623730951, 1.7320508075688772, 2.0]"
      ]
     },
     "execution_count": 34,
     "metadata": {},
     "output_type": "execute_result"
    }
   ],
   "source": [
    "import math\n",
    "li=[1,2,3,4]\n",
    "li_new=list(map(lambda element : math.sqrt(element),li))\n",
    "li_new"
   ]
  },
  {
   "cell_type": "code",
   "execution_count": 35,
   "metadata": {},
   "outputs": [
    {
     "name": "stdout",
     "output_type": "stream",
     "text": [
      "[2, 4]\n"
     ]
    }
   ],
   "source": [
    "# filter(function with condition,iterbales)\n",
    "li=[1,2,3,4]\n",
    "filter_odd=list(filter(lambda element:element %2 == 0 , li))\n",
    "print(filter_odd)\n"
   ]
  },
  {
   "cell_type": "code",
   "execution_count": 36,
   "metadata": {},
   "outputs": [
    {
     "data": {
      "text/plain": [
       "10"
      ]
     },
     "execution_count": 36,
     "metadata": {},
     "output_type": "execute_result"
    }
   ],
   "source": [
    "# reduce - to reduce the elements into single value - return the single value\n",
    "\n",
    "li=[1,2,3,4]\n",
    "from functools import reduce\n",
    "sum_ele=reduce(lambda x,y : x+y,li)\n",
    "sum_ele"
   ]
  },
  {
   "cell_type": "code",
   "execution_count": 37,
   "metadata": {},
   "outputs": [],
   "source": [
    "employees = ['Alice', 'Bob', 'Charlie', 'Diana']\n",
    "projects_handled = [3, 4, 2, 5]\n",
    "performance_scores = [[80, 85, 90], [60, 75, 70, 65], [90, 95], [88, 92, 85, 80, 78]]"
   ]
  },
  {
   "cell_type": "code",
   "execution_count": 40,
   "metadata": {},
   "outputs": [
    {
     "name": "stdout",
     "output_type": "stream",
     "text": [
      "[[0.8, 0.85, 0.9], [0.6, 0.75, 0.7, 0.65], [0.9, 0.95], [0.88, 0.92, 0.85, 0.8, 0.78]]\n"
     ]
    }
   ],
   "source": [
    "# Normalize scores to a scale 0-1\n",
    "\n",
    "normalized_scores=list(map(lambda scores:list(map(lambda x:x/100,scores)),performance_scores))\n",
    "print(normalized_scores)"
   ]
  },
  {
   "cell_type": "code",
   "execution_count": 41,
   "metadata": {},
   "outputs": [
    {
     "data": {
      "text/plain": [
       "[255, 270, 185, 423]"
      ]
     },
     "execution_count": 41,
     "metadata": {},
     "output_type": "execute_result"
    }
   ],
   "source": [
    "# total score per employee\n",
    "from functools import reduce\n",
    "total_score =list(map(lambda scores:reduce(lambda a,b : a+b,scores),performance_scores))\n",
    "total_score"
   ]
  },
  {
   "cell_type": "code",
   "execution_count": 6,
   "metadata": {},
   "outputs": [
    {
     "name": "stdout",
     "output_type": "stream",
     "text": [
      "[2, 4, 6, 8, 10]\n",
      "[4, 8, 12, 16, 20]\n",
      "60\n"
     ]
    }
   ],
   "source": [
    "from functools import reduce\n",
    "items=[1,2,3,4,5,6,7,8,9,10]\n",
    "\n",
    "filter_element=filter(lambda element:element%2==0,items)\n",
    "print(list(filter_element))\n",
    "\n",
    "\n",
    "map_element = map(lambda element:element*2,filter(lambda element:element%2==0,items))\n",
    "print(list(map_element))\n",
    "\n",
    "sum_elements=reduce(lambda x,y:x+y,map(lambda element:element*2,filter(lambda element:element%2==0,items)))\n",
    "print(sum_elements)"
   ]
  },
  {
   "cell_type": "code",
   "execution_count": 7,
   "metadata": {},
   "outputs": [],
   "source": [
    "employees = ['Alice', 'Bob', 'Charlie', 'Diana']\n",
    "projects_handled = [3, 4, 2, 5]\n",
    "performance_scores = [[80, 85, 90], [60, 75, 70, 65], [90, 95], [88, 92, 85, 80, 78]]"
   ]
  },
  {
   "cell_type": "code",
   "execution_count": 9,
   "metadata": {},
   "outputs": [
    {
     "data": {
      "text/plain": [
       "[0, 1, 2, 3]"
      ]
     },
     "execution_count": 9,
     "metadata": {},
     "output_type": "execute_result"
    }
   ],
   "source": [
    "list(range(len(total_score)))"
   ]
  },
  {
   "cell_type": "code",
   "execution_count": 14,
   "metadata": {},
   "outputs": [
    {
     "name": "stdout",
     "output_type": "stream",
     "text": [
      "['Alice', 'Bob', 'Diana']\n"
     ]
    }
   ],
   "source": [
    "# Find employees with total score above 250\n",
    "# total score per employee\n",
    "from functools import reduce\n",
    "total_score =list(map(lambda scores:reduce(lambda a,b : a+b,scores),performance_scores))\n",
    "total_score\n",
    "\n",
    "top_performers=filter(lambda i:total_score[i]>250,range(len(total_score)))\n",
    "\n",
    "\n",
    "result=[employees[i] for i in top_performers]\n",
    "print(result)\n"
   ]
  },
  {
   "cell_type": "code",
   "execution_count": 19,
   "metadata": {},
   "outputs": [
    {
     "name": "stdout",
     "output_type": "stream",
     "text": [
      "[('Alice', 255), ('Bob', 270), ('Charlie', 185), ('Diana', 423)]\n"
     ]
    }
   ],
   "source": [
    "# Pair names and total scores eg[('Alice',255), ..... ]\n",
    "\n",
    "# zip() - combine or merge the lists of elements , it's based on the index position matched\n",
    "# zip() - combines elements from muliple iterbales into tuples\n",
    "\n",
    "li=[1,2,3]\n",
    "li_new=[5,6,7,8]\n",
    "list(zip(li_new,li))\n",
    "\n",
    "pair_names=list(zip(employees,total_score))\n",
    "print(pair_names)"
   ]
  },
  {
   "cell_type": "code",
   "execution_count": 21,
   "metadata": {},
   "outputs": [
    {
     "name": "stdout",
     "output_type": "stream",
     "text": [
      "['Alice', 'Bob', 'Charlie', 'Diana']\n",
      "[255, 270, 185, 423]\n"
     ]
    }
   ],
   "source": [
    "# unzip() - unpacking or unzip a zipped list\n",
    "\n",
    "name,score=zip(*pair_names)\n",
    "print(list(name))\n",
    "print(list(score))"
   ]
  },
  {
   "cell_type": "code",
   "execution_count": 25,
   "metadata": {},
   "outputs": [
    {
     "data": {
      "text/plain": [
       "[('Diana', 423), ('Bob', 270), ('Alice', 255), ('Charlie', 185)]"
      ]
     },
     "execution_count": 25,
     "metadata": {},
     "output_type": "execute_result"
    }
   ],
   "source": [
    "# sort employees by score (large to small order) - sorted(iterables, key=function, reverse=True)\n",
    "\n",
    "sorted_employees=sorted(pair_names,key=lambda x:x[1], reverse=True)\n",
    "sorted_employees"
   ]
  },
  {
   "cell_type": "code",
   "execution_count": 28,
   "metadata": {},
   "outputs": [
    {
     "data": {
      "text/plain": [
       "[(1, ('Diana', 423)),\n",
       " (2, ('Bob', 270)),\n",
       " (3, ('Alice', 255)),\n",
       " (4, ('Charlie', 185))]"
      ]
     },
     "execution_count": 28,
     "metadata": {},
     "output_type": "execute_result"
    }
   ],
   "source": [
    "#add rank index to sorted employees\n",
    "# enumerate - track the index(like rank) during iteration\n",
    "ranked=list(enumerate(sorted_employees,start=1))\n",
    "ranked"
   ]
  },
  {
   "cell_type": "code",
   "execution_count": 29,
   "metadata": {},
   "outputs": [
    {
     "data": {
      "text/plain": [
       "True"
      ]
     },
     "execution_count": 29,
     "metadata": {},
     "output_type": "execute_result"
    }
   ],
   "source": [
    "# any() - any checks if atleast one condition is True / all() - checks if every condition is TRue function\n",
    "#Did any employee score below 200?\n",
    "\n",
    "#[255, 270, 185, 423]\n",
    "\n",
    "any(score <200 for score in total_score)"
   ]
  },
  {
   "cell_type": "code",
   "execution_count": 30,
   "metadata": {},
   "outputs": [
    {
     "data": {
      "text/plain": [
       "True"
      ]
     },
     "execution_count": 30,
     "metadata": {},
     "output_type": "execute_result"
    }
   ],
   "source": [
    "#Did all employee score above 150?\n",
    "all(score > 150 for score in total_score)"
   ]
  },
  {
   "cell_type": "code",
   "execution_count": null,
   "metadata": {},
   "outputs": [],
   "source": [
    "map()\n",
    "    - currency conversion\n",
    "    - data type conversion\n",
    "\n",
    "filter()\n",
    "    - data filtering\n",
    "    - email validation, phone number validation, invalid data \n",
    "    - Null values\n",
    "\n",
    "reduce()\n",
    "     - cumuleative maths operations ( total salary in an organzation)\n",
    "     - max, min"
   ]
  },
  {
   "cell_type": "code",
   "execution_count": 35,
   "metadata": {},
   "outputs": [
    {
     "name": "stdout",
     "output_type": "stream",
     "text": [
      "<class 'list'>\n",
      "<class 'str'>\n",
      "<class 'str'>\n",
      "<class 'str'>\n",
      "<class 'str'>\n",
      "[1, 2, 3, 4]\n",
      "<class 'int'>\n",
      "<class 'int'>\n",
      "<class 'int'>\n",
      "<class 'int'>\n"
     ]
    }
   ],
   "source": [
    "str_numbers=['1','2','3','4']\n",
    "print(type(str_numbers))\n",
    "for i in str_numbers:\n",
    "    print(type(i))\n",
    "int_numbers=list(map(int, str_numbers))\n",
    "print(int_numbers)\n",
    "for i in int_numbers:\n",
    "    print(type(i))"
   ]
  },
  {
   "cell_type": "code",
   "execution_count": 36,
   "metadata": {},
   "outputs": [
    {
     "data": {
      "text/plain": [
       "['invalid_email', 'another_invalid']"
      ]
     },
     "execution_count": 36,
     "metadata": {},
     "output_type": "execute_result"
    }
   ],
   "source": [
    "# Data validation\n",
    "email_address=['john@gmail.com','invalid_email','joe@example.com','another_invalid']\n",
    "\n",
    "invalid_emails=list(filter(lambda email:\"@\" not in email and \".\" not in email,email_address))\n",
    "invalid_emails"
   ]
  },
  {
   "cell_type": "code",
   "execution_count": 37,
   "metadata": {},
   "outputs": [
    {
     "data": {
      "text/plain": [
       "[{'name': 'bala', 'age': 38},\n",
       " {'name': 'john', 'age': 34},\n",
       " {'name': 'kala', 'age': 30},\n",
       " {'name': 'joe', 'age': 18}]"
      ]
     },
     "execution_count": 37,
     "metadata": {},
     "output_type": "execute_result"
    }
   ],
   "source": [
    "# sorting data\n",
    "data=[\n",
    "    {'name':'john',\n",
    "     'age':34},\n",
    "     {'name':'joe',\n",
    "     'age':18},\n",
    "     {'name':'kala',\n",
    "     'age':30},\n",
    "     {'name':'bala',\n",
    "     'age':38},\n",
    "]\n",
    "\n",
    "sorted(data,key=lambda x:x['age'],reverse=True)"
   ]
  },
  {
   "cell_type": "code",
   "execution_count": 39,
   "metadata": {},
   "outputs": [
    {
     "data": {
      "text/plain": [
       "[1, 3, 'hello']"
      ]
     },
     "execution_count": 39,
     "metadata": {},
     "output_type": "execute_result"
    }
   ],
   "source": [
    "# removing Null or Empty values\n",
    "data=[1,None,3,'','hello',None]\n",
    "filtered_data=list(filter(lambda value:value is not None and value!='',data))\n",
    "filtered_data"
   ]
  },
  {
   "cell_type": "code",
   "execution_count": 42,
   "metadata": {},
   "outputs": [
    {
     "data": {
      "text/plain": [
       "14"
      ]
     },
     "execution_count": 42,
     "metadata": {},
     "output_type": "execute_result"
    }
   ],
   "source": [
    "words=['john','johnpaul','johnpaulantony']\n",
    "longest_length=reduce(lambda x,y: x if x>y else y , map(len,words))\n",
    "longest_length"
   ]
  }
 ],
 "metadata": {
  "kernelspec": {
   "display_name": "Python 3",
   "language": "python",
   "name": "python3"
  },
  "language_info": {
   "codemirror_mode": {
    "name": "ipython",
    "version": 3
   },
   "file_extension": ".py",
   "mimetype": "text/x-python",
   "name": "python",
   "nbconvert_exporter": "python",
   "pygments_lexer": "ipython3",
   "version": "3.12.8"
  }
 },
 "nbformat": 4,
 "nbformat_minor": 2
}
